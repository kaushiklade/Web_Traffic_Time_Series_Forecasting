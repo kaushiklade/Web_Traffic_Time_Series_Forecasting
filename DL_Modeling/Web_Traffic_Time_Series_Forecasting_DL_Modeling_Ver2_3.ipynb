{
 "cells": [
  {
   "cell_type": "raw",
   "metadata": {
    "colab": {
     "base_uri": "https://localhost:8080/",
     "height": 122
    },
    "colab_type": "code",
    "id": "Vo4wtYgeGMue",
    "outputId": "52f33be7-1a6a-4ebb-934d-e71acf8fc197"
   },
   "source": [
    "from google.colab import drive\n",
    "drive.mount('/content/drive/')"
   ]
  },
  {
   "cell_type": "raw",
   "metadata": {
    "colab": {
     "base_uri": "https://localhost:8080/",
     "height": 34
    },
    "colab_type": "code",
    "id": "1_OQJUb7Hfie",
    "outputId": "17ef266a-dd9d-4ec8-b6ea-c85d8f98320c"
   },
   "source": [
    "%cd /content/drive/My Drive/TimeSeriesForecasting"
   ]
  },
  {
   "cell_type": "markdown",
   "metadata": {
    "colab_type": "text",
    "id": "XZtI9lIC3myC"
   },
   "source": [
    "<hr>\n",
    "<h1><center>Web Traffic Forecasting : DL Modeling</center></h1> \n",
    "<hr>"
   ]
  },
  {
   "cell_type": "code",
   "execution_count": 3,
   "metadata": {
    "colab": {},
    "colab_type": "code",
    "id": "Gw_bD27aHfhB"
   },
   "outputs": [],
   "source": [
    "import warnings\n",
    "warnings.filterwarnings(\"ignore\")\n",
    "\n",
    "from tqdm import tqdm\n",
    "import pandas as pd\n",
    "import numpy as np\n",
    "from tqdm import tqdm\n",
    "import matplotlib.pyplot as plt\n",
    "import seaborn as sns\n",
    "import pickle\n",
    "import joblib\n",
    "\n",
    "from sklearn.preprocessing import StandardScaler\n",
    "\n",
    "import tensorflow as tf\n",
    "import gc\n",
    "from tensorflow.keras.backend import clear_session\n",
    "from tensorflow.keras.models import model_from_json\n",
    "\n",
    "from tensorflow.keras.wrappers.scikit_learn import KerasClassifier\n",
    "from sklearn.model_selection import RandomizedSearchCV\n",
    "\n",
    "from tensorflow.keras.layers import Dense, concatenate, Activation, BatchNormalization\n",
    "from tensorflow.keras.layers import Input, Flatten, LSTM\n",
    "from tensorflow.keras.layers import Dropout, Conv1D, MaxPooling1D\n",
    "from tensorflow.keras import Model, Sequential\n",
    "\n",
    "from tensorflow.keras import optimizers\n",
    "from tensorflow.keras.models import model_from_json"
   ]
  },
  {
   "cell_type": "markdown",
   "metadata": {
    "colab_type": "text",
    "id": "KCjqodtvHj62"
   },
   "source": [
    "### Loading Actual Train Data \n"
   ]
  },
  {
   "cell_type": "code",
   "execution_count": 4,
   "metadata": {
    "colab": {
     "base_uri": "https://localhost:8080/",
     "height": 136
    },
    "colab_type": "code",
    "id": "1r4Wb3FSHfeZ",
    "outputId": "d8d33371-8e26-4922-f20b-51361a3b9307"
   },
   "outputs": [
    {
     "name": "stdout",
     "output_type": "stream",
     "text": [
      "Site Encoded using     :  ['mediawiki' 'wikimedia' 'wikipedia']\n",
      "Language Encoded using :  ['commons' 'de' 'en' 'es' 'fr' 'ja' 'ru' 'www' 'zh']\n",
      "Access Encoded using   :  ['all-access' 'desktop' 'mobile-web']\n",
      "Agent Encoded using    :  ['all-agents' 'spider']\n",
      "\n",
      "\n",
      "Test Data to run from 2017-09-11 upto 2017-11-13\n"
     ]
    }
   ],
   "source": [
    "complete_train = pd.read_csv('./train_2.csv')\n",
    "\n",
    "complete_train['Site']      = complete_train['Page'].map(lambda x:x.split('_')[-3])\n",
    "complete_train['Site_Name'] = complete_train['Site'].map(lambda x:x.split('.')[1])\n",
    "complete_train['Language']  = complete_train['Site'].map(lambda x:x.split('.')[0])\n",
    "complete_train['Access']    = complete_train['Page'].map(lambda x:x.split('_')[-2])\n",
    "complete_train['Agent']     = complete_train['Page'].map(lambda x:x.split('_')[-1])\n",
    "\n",
    "from sklearn.preprocessing import LabelEncoder\n",
    "label = LabelEncoder()\n",
    "\n",
    "complete_train['Site_OHE'] = label.fit_transform(complete_train['Site_Name']).tolist()\n",
    "print(\"Site Encoded using     : \", label.classes_)\n",
    "\n",
    "complete_train['Lang_OHE'] = label.fit_transform(complete_train['Language']).tolist()\n",
    "print(\"Language Encoded using : \", label.classes_)\n",
    "\n",
    "complete_train['Access_OHE'] = label.fit_transform(complete_train['Access']).tolist()\n",
    "print(\"Access Encoded using   : \", label.classes_)\n",
    "\n",
    "complete_train['Agent_OHE'] = label.fit_transform(complete_train['Agent']).tolist()\n",
    "print(\"Agent Encoded using    : \", label.classes_)\n",
    "\n",
    "complete_train.drop(['Site', 'Site_Name', 'Language', 'Access', 'Agent'], axis=1, inplace=True)\n",
    "complete_train = complete_train.fillna(0)\n",
    "#complete_train.to_csv('./Transformed_train_2.csv', index=False)\n",
    "\n",
    "\n",
    "#test_dates\n",
    "from datetime import date, timedelta\n",
    "\n",
    "#end of the train is Sep 20, 2017 and data to e\n",
    "start = date(2017,9,11)\n",
    "end   = date(2017,11,13)\n",
    "no_days = end - start\n",
    "test_days = [ (start+timedelta(days=x)).strftime('%Y-%m-%d') for x in range(no_days.days+1) ]\n",
    "print(\"\\n\\nTest Data to run from {0} upto {1}\".format(test_days[0], test_days[-1]))"
   ]
  },
  {
   "cell_type": "markdown",
   "metadata": {
    "colab_type": "text",
    "id": "BnZJlPR3IIJa"
   },
   "source": [
    "### Loading Page-Key file"
   ]
  },
  {
   "cell_type": "code",
   "execution_count": 5,
   "metadata": {
    "colab": {
     "base_uri": "https://localhost:8080/",
     "height": 204
    },
    "colab_type": "code",
    "id": "BCSkglVBHfaR",
    "outputId": "9eeb08fb-4e74-46c6-d171-e33d99b84b9e"
   },
   "outputs": [
    {
     "data": {
      "text/html": [
       "<div>\n",
       "<style scoped>\n",
       "    .dataframe tbody tr th:only-of-type {\n",
       "        vertical-align: middle;\n",
       "    }\n",
       "\n",
       "    .dataframe tbody tr th {\n",
       "        vertical-align: top;\n",
       "    }\n",
       "\n",
       "    .dataframe thead th {\n",
       "        text-align: right;\n",
       "    }\n",
       "</style>\n",
       "<table border=\"1\" class=\"dataframe\">\n",
       "  <thead>\n",
       "    <tr style=\"text-align: right;\">\n",
       "      <th></th>\n",
       "      <th>Page</th>\n",
       "      <th>Id</th>\n",
       "    </tr>\n",
       "  </thead>\n",
       "  <tbody>\n",
       "    <tr>\n",
       "      <th>0</th>\n",
       "      <td>007_スペクター_ja.wikipedia.org_all-access_all-agen...</td>\n",
       "      <td>0b293039387a</td>\n",
       "    </tr>\n",
       "    <tr>\n",
       "      <th>1</th>\n",
       "      <td>007_スペクター_ja.wikipedia.org_all-access_all-agen...</td>\n",
       "      <td>7114389dd824</td>\n",
       "    </tr>\n",
       "    <tr>\n",
       "      <th>2</th>\n",
       "      <td>007_スペクター_ja.wikipedia.org_all-access_all-agen...</td>\n",
       "      <td>057b02ff1f09</td>\n",
       "    </tr>\n",
       "    <tr>\n",
       "      <th>3</th>\n",
       "      <td>007_スペクター_ja.wikipedia.org_all-access_all-agen...</td>\n",
       "      <td>bd2aca21caa3</td>\n",
       "    </tr>\n",
       "    <tr>\n",
       "      <th>4</th>\n",
       "      <td>007_スペクター_ja.wikipedia.org_all-access_all-agen...</td>\n",
       "      <td>c0effb42cdd5</td>\n",
       "    </tr>\n",
       "  </tbody>\n",
       "</table>\n",
       "</div>"
      ],
      "text/plain": [
       "                                                Page            Id\n",
       "0  007_スペクター_ja.wikipedia.org_all-access_all-agen...  0b293039387a\n",
       "1  007_スペクター_ja.wikipedia.org_all-access_all-agen...  7114389dd824\n",
       "2  007_スペクター_ja.wikipedia.org_all-access_all-agen...  057b02ff1f09\n",
       "3  007_スペクター_ja.wikipedia.org_all-access_all-agen...  bd2aca21caa3\n",
       "4  007_スペクター_ja.wikipedia.org_all-access_all-agen...  c0effb42cdd5"
      ]
     },
     "execution_count": 5,
     "metadata": {
      "tags": []
     },
     "output_type": "execute_result"
    }
   ],
   "source": [
    "page_key = pd.read_csv('./key_2.csv')\n",
    "page_key.head()"
   ]
  },
  {
   "cell_type": "markdown",
   "metadata": {
    "colab_type": "text",
    "id": "vjGEMKx3IPCs"
   },
   "source": [
    "### Loading Train Data"
   ]
  },
  {
   "cell_type": "code",
   "execution_count": 6,
   "metadata": {
    "colab": {},
    "colab_type": "code",
    "id": "GeGVSMwOHfWm"
   },
   "outputs": [],
   "source": [
    "#load data\n",
    "train = pd.read_csv('./train_data.csv')\n",
    "test  = pd.read_csv('./test_data.csv')"
   ]
  },
  {
   "cell_type": "code",
   "execution_count": 7,
   "metadata": {
    "colab": {},
    "colab_type": "code",
    "id": "DYcXMjwpHfUo"
   },
   "outputs": [],
   "source": [
    "non_date_cols = [ x for x in train.columns.tolist() if x.endswith('_OHE') ]\n",
    "date_cols = [ x for x in train.columns.tolist() if x not in non_date_cols ]"
   ]
  },
  {
   "cell_type": "code",
   "execution_count": 8,
   "metadata": {
    "colab": {},
    "colab_type": "code",
    "id": "3JyY1hFiHfQz"
   },
   "outputs": [],
   "source": [
    "X_timeseries  = train[date_cols]\n",
    "X_pagedata    = train[non_date_cols]\n",
    "observed      = X_timeseries.iloc[:, -1]\n",
    "pagename_X_te = test[non_date_cols]"
   ]
  },
  {
   "cell_type": "markdown",
   "metadata": {
    "colab_type": "text",
    "id": "kUsXkoJ-IdY8"
   },
   "source": [
    "### Metric for evaluation"
   ]
  },
  {
   "cell_type": "code",
   "execution_count": 9,
   "metadata": {
    "colab": {},
    "colab_type": "code",
    "id": "Uos0qirsHfOS"
   },
   "outputs": [],
   "source": [
    "def smape(ytr, ypr):\n",
    "    ytr += np.log1p(0.0001)\n",
    "    numerator   = np.abs(ypr - ytr)\n",
    "    #print(numerator)\n",
    "    denominator = (np.abs(ytr) + np.abs(ypr))\n",
    "    #print(denominator)\n",
    "    return (200/len(ytr) * np.sum( numerator / denominator ))\n",
    "\n",
    "\n",
    "def tf_smape(ytr, ypr):\n",
    "    return tf.py_function(smape, (ytr, ypr), tf.double)\n",
    "\n",
    "\n",
    "def rmse(ytr, ypr):\n",
    "    from math import sqrt\n",
    "    from sklearn.metrics import mean_squared_error\n",
    "    return sqrt(mean_squared_error(ytr, ypr))\n",
    "\n",
    "\n",
    "def tf_rmse(ytr, ypr):\n",
    "    return tf.py_function(rmse, (ytr, ypr), tf.double)"
   ]
  },
  {
   "cell_type": "code",
   "execution_count": 10,
   "metadata": {
    "colab": {},
    "colab_type": "code",
    "id": "q6AXHI_lHfMp"
   },
   "outputs": [],
   "source": [
    "#parameters\n",
    "lagged_window = [7, 30, 90, 365]\n",
    "batch = 256\n",
    "epoch = 20\n",
    "models = dict()"
   ]
  },
  {
   "cell_type": "code",
   "execution_count": 11,
   "metadata": {
    "colab": {},
    "colab_type": "code",
    "id": "vri6Fd6if7kz"
   },
   "outputs": [],
   "source": [
    "from tensorflow.keras.callbacks import EarlyStopping\n",
    "dl_stopping = EarlyStopping(monitor='tf_smape', patience=3)\n",
    "\n",
    "deep_epoch = 150"
   ]
  },
  {
   "cell_type": "markdown",
   "metadata": {
    "colab_type": "text",
    "id": "x_9cO2ykIp7m"
   },
   "source": [
    "\n",
    "\n",
    "---\n",
    "\n"
   ]
  },
  {
   "cell_type": "markdown",
   "metadata": {
    "colab_type": "text",
    "id": "cUdcd0AFVnYw"
   },
   "source": [
    "# [1] Deep Learning Models"
   ]
  },
  {
   "cell_type": "markdown",
   "metadata": {
    "colab_type": "text",
    "id": "NJTXf_T3VsTf"
   },
   "source": [
    " "
   ]
  },
  {
   "cell_type": "markdown",
   "metadata": {
    "colab_type": "text",
    "id": "vPwMrgylVtLi"
   },
   "source": [
    "## [1.1] Simple DNN"
   ]
  },
  {
   "cell_type": "code",
   "execution_count": 20,
   "metadata": {
    "colab": {},
    "colab_type": "code",
    "id": "WJklRY4nHfJ7"
   },
   "outputs": [],
   "source": [
    "def dense_model(shape, print_summary=False):\n",
    "  \"\"\"\n",
    "  Model returns simple Deep Neural Network for given data, given input params\n",
    "  \"\"\"\n",
    "  model = Sequential()\n",
    "  model.add(Dense(512, activation='relu', input_shape=(shape, )))\n",
    "  model.add(Dense(128, activation='relu'))\n",
    "  model.add(Dense(64, activation='relu'))\n",
    "  model.add(Dense(8, activation='relu'))\n",
    "  model.add(Dense(1))\n",
    "  model.compile(loss='mean_squared_error', optimizer='adam', metrics=[tf_smape])\n",
    "  if print_summary:\n",
    "      model.summary()\n",
    "  return model"
   ]
  },
  {
   "cell_type": "markdown",
   "metadata": {
    "colab_type": "text",
    "id": "dJ7KMlTe3myn"
   },
   "source": [
    "#### [1.1.1] Hyper Parameter Tuning"
   ]
  },
  {
   "cell_type": "code",
   "execution_count": null,
   "metadata": {
    "colab": {
     "base_uri": "https://localhost:8080/",
     "height": 238
    },
    "colab_type": "code",
    "id": "k3q_y89oHfId",
    "outputId": "eb32a9ed-3b2f-485b-b983-0e4e73c33e60"
   },
   "outputs": [
    {
     "name": "stdout",
     "output_type": "stream",
     "text": [
      "**** Running for Lag =  7\n",
      "SMAPE = 33.00412664190798 for lag = 7\n",
      "**** Running for Lag =  30\n",
      "SMAPE = 33.479609194460465 for lag = 30\n",
      "**** Running for Lag =  90\n",
      "SMAPE = 31.717767144881265 for lag = 90\n",
      "**** Running for Lag =  365\n",
      "SMAPE = 32.75959930484306 for lag = 365\n",
      "\n",
      "\n",
      "Best Values are : \n",
      " 90 \n",
      " Best SMAPE on CV data is  31.717767144881265\n"
     ]
    }
   ],
   "source": [
    "error = list()\n",
    "for lag in lagged_window:\n",
    "  clear_session()\n",
    "  print(\"**** Running for Lag = \",lag)\n",
    "  X = np.log1p(X_timeseries.iloc[:,-lag-1:-1])\n",
    "  #X = X_timeseries.iloc[:,-lag-1:-1]\n",
    "  observed = X_timeseries.iloc[:,-1]\n",
    "  Y = np.log1p(X_timeseries.iloc[:,-1])\n",
    "  #Y = X_timeseries.iloc[:,-1]\n",
    "  #print(\"Dataset shape is \",X.shape)\n",
    "  model = dense_model(lag)\n",
    "  model.fit(X, Y, batch_size=batch, epochs=epoch, verbose=0)  \n",
    "  predicted = np.ceil(np.expm1(model.predict(X)))\n",
    "  #predicted = np.ceil(model.predict(X))\n",
    "  predicted = np.array(predicted).reshape((X.shape[0]))\n",
    "  cv_smape = smape(observed, predicted)\n",
    "  error.append([cv_smape, lag])\n",
    "  print(\"SMAPE = {0} for lag = {1}\".format(cv_smape, lag))\n",
    "\n",
    "index         = np.argmin([ x[0] for x in error ])\n",
    "best_window   = error[index][1]\n",
    "best_cv_smape = error[index][0]\n",
    " \n",
    "print(\"\\n\\nBest Values are : \\n\",best_window, \"\\n\", \"Best SMAPE on CV data is \",best_cv_smape)"
   ]
  },
  {
   "cell_type": "markdown",
   "metadata": {
    "colab_type": "text",
    "id": "kI3p6ceO3myr"
   },
   "source": [
    "#### [1.1.2] Fitting Model with Best Window"
   ]
  },
  {
   "cell_type": "code",
   "execution_count": 21,
   "metadata": {
    "colab": {
     "base_uri": "https://localhost:8080/",
     "height": 1000
    },
    "colab_type": "code",
    "id": "SiVrqXPtVziS",
    "outputId": "5daf2b2e-92d2-4552-dda1-a169a2950c82"
   },
   "outputs": [
    {
     "name": "stdout",
     "output_type": "stream",
     "text": [
      "Model is trained and found to have : \n",
      "Best Window =  90\n",
      "\n",
      "\n",
      "\n",
      "Model: \"sequential\"\n",
      "_________________________________________________________________\n",
      "Layer (type)                 Output Shape              Param #   \n",
      "=================================================================\n",
      "dense (Dense)                (None, 512)               46592     \n",
      "_________________________________________________________________\n",
      "dense_1 (Dense)              (None, 128)               65664     \n",
      "_________________________________________________________________\n",
      "dense_2 (Dense)              (None, 64)                8256      \n",
      "_________________________________________________________________\n",
      "dense_3 (Dense)              (None, 8)                 520       \n",
      "_________________________________________________________________\n",
      "dense_4 (Dense)              (None, 1)                 9         \n",
      "=================================================================\n",
      "Total params: 121,041\n",
      "Trainable params: 121,041\n",
      "Non-trainable params: 0\n",
      "_________________________________________________________________\n",
      "Epoch 1/20\n",
      "567/567 [==============================] - 4s 7ms/step - loss: 0.3479 - tf_smape: 18.5284\n",
      "Epoch 2/20\n",
      "567/567 [==============================] - 4s 7ms/step - loss: 0.2060 - tf_smape: 17.2852\n",
      "Epoch 3/20\n",
      "567/567 [==============================] - 4s 7ms/step - loss: 0.1880 - tf_smape: 16.9578\n",
      "Epoch 4/20\n",
      "567/567 [==============================] - 4s 7ms/step - loss: 0.1783 - tf_smape: 16.7330\n",
      "Epoch 5/20\n",
      "567/567 [==============================] - 4s 7ms/step - loss: 0.1778 - tf_smape: 16.7006\n",
      "Epoch 6/20\n",
      "567/567 [==============================] - 4s 7ms/step - loss: 0.1711 - tf_smape: 16.4924\n",
      "Epoch 7/20\n",
      "567/567 [==============================] - 4s 7ms/step - loss: 0.1733 - tf_smape: 16.4948\n",
      "Epoch 8/20\n",
      "567/567 [==============================] - 4s 7ms/step - loss: 0.1691 - tf_smape: 16.3811\n",
      "Epoch 9/20\n",
      "567/567 [==============================] - 4s 7ms/step - loss: 0.1706 - tf_smape: 16.3822\n",
      "Epoch 10/20\n",
      "567/567 [==============================] - 4s 7ms/step - loss: 0.1653 - tf_smape: 16.2543\n",
      "Epoch 11/20\n",
      "567/567 [==============================] - 4s 7ms/step - loss: 0.1635 - tf_smape: 16.1833\n",
      "Epoch 12/20\n",
      "567/567 [==============================] - 4s 7ms/step - loss: 0.1621 - tf_smape: 16.1338\n",
      "Epoch 13/20\n",
      "567/567 [==============================] - 4s 7ms/step - loss: 0.1618 - tf_smape: 16.0896\n",
      "Epoch 14/20\n",
      "567/567 [==============================] - 4s 7ms/step - loss: 0.1629 - tf_smape: 16.1612\n",
      "Epoch 15/20\n",
      "567/567 [==============================] - 4s 7ms/step - loss: 0.1576 - tf_smape: 15.9910\n",
      "Epoch 16/20\n",
      "567/567 [==============================] - 4s 7ms/step - loss: 0.1561 - tf_smape: 15.9508\n",
      "Epoch 17/20\n",
      "567/567 [==============================] - 4s 7ms/step - loss: 0.1556 - tf_smape: 15.9177\n",
      "Epoch 18/20\n",
      "567/567 [==============================] - 4s 7ms/step - loss: 0.1555 - tf_smape: 15.9109\n",
      "Epoch 19/20\n",
      "567/567 [==============================] - 4s 7ms/step - loss: 0.1562 - tf_smape: 15.9481\n",
      "Epoch 20/20\n",
      "567/567 [==============================] - 4s 7ms/step - loss: 0.1554 - tf_smape: 15.9336\n"
     ]
    }
   ],
   "source": [
    "best_window = 90\n",
    "print(\"Model is trained and found to have : \")\n",
    "print(\"Best Window = \",best_window)\n",
    "print(\"\\n\\n\")\n",
    "gc.collect()\n",
    "X = np.log1p(X_timeseries.iloc[:,-best_window-1:-1])\n",
    "Y = np.log1p(X_timeseries.iloc[:,-1])\n",
    " \n",
    "#fitting model with best parameters\n",
    "model = dense_model(best_window, print_summary=True)\n",
    "model.fit(X, Y, batch_size=batch, epochs=epoch, verbose=1)\n",
    " \n",
    "#save the model weights\n",
    "my_model = model.to_json()\n",
    "with open(\"copy_dnn_model.json\", \"w\") as json_file:\n",
    "  json_file.write(my_model)\n",
    "model.save_weights(\"copy_dnn_model_weights.h5\")"
   ]
  },
  {
   "cell_type": "markdown",
   "metadata": {
    "colab_type": "text",
    "id": "MftTK3ci3myy"
   },
   "source": [
    "#### [1.1.3] CV data Analysis "
   ]
  },
  {
   "cell_type": "code",
   "execution_count": null,
   "metadata": {
    "colab": {
     "base_uri": "https://localhost:8080/",
     "height": 68
    },
    "colab_type": "code",
    "id": "2JdC1KQBVzsu",
    "outputId": "b9c90c2c-4162-4b6c-ceb1-b58e9aa7815c"
   },
   "outputs": [
    {
     "name": "stderr",
     "output_type": "stream",
     "text": [
      "100%|██████████| 73/73 [04:32<00:00,  3.73s/it]\n"
     ]
    },
    {
     "name": "stdout",
     "output_type": "stream",
     "text": [
      "\n",
      "SMAPE on CV data =  52.22553137457099\n"
     ]
    }
   ],
   "source": [
    "#history of values\n",
    "history = X_timeseries.iloc[:, -best_window:]\n",
    "gc.collect()\n",
    "clear_session()\n",
    "#testing the model on test data\n",
    "test_data = pd.DataFrame()\n",
    "test_cols = test.columns.tolist()\n",
    "for col in tqdm(test_cols[:-4]):\n",
    "  X = np.log1p(history.iloc[:,-best_window:])\n",
    "  #X = history.iloc[:,-best_window:]\n",
    "  predict = np.ceil(np.expm1(model.predict(X)))\n",
    "  #predict = np.ceil(model.predict(X))\n",
    "  predict = np.array(predict).reshape((X.shape[0]))\n",
    "  test_data[col] = predict\n",
    "  history[col]   = predict\n",
    " \n",
    "#checking SMAPE on forecasted and actual CV values\n",
    "cv_smape = np.mean(smape(test.iloc[:,:-4], test_data))\n",
    "print(\"\\nSMAPE on CV data = \",cv_smape)\n",
    "models['DNN Model'] = [best_window, cv_smape]"
   ]
  },
  {
   "cell_type": "markdown",
   "metadata": {
    "colab_type": "text",
    "id": "ttluM5De3my1"
   },
   "source": [
    "#### [1.1.4] CV SMAPE Performance"
   ]
  },
  {
   "cell_type": "code",
   "execution_count": null,
   "metadata": {
    "colab": {
     "base_uri": "https://localhost:8080/",
     "height": 398
    },
    "colab_type": "code",
    "id": "lINsx5XnVz1H",
    "outputId": "4587065e-a122-4117-a990-4dbda61cec58"
   },
   "outputs": [
    {
     "data": {
      "image/png": "[encoded data removed]",
      "text/plain": [
       "<Figure size 1080x360 with 1 Axes>"
      ]
     },
     "metadata": {
      "needs_background": "light",
      "tags": []
     },
     "output_type": "display_data"
    }
   ],
   "source": [
    "#plot for mean of actual test and predicted test\n",
    "plt.figure(figsize=(15, 5))\n",
    "plt.title('Test Mean PageViews : Actual vs. Predicted PageViews using simple DNN Model')\n",
    "actual_mean = test.iloc[:, :-4].mean(axis=0)\n",
    "pred_mean   = test_data.mean(axis=0)\n",
    "\n",
    "xtick_labels = [ x for x in enumerate(test_cols) if x[0]%5==0 ]\n",
    "xtick_loc    = [ x[0] for x in xtick_labels ]\n",
    "xtick_label  = [ x[1] for x in xtick_labels ]\n",
    "b1 = plt.plot(actual_mean, marker=\"o\")\n",
    "b2 = plt.plot(pred_mean, marker=\"*\")\n",
    "plt.xlabel('Time')\n",
    "plt.ylabel('Mean Page Views')\n",
    "plt.grid()\n",
    "plt.legend([b1[0], b2[0]], ['Actual', 'Predicted'])\n",
    "plt.xticks(xtick_loc, xtick_label, rotation=60)\n",
    "plt.show()"
   ]
  },
  {
   "cell_type": "markdown",
   "metadata": {
    "colab_type": "text",
    "id": "XGX5OKInh9Lo"
   },
   "source": [
    "## [1.2] Simple LSTM"
   ]
  },
  {
   "cell_type": "code",
   "execution_count": 28,
   "metadata": {
    "colab": {},
    "colab_type": "code",
    "id": "oATYlCvwaUHA"
   },
   "outputs": [],
   "source": [
    "def lstm(shape, print_summary=False):\n",
    "    \"\"\"\n",
    "    simple 2 layered LSTM model for data. Returns the compiled model with \n",
    "    passed parameters.\n",
    "    \"\"\"\n",
    "    model = Sequential()\n",
    "    model.add(LSTM(16, activation='relu', return_sequences=True, input_shape=(shape, 1)))\n",
    "    model.add(LSTM(16, activation='relu'))\n",
    "    model.add(Dropout(0.20))\n",
    "    #model.add(Flatten())\n",
    "    model.add(Dense(1))\n",
    "    model.compile(loss='mean_squared_error', optimizer='adam', metrics=[tf_smape])\n",
    "    if print_summary:\n",
    "        model.summary()\n",
    "    return model"
   ]
  },
  {
   "cell_type": "markdown",
   "metadata": {
    "colab_type": "text",
    "id": "44MUULOU3my9"
   },
   "source": [
    "#### [1.2.1] Hyper Parameter Tuning"
   ]
  },
  {
   "cell_type": "code",
   "execution_count": 4,
   "metadata": {
    "colab": {
     "base_uri": "https://localhost:8080/",
     "height": 272
    },
    "colab_type": "code",
    "id": "_7m2dwDoaUNt",
    "outputId": "5d879c79-2480-4408-b48e-76a8d26b1dc0"
   },
   "outputs": [
    {
     "name": "stdout",
     "output_type": "stream",
     "text": [
      "\n",
      "**** Running for Lag= 7\n",
      "SMAPE for Lag=7 is 33.978622\n",
      "**** Running for Lag= 30\n",
      "SMAPE for Lag=30 is 33.208534\n",
      "**** Running for Lag= 90\n",
      "SMAPE for Lag=90 is 77.149977\n",
      "**** Running for Lag= 365\n",
      "SMAPE for Lag=90 is nan\n",
      "\n",
      "\n",
      "Best Values are : \n",
      " 30 \n",
      " 33.20853431493801\n",
      "\n"
     ]
    }
   ],
   "source": [
    "gc.collect()\n",
    "error = list()\n",
    "for lag in lagged_window:\n",
    "  clear_session()\n",
    "  print(\"**** Running for Lag=\",lag)\n",
    "  X = np.log1p(X_timeseries.iloc[:,-lag-1:-1])\n",
    "  #X = X_timeseries.iloc[:,-lag-1:-1]\n",
    "  r, c  = X.shape\n",
    "  X = np.array(X).reshape((r, c, 1))\n",
    "  Y = np.log1p(X_timeseries.iloc[:,-1])\n",
    "  observed = X_timeseries.iloc[:, -1]\n",
    "  #Y = X_timeseries.iloc[:,-1]\n",
    "  #print(\"Dataset shape is \",X.shape)\n",
    "  model = lstm(lag)\n",
    "  model.fit(X, Y, batch_size=batch, epochs=epoch, verbose=1)\n",
    "  predicted = np.ceil(np.expm1(model.predict(X)))\n",
    "  #predicted = np.ceil(model.predict(X))\n",
    "  predicted = np.array(predicted).reshape((X.shape[0]))\n",
    "  #tr_smape = smape(Y, predicted)\n",
    "  cv_smape = np.mean(smape(observed, predicted))\n",
    "  print(\"SMAPE for Lag=%d is %f\"%(lag, cv_smape))\n",
    "  error.append([cv_smape, lag])\n",
    " \n",
    "index         = np.argmin([ x[0] for x in error ])\n",
    "best_window   = error[index][1]\n",
    "best_cv_smape = error[index][0]\n",
    " \n",
    "print(\"\\n\\nBest Values are : \\n\",best_window, \"\\n\", best_cv_smape)"
   ]
  },
  {
   "cell_type": "markdown",
   "metadata": {
    "colab_type": "text",
    "id": "jk_g7vaE3mzA"
   },
   "source": [
    "#### [1.2.2] Fitting Model with Best Window"
   ]
  },
  {
   "cell_type": "code",
   "execution_count": 5,
   "metadata": {
    "colab": {
     "base_uri": "https://localhost:8080/",
     "height": 1000
    },
    "colab_type": "code",
    "id": "0BPsheaOaUZN",
    "outputId": "23a1870b-bc22-4b6c-a01d-879ebc8ce702"
   },
   "outputs": [
    {
     "name": "stdout",
     "output_type": "stream",
     "text": [
      "\n",
      "Model is trained and found to have : \n",
      "Best Window =  30\n",
      "\n",
      "\n",
      "\n",
      "_________________________________________________________________\n",
      "Layer (type)                 Output Shape              Param #   \n",
      "=================================================================\n",
      "lstm (LSTM)                  (None, 30, 16)            1152      \n",
      "_________________________________________________________________\n",
      "lstm_1 (LSTM)                (None, 16)                2112      \n",
      "_________________________________________________________________\n",
      "dropout (Dropout)            (None, 16)                0         \n",
      "_________________________________________________________________\n",
      "dense (Dense)                (None, 1)                 17        \n",
      "=================================================================\n",
      "Total params: 3,281\n",
      "Trainable params: 3,281\n",
      "Non-trainable params: 0\n",
      "_________________________________________________________________\n",
      "Epoch 1/20\n",
      "145063/145063 [==============================] - 35s 244us/sample - loss: 1.7801 - tf_smape: 32.7476\n",
      "Epoch 2/20\n",
      "145063/145063 [==============================] - 36s 248us/sample - loss: 1.0008 - tf_smape: 25.9185 - loss: 1.\n",
      "Epoch 3/20\n",
      "145063/145063 [==============================] - 35s 243us/sample - loss: 0.8892 - tf_smape: 24.9882\n",
      "Epoch 4/20\n",
      "145063/145063 [==============================] - 36s 248us/sample - loss: 0.8249 - tf_smape: 24.1920\n",
      "Epoch 5/20\n",
      "145063/145063 [==============================] - 36s 251us/sample - loss: 0.7478 - tf_smape: 23.3956\n",
      "Epoch 6/20\n",
      "145063/145063 [==============================] - 36s 248us/sample - loss: 0.6780 - tf_smape: 22.6881 - loss: 0.6787 - tf_smape: 22\n",
      "Epoch 7/20\n",
      "145063/145063 [==============================] - 36s 251us/sample - loss: 0.6254 - tf_smape: 22.1257\n",
      "Epoch 8/20\n",
      "145063/145063 [==============================] - 37s 255us/sample - loss: 0.5648 - tf_smape: 21.6160\n",
      "Epoch 9/20\n",
      "145063/145063 [==============================] - 37s 255us/sample - loss: 0.5224 - tf_smape: 21.2912\n",
      "Epoch 10/20\n",
      "145063/145063 [==============================] - 37s 253us/sample - loss: 0.4743 - tf_smape: 20.8531\n",
      "Epoch 11/20\n",
      "145063/145063 [==============================] - 37s 256us/sample - loss: 0.4483 - tf_smape: 20.6893\n",
      "Epoch 12/20\n",
      "145063/145063 [==============================] - 37s 255us/sample - loss: 0.4233 - tf_smape: 20.5420 - loss: 0.4232 - t\n",
      "Epoch 13/20\n",
      "145063/145063 [==============================] - 38s 264us/sample - loss: 0.4109 - tf_smape: 20.4978\n",
      "Epoch 14/20\n",
      "145063/145063 [==============================] - 36s 251us/sample - loss: 0.3983 - tf_smape: 20.5042\n",
      "Epoch 15/20\n",
      "145063/145063 [==============================] - 37s 254us/sample - loss: 0.3879 - tf_smape: 20.4735\n",
      "Epoch 16/20\n",
      "145063/145063 [==============================] - 37s 252us/sample - loss: 0.3892 - tf_smape: 20.5422\n",
      "Epoch 17/20\n",
      "145063/145063 [==============================] - 38s 263us/sample - loss: 0.3910 - tf_smape: 20.6383 - loss - ETA: 4s - loss\n",
      "Epoch 18/20\n",
      "145063/145063 [==============================] - 38s 261us/sample - loss: 0.3800 - tf_smape: 20.5794\n",
      "Epoch 19/20\n",
      "145063/145063 [==============================] - 37s 257us/sample - loss: 0.3776 - tf_smape: 20.6055\n",
      "Epoch 20/20\n",
      "145063/145063 [==============================] - 36s 248us/sample - loss: 0.3776 - tf_smape: 20.5790\n",
      "\n"
     ]
    }
   ],
   "source": [
    "print(\"Model is trained and found to have : \")\n",
    "print(\"Best Window = \",best_window)\n",
    "print(\"\\n\\n\")\n",
    "\n",
    "#fiting model with best parameters\n",
    "X = np.log1p(X_timeseries.iloc[:,-best_window-1:-1])\n",
    "#X = X_timeseries.iloc[:,-best_window-1:-1]\n",
    "r, c = X.shape\n",
    "X = np.array(X).reshape((r, c, 1))\n",
    "Y = np.log1p(X_timeseries.iloc[:,-1])\n",
    "#Y = X_timeseries.iloc[:,-1]\n",
    " \n",
    "#fitting model wth best parameters\n",
    "clear_session()\n",
    "model = lstm(best_window, print_summary=True)\n",
    "model.fit(X, Y, batch_size=batch, epochs=epoch, verbose=1)\n",
    " \n",
    "#save the model weights\n",
    "my_model = model.to_json()\n",
    "with open(\"copy_lstm_model.json\", \"w\") as json_file:\n",
    "  json_file.write(my_model)\n",
    "model.save_weights(\"copy_lstm_model_weights.h5\")"
   ]
  },
  {
   "cell_type": "markdown",
   "metadata": {
    "colab_type": "text",
    "id": "ctI_QFtp3mzD"
   },
   "source": [
    "#### [1.2.3] CV data Analysis "
   ]
  },
  {
   "cell_type": "code",
   "execution_count": 2,
   "metadata": {
    "colab": {
     "base_uri": "https://localhost:8080/",
     "height": 34
    },
    "colab_type": "code",
    "id": "LmlE79BlaUev",
    "outputId": "843d210d-15da-433c-802d-2b3419fba76b"
   },
   "outputs": [
    {
     "name": "stdout",
     "output_type": "stream",
     "text": [
      "SMAPE on CV data =  94.2299259028066\n"
     ]
    }
   ],
   "source": [
    "#history of values\n",
    "history = X_timeseries.iloc[:, -best_window:]\n",
    "gc.collect()\n",
    "#testing the model on test data\n",
    "test_data = pd.DataFrame()\n",
    "test_cols = test.columns.tolist()\n",
    "for col in tqdm(test_cols[:-4]):\n",
    "  clear_session()\n",
    "  X = np.log1p(history.iloc[:,-best_window:])\n",
    "  #X = history.iloc[:,-best_window:]\n",
    "  r, c = X.shape\n",
    "  X = np.array(X).reshape((r, c, 1))\n",
    "  predict = np.ceil(np.expm1(model.predict(X)))\n",
    "  #predict = np.ceil(model.predict(X))\n",
    "  predict = np.array(predict).reshape((X.shape[0]))\n",
    "  test_data[col] = predict\n",
    "  history[col]   = predict\n",
    "\n",
    "#checking SMAPE on forecasted and actual CV values\n",
    "cv_smape = np.mean(smape(test.iloc[:,:-4], test_data))\n",
    "print(\"\\nSMAPE on CV data = \",cv_smape)\n",
    "models['LSTM Model'] = [best_window, cv_smape]"
   ]
  },
  {
   "cell_type": "markdown",
   "metadata": {
    "colab_type": "text",
    "id": "_2LBI1C8f9yB"
   },
   "source": [
    "#### [1.2.4] CV SMAPE Performance"
   ]
  },
  {
   "cell_type": "code",
   "execution_count": null,
   "metadata": {
    "colab": {},
    "colab_type": "code",
    "id": "Uz0F44w2aUVN"
   },
   "outputs": [],
   "source": [
    "#plot for mean of actual test and predicted test\n",
    "plt.figure(figsize=(15, 5))\n",
    "plt.title('Test Mean PageViews : Actual vs. Predicted PageViews using simple LSTM Model')\n",
    "actual_mean = test.iloc[:, :-4].mean(axis=0)\n",
    "pred_mean   = test_data.mean(axis=0)\n",
    " \n",
    "xtick_labels = [ x for x in enumerate(test_cols) if x[0]%5==0 ]\n",
    "xtick_loc    = [ x[0] for x in xtick_labels ]\n",
    "xtick_label  = [ x[1] for x in xtick_labels ]\n",
    "b1 = plt.plot(actual_mean, marker=\"o\")\n",
    "b2 = plt.plot(pred_mean, marker=\"*\")\n",
    "plt.xlabel('Time')\n",
    "plt.ylabel('Mean Page Views')\n",
    "plt.grid()\n",
    "plt.legend([b1[0], b2[0]], ['Actual', 'Predicted'])\n",
    "plt.xticks(xtick_loc, xtick_label, rotation=60)\n",
    "plt.show()"
   ]
  },
  {
   "cell_type": "markdown",
   "metadata": {
    "colab_type": "text",
    "id": "lqf3N_UC2dW_"
   },
   "source": [
    "![image.png](data:image/png;base64,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)"
   ]
  },
  {
   "cell_type": "markdown",
   "metadata": {
    "colab_type": "text",
    "id": "Tk1w2W1ugIR_"
   },
   "source": [
    "## [1.3] CNN Model"
   ]
  },
  {
   "cell_type": "code",
   "execution_count": 29,
   "metadata": {
    "colab": {},
    "colab_type": "code",
    "id": "eb17Lz4YgEy-"
   },
   "outputs": [],
   "source": [
    "def cnn_model(shape, print_summary=False):\n",
    "  \"\"\"\n",
    "  function that takes paramter and returns simple CNN model\n",
    "  \"\"\"\n",
    "  model = Sequential()\n",
    "  #adding convolution layer\n",
    "  model.add(Conv1D(filters=128, kernel_size=2, activation='relu', \\\n",
    "                   kernel_initializer = 'he_uniform', input_shape=(shape, 1)))\n",
    "  model.add(Conv1D(filters=128, kernel_size=2, activation='relu', \\\n",
    "                   kernel_initializer = 'he_uniform'))\n",
    "  model.add(MaxPooling1D(pool_size=3))\n",
    "  #flatten the model output\n",
    "  model.add(Flatten())\n",
    "  #add Dense layers\n",
    "  model.add(Dense(32, activation='relu'))\n",
    "  model.add(Dense(1))\n",
    "  #compile model with loss and metrics\n",
    "  model.compile(loss='mean_squared_error', optimizer='adam', metrics=[tf_smape])\n",
    "  #return model and Print is necessary\n",
    "  if print_summary:\n",
    "    model.summary()\n",
    "  return model"
   ]
  },
  {
   "cell_type": "markdown",
   "metadata": {
    "colab_type": "text",
    "id": "w2qZ6ahf3mzR"
   },
   "source": [
    "#### [1.3.1] Hyper Parameter Tuning"
   ]
  },
  {
   "cell_type": "code",
   "execution_count": null,
   "metadata": {
    "colab": {
     "base_uri": "https://localhost:8080/",
     "height": 238
    },
    "colab_type": "code",
    "id": "mgKmfY3igE5n",
    "outputId": "a5485279-bb0d-40da-ac04-61a1a0b2955f"
   },
   "outputs": [
    {
     "name": "stdout",
     "output_type": "stream",
     "text": [
      "**** Running for Lag= 7\n",
      "SMAPE = 36.903023985148906 for Lag = 7\n",
      "**** Running for Lag= 30\n",
      "SMAPE = 37.92718723119423 for Lag = 30\n",
      "**** Running for Lag= 90\n",
      "SMAPE = 33.94058462715518 for Lag = 90\n",
      "**** Running for Lag= 365\n",
      "SMAPE = 45.45721823042916 for Lag = 365\n",
      "\n",
      "\n",
      "Best Values are : \n",
      " 90 \n",
      " Best SMAPE on CV data is  33.94058462715518\n"
     ]
    }
   ],
   "source": [
    "gc.collect()\n",
    "error = list()\n",
    "for lag in lagged_window:\n",
    "  print(\"**** Running for Lag=\",lag)\n",
    "  clear_session()\n",
    "  X = np.log1p(X_timeseries.iloc[:,-lag-1:-1])\n",
    "  #X = X_timeseries.iloc[:,-lag-1:-1]\n",
    "  r, c  = X.shape\n",
    "  X = np.array(X).reshape((r, c, 1))\n",
    "  Y = np.log1p(X_timeseries.iloc[:,-1])\n",
    "  #Y = X_timeseries.iloc[:,-1]\n",
    "  observed = X_timeseries.iloc[:, -1]\n",
    "  #print(\"Dataset shape is \",X.shape)\n",
    "  model = cnn_model(lag)\n",
    "  model.fit(X, Y, batch_size=batch, epochs=epoch, verbose=0)\n",
    "  predicted = np.ceil(np.expm1(model.predict(X)))\n",
    "  #predicted = np.ceil(model.predict(X))\n",
    "  predicted = np.array(predicted).reshape((X.shape[0]))\n",
    "  #tr_smape = smape(Y, predicted)\n",
    "  cv_smape = np.mean(smape(observed, predicted))\n",
    "  error.append([cv_smape, lag])\n",
    "  print(\"SMAPE = {0} for Lag = {1}\".format(cv_smape, lag))\n",
    "index         = np.argmin([ x[0] for x in error ])\n",
    "best_window   = error[index][1]\n",
    "best_cv_smape = error[index][0]\n",
    " \n",
    "print(\"\\n\\nBest Values are : \\n\",best_window, \"\\n\", \"Best SMAPE on CV data is \",best_cv_smape)"
   ]
  },
  {
   "cell_type": "markdown",
   "metadata": {
    "colab_type": "text",
    "id": "c5wpsgj13mzV"
   },
   "source": [
    "#### [1.3.2] Fitting Model with Best Window"
   ]
  },
  {
   "cell_type": "code",
   "execution_count": null,
   "metadata": {
    "colab": {
     "base_uri": "https://localhost:8080/",
     "height": 1000
    },
    "colab_type": "code",
    "id": "pPpHyIrjgE2O",
    "outputId": "2434c6c0-da8f-4742-b5d2-80500c9cdbc7"
   },
   "outputs": [
    {
     "name": "stdout",
     "output_type": "stream",
     "text": [
      "Model is trained and found to have : \n",
      "Best Window =  90\n",
      "\n",
      "\n",
      "\n",
      "Model: \"sequential_1\"\n",
      "_________________________________________________________________\n",
      "Layer (type)                 Output Shape              Param #   \n",
      "=================================================================\n",
      "conv1d_2 (Conv1D)            (None, 89, 128)           384       \n",
      "_________________________________________________________________\n",
      "conv1d_3 (Conv1D)            (None, 88, 128)           32896     \n",
      "_________________________________________________________________\n",
      "max_pooling1d_1 (MaxPooling1 (None, 29, 128)           0         \n",
      "_________________________________________________________________\n",
      "flatten_1 (Flatten)          (None, 3712)              0         \n",
      "_________________________________________________________________\n",
      "dense_2 (Dense)              (None, 32)                118816    \n",
      "_________________________________________________________________\n",
      "dense_3 (Dense)              (None, 1)                 33        \n",
      "=================================================================\n",
      "Total params: 152,129\n",
      "Trainable params: 152,129\n",
      "Non-trainable params: 0\n",
      "_________________________________________________________________\n",
      "Epoch 1/20\n",
      "567/567 [==============================] - 76s 135ms/step - loss: 25.8401 - tf_smape: 177.4318\n",
      "Epoch 2/20\n",
      "567/567 [==============================] - 76s 135ms/step - loss: 13.7947 - tf_smape: 103.5658\n",
      "Epoch 3/20\n",
      "567/567 [==============================] - 77s 135ms/step - loss: 0.2625 - tf_smape: 17.8155\n",
      "Epoch 4/20\n",
      "567/567 [==============================] - 76s 135ms/step - loss: 0.2227 - tf_smape: 17.3939\n",
      "Epoch 5/20\n",
      "567/567 [==============================] - 77s 136ms/step - loss: 0.2115 - tf_smape: 17.2064\n",
      "Epoch 6/20\n",
      "567/567 [==============================] - 77s 135ms/step - loss: 0.2075 - tf_smape: 17.1612\n",
      "Epoch 7/20\n",
      "567/567 [==============================] - 76s 135ms/step - loss: 0.2055 - tf_smape: 17.1461\n",
      "Epoch 8/20\n",
      "567/567 [==============================] - 76s 134ms/step - loss: 0.2001 - tf_smape: 16.9979\n",
      "Epoch 9/20\n",
      "567/567 [==============================] - 78s 137ms/step - loss: 0.1971 - tf_smape: 16.9304\n",
      "Epoch 10/20\n",
      "567/567 [==============================] - 79s 140ms/step - loss: 0.1974 - tf_smape: 16.9231\n",
      "Epoch 11/20\n",
      "567/567 [==============================] - 77s 137ms/step - loss: 0.1955 - tf_smape: 16.8685\n",
      "Epoch 12/20\n",
      "567/567 [==============================] - 77s 136ms/step - loss: 0.1933 - tf_smape: 16.8296\n",
      "Epoch 13/20\n",
      "567/567 [==============================] - 77s 135ms/step - loss: 0.1932 - tf_smape: 16.8252\n",
      "Epoch 14/20\n",
      "567/567 [==============================] - 77s 136ms/step - loss: 0.1950 - tf_smape: 16.8795\n",
      "Epoch 15/20\n",
      "567/567 [==============================] - 76s 135ms/step - loss: 0.1905 - tf_smape: 16.7339\n",
      "Epoch 16/20\n",
      "567/567 [==============================] - 76s 135ms/step - loss: 0.1924 - tf_smape: 16.8101\n",
      "Epoch 17/20\n",
      "567/567 [==============================] - 77s 136ms/step - loss: 0.1906 - tf_smape: 16.7771\n",
      "Epoch 18/20\n",
      "567/567 [==============================] - 77s 135ms/step - loss: 0.1898 - tf_smape: 16.7510\n",
      "Epoch 19/20\n",
      "567/567 [==============================] - 76s 135ms/step - loss: 0.1894 - tf_smape: 16.7464\n",
      "Epoch 20/20\n",
      "567/567 [==============================] - 75s 133ms/step - loss: 0.1891 - tf_smape: 16.7529\n"
     ]
    }
   ],
   "source": [
    "#best_window = 30\n",
    "print(\"Model is trained and found to have : \")\n",
    "print(\"Best Window = \"    ,best_window)\n",
    "print(\"\\n\\n\")\n",
    "gc.collect()\n",
    "\n",
    "X = np.log1p(X_timeseries.iloc[:,-best_window-1:-1])\n",
    "#X = X_timeseries.iloc[:,-best_window-1:-1]\n",
    "r, c = X.shape\n",
    "X = np.array(X).reshape((r, c, 1))\n",
    "Y = np.log1p(X_timeseries.iloc[:,-1])\n",
    "#Y = X_timeseries.iloc[:,-1]\n",
    " \n",
    "#fitting model wth best parameters\n",
    "model = cnn_model(best_window, print_summary=True)\n",
    "model.fit(X, Y, batch_size=batch, epochs=epoch, verbose=1)\n",
    " \n",
    "#save the model weights\n",
    "my_model = model.to_json()\n",
    "with open(\"copy_cnn_model.json\", \"w\") as json_file:\n",
    "  json_file.write(my_model)\n",
    "model.save_weights(\"copy_cnn_model_weights.h5\")"
   ]
  },
  {
   "cell_type": "markdown",
   "metadata": {
    "colab_type": "text",
    "id": "7ath4ENr3mzZ"
   },
   "source": [
    "#### [1.3.3] CV data Analysis "
   ]
  },
  {
   "cell_type": "code",
   "execution_count": null,
   "metadata": {
    "colab": {
     "base_uri": "https://localhost:8080/",
     "height": 68
    },
    "colab_type": "code",
    "id": "QH3dkEEygEWn",
    "outputId": "398e9b1e-82a9-429e-ba76-5bffb43efc7c"
   },
   "outputs": [
    {
     "name": "stderr",
     "output_type": "stream",
     "text": [
      "100%|██████████| 73/73 [34:32<00:00, 28.39s/it]\n"
     ]
    },
    {
     "name": "stdout",
     "output_type": "stream",
     "text": [
      "\n",
      "SMAPE on CV data =  57.822529574117574\n"
     ]
    }
   ],
   "source": [
    "#history of values\n",
    "history = X_timeseries.iloc[:, -best_window:]\n",
    " \n",
    "#testing the model on test data\n",
    "test_data = pd.DataFrame()\n",
    "test_cols = test.columns.tolist()\n",
    "for col in tqdm(test_cols[:-4]):\n",
    "  clear_session()\n",
    "  X = np.log1p(history.iloc[:,-best_window:])\n",
    "  #X = history.iloc[:,-best_window:]\n",
    "  r, c = X.shape\n",
    "  X = np.array(X).reshape((r, c, 1))\n",
    "  predict = np.ceil(np.expm1(model.predict(X)))\n",
    "  #predict = np.ceil(model.predict(X))\n",
    "  predict = np.array(predict).reshape((X.shape[0]))\n",
    "  test_data[col] = predict\n",
    "  history[col]   = predict\n",
    " \n",
    "#checking SMAPE on forecasted and actual CV values\n",
    "cv_smape = np.mean(smape(test.iloc[:,:-4], test_data))\n",
    "print(\"\\nSMAPE on CV data = \",cv_smape)\n",
    "models['CNN Model'] = [best_window, cv_smape]"
   ]
  },
  {
   "cell_type": "markdown",
   "metadata": {
    "colab_type": "text",
    "id": "H1XhRweQ3mzc"
   },
   "source": [
    "#### [1.3.4] CV SMAPE Performance"
   ]
  },
  {
   "cell_type": "code",
   "execution_count": null,
   "metadata": {
    "colab": {
     "base_uri": "https://localhost:8080/",
     "height": 398
    },
    "colab_type": "code",
    "id": "5X_dmfxGgESt",
    "outputId": "bf010d1b-0ee9-465d-887b-0a693d91b4d9"
   },
   "outputs": [
    {
     "data": {
      "image/png": "[encoded data removed]",
      "text/plain": [
       "<Figure size 1080x360 with 1 Axes>"
      ]
     },
     "metadata": {
      "needs_background": "light",
      "tags": []
     },
     "output_type": "display_data"
    }
   ],
   "source": [
    "#plot for mean of actual test and predicted test\n",
    "plt.figure(figsize=(15, 5))\n",
    "plt.title('Test Mean PageViews : Actual vs. Predicted PageViews using simple CNN Model')\n",
    "actual_mean = test.iloc[:, :-4].mean(axis=0)\n",
    "pred_mean   = test_data.mean(axis=0)\n",
    " \n",
    "xtick_labels = [ x for x in enumerate(test_cols) if x[0]%5==0 ]\n",
    "xtick_loc    = [ x[0] for x in xtick_labels ]\n",
    "xtick_label  = [ x[1] for x in xtick_labels ]\n",
    "b1 = plt.plot(actual_mean, marker=\"o\")\n",
    "b2 = plt.plot(pred_mean, marker=\"*\")\n",
    "plt.xlabel('Time')\n",
    "plt.ylabel('Mean Page Views')\n",
    "plt.grid()\n",
    "plt.legend([b1[0], b2[0]], ['Actual', 'Predicted'])\n",
    "plt.xticks(xtick_loc, xtick_label, rotation=60)\n",
    "plt.show()"
   ]
  },
  {
   "cell_type": "markdown",
   "metadata": {
    "colab_type": "text",
    "id": "DKPeeXfDifu3"
   },
   "source": [
    "## [1.4] CNN-LSTM"
   ]
  },
  {
   "cell_type": "code",
   "execution_count": 30,
   "metadata": {
    "colab": {},
    "colab_type": "code",
    "id": "bax0rTVngVqN"
   },
   "outputs": [],
   "source": [
    "def cnn_lstm_model(shape, print_summary=False):\n",
    "    model = Sequential()\n",
    "    #adding convolution layer\n",
    "    model.add(Conv1D(filters=128, kernel_size=2, activation='relu', \\\n",
    "                     kernel_initializer = 'he_uniform', input_shape=(shape, 1)))\n",
    "    model.add(Conv1D(filters=128, kernel_size=2, activation='relu', \\\n",
    "                     kernel_initializer = 'he_uniform'))\n",
    "    model.add(MaxPooling1D(pool_size=3))\n",
    "    #model.add(Flatten())\n",
    "    #adding LSTM layer\n",
    "    model.add(LSTM(128, activation='relu', return_sequences=True))\n",
    "    model.add(LSTM(128, activation='relu'))\n",
    "    #flatten the model output\n",
    "    #model.add(Flatten())\n",
    "    #add Dense layers\n",
    "    #model.add(Dense(128, activation='relu'))\n",
    "    model.add(Dense(64, activation='relu'))\n",
    "    model.add(Dropout(0.20))\n",
    "    model.add(Dense(8, activation='relu'))\n",
    "    model.add(Dropout(0.20))\n",
    "    model.add(Dense(1))\n",
    " \n",
    "    #compile model with loss and metrics\n",
    "    model.compile(loss='mean_squared_error', optimizer='adam', metrics=[tf_smape])\n",
    "    #return model and Print is necessary\n",
    "    if print_summary:\n",
    "      model.summary()\n",
    "    return model"
   ]
  },
  {
   "cell_type": "markdown",
   "metadata": {
    "colab_type": "text",
    "id": "yhgMFtY23mzn"
   },
   "source": [
    "#### [1.4.1] Hyper Parameter Tuning"
   ]
  },
  {
   "cell_type": "code",
   "execution_count": 3,
   "metadata": {
    "colab": {
     "base_uri": "https://localhost:8080/",
     "height": 272
    },
    "colab_type": "code",
    "id": "TOnRl8XEgVoI",
    "outputId": "d97f2cd2-a60e-4ffe-cf66-2ddac5113006"
   },
   "outputs": [
    {
     "name": "stdout",
     "output_type": "stream",
     "text": [
      "\n",
      "**** Running for Lag= 7\n",
      "SMAPE = 39.37963930453302 for Lag = 7\n",
      "**** Running for Lag= 30\n",
      "SMAPE = 40.214171562408254 for Lag = 30\n",
      "**** Running for Lag= 90\n",
      "SMAPE = 125.42138458837948 for Lag = 90\n",
      "**** Running for Lag= 365\n",
      "SMAPE = nan for Lag = 365\n",
      "\n",
      "\n",
      "Best Values are : \n",
      " 7\n",
      " Best SMAPE on CV data is 39.37963930453302\n",
      "\n"
     ]
    }
   ],
   "source": [
    "gc.collect()\n",
    "error = list()\n",
    "for lag in lagged_window:\n",
    "  clear_session()\n",
    "  print(\"**** Running for Lag=\",lag)\n",
    "  X = np.log1p(X_timeseries.iloc[:,-lag-1:-1])\n",
    "  #X = X_timeseries.iloc[:,-lag-1:-1]\n",
    "  r, c  = X.shape\n",
    "  X = np.array(X).reshape((r, c, 1))\n",
    "  Y = np.log1p(X_timeseries.iloc[:,-1])\n",
    "  observed = X_timeseries.iloc[:,-1]\n",
    "  #Y = X_timeseries.iloc[:,-1]\n",
    "  #print(\"Dataset shape is \",X.shape)\n",
    "  model = cnn_lstm_model(lag)\n",
    "  model.fit(X, Y, batch_size=batch, epochs=epoch, verbose=1)\n",
    "  predicted = np.ceil(np.expm1(model.predict(X)))\n",
    "  #predicted = np.ceil(model.predict(X))\n",
    "  predicted = np.array(predicted).reshape((X.shape[0]))\n",
    "  #tr_smape = smape(Y, predicted)\n",
    "  cv_smape = np.mean(smape(observed, predicted))\n",
    "  error.append([cv_smape, lag])\n",
    "  print(\"SMAPE = {0} for Lag = {1}\".format(cv_smape, lag))\n",
    "\n",
    "index         = np.argmin([ x[0] for x in error ])\n",
    "best_window   = error[index][1]\n",
    "best_cv_smape = error[index][0]\n",
    " \n",
    "print(\"\\n\\nBest Values are : \\n\",best_window, \"\\n\", \"Best SMAPE on CV data is \",best_cv_smape)"
   ]
  },
  {
   "cell_type": "markdown",
   "metadata": {
    "colab_type": "text",
    "id": "smT_4a2U3mzq"
   },
   "source": [
    "#### [1.4.2] Fitting Model with Best Window"
   ]
  },
  {
   "cell_type": "code",
   "execution_count": null,
   "metadata": {
    "colab": {
     "base_uri": "https://localhost:8080/",
     "height": 1000
    },
    "colab_type": "code",
    "id": "7_NGWHkGgVgj",
    "outputId": "71a9b328-29d4-4bc3-ff09-986b883fe027"
   },
   "outputs": [
    {
     "name": "stdout",
     "output_type": "stream",
     "text": [
      "Model is trained and found to have : \n",
      "Best Window =  7\n",
      "\n",
      "\n",
      "\n",
      "Model: \"sequential\"\n",
      "_________________________________________________________________\n",
      "Layer (type)                 Output Shape              Param #   \n",
      "=================================================================\n",
      "conv1d (Conv1D)              (None, 6, 128)            384       \n",
      "_________________________________________________________________\n",
      "conv1d_1 (Conv1D)            (None, 5, 128)            32896     \n",
      "_________________________________________________________________\n",
      "max_pooling1d (MaxPooling1D) (None, 1, 128)            0         \n",
      "_________________________________________________________________\n",
      "lstm (LSTM)                  (None, 1, 128)            131584    \n",
      "_________________________________________________________________\n",
      "lstm_1 (LSTM)                (None, 128)               131584    \n",
      "_________________________________________________________________\n",
      "dense (Dense)                (None, 64)                8256      \n",
      "_________________________________________________________________\n",
      "dropout (Dropout)            (None, 64)                0         \n",
      "_________________________________________________________________\n",
      "dense_1 (Dense)              (None, 8)                 520       \n",
      "_________________________________________________________________\n",
      "dropout_1 (Dropout)          (None, 8)                 0         \n",
      "_________________________________________________________________\n",
      "dense_2 (Dense)              (None, 1)                 9         \n",
      "=================================================================\n",
      "Total params: 305,233\n",
      "Trainable params: 305,233\n",
      "Non-trainable params: 0\n",
      "_________________________________________________________________\n",
      "Epoch 1/20\n",
      "567/567 [==============================] - 15s 27ms/step - loss: 2.7432 - tf_smape: 39.3032\n",
      "Epoch 2/20\n",
      "567/567 [==============================] - 15s 26ms/step - loss: 2.1506 - tf_smape: 34.5698\n",
      "Epoch 3/20\n",
      "567/567 [==============================] - 15s 27ms/step - loss: 1.8659 - tf_smape: 31.9813\n",
      "Epoch 4/20\n",
      "567/567 [==============================] - 15s 27ms/step - loss: 1.5962 - tf_smape: 29.7126\n",
      "Epoch 5/20\n",
      "567/567 [==============================] - 15s 26ms/step - loss: 1.3745 - tf_smape: 27.8663\n",
      "Epoch 6/20\n",
      "567/567 [==============================] - 15s 26ms/step - loss: 1.1821 - tf_smape: 26.3996\n",
      "Epoch 7/20\n",
      "567/567 [==============================] - 15s 26ms/step - loss: 1.0382 - tf_smape: 25.3538\n",
      "Epoch 8/20\n",
      "567/567 [==============================] - 15s 26ms/step - loss: 0.9084 - tf_smape: 24.5452\n",
      "Epoch 9/20\n",
      "567/567 [==============================] - 15s 26ms/step - loss: 0.8081 - tf_smape: 23.9284\n",
      "Epoch 10/20\n",
      "567/567 [==============================] - 15s 26ms/step - loss: 0.7348 - tf_smape: 23.4781\n",
      "Epoch 11/20\n",
      "567/567 [==============================] - 15s 27ms/step - loss: 0.6804 - tf_smape: 23.2343\n",
      "Epoch 12/20\n",
      "567/567 [==============================] - 15s 27ms/step - loss: 0.6440 - tf_smape: 23.1066\n",
      "Epoch 13/20\n",
      "567/567 [==============================] - 15s 26ms/step - loss: 0.6227 - tf_smape: 23.1369\n",
      "Epoch 14/20\n",
      "567/567 [==============================] - 15s 27ms/step - loss: 0.5995 - tf_smape: 22.9819\n",
      "Epoch 15/20\n",
      "567/567 [==============================] - 15s 27ms/step - loss: 0.5932 - tf_smape: 23.0784\n",
      "Epoch 16/20\n",
      "567/567 [==============================] - 15s 26ms/step - loss: 0.5899 - tf_smape: 23.0904\n",
      "Epoch 17/20\n",
      "567/567 [==============================] - 16s 28ms/step - loss: 0.5859 - tf_smape: 23.1269\n",
      "Epoch 18/20\n",
      "567/567 [==============================] - 15s 27ms/step - loss: 0.5886 - tf_smape: 23.1906\n",
      "Epoch 19/20\n",
      "567/567 [==============================] - 15s 26ms/step - loss: 0.5760 - tf_smape: 23.1008\n",
      "Epoch 20/20\n",
      "567/567 [==============================] - 15s 26ms/step - loss: 0.5762 - tf_smape: 23.0964\n"
     ]
    }
   ],
   "source": [
    "best_window = 7\n",
    "print(\"Model is trained and found to have : \")\n",
    "print(\"Best Window = \",best_window)\n",
    "print(\"\\n\\n\")\n",
    "gc.collect()\n",
    "X = np.log1p(X_timeseries.iloc[:,-best_window-1:-1])\n",
    "#X = X_timeseries.iloc[:,-best_window-1:-1\n",
    "r, c = X.shape\n",
    "X = np.array(X).reshape((r, c, 1))\n",
    "Y = np.log1p(X_timeseries.iloc[:,-1])\n",
    "#Y = X_timeseries.iloc[:,-1]\n",
    " \n",
    "#fitting model wth best parameters\n",
    "model = cnn_lstm_model(best_window, print_summary=True)\n",
    "model.fit(X, Y, batch_size=batch, epochs=epoch, verbose=1)\n",
    " \n",
    "#save the model weights\n",
    "my_model = model.to_json()\n",
    "with open(\"copy_cnn_lstm_model.json\", \"w\") as json_file:\n",
    "  json_file.write(my_model)\n",
    "model.save_weights(\"copy_cnn_lstm_model_weights.h5\")"
   ]
  },
  {
   "cell_type": "markdown",
   "metadata": {
    "colab_type": "text",
    "id": "1OejJNwy3mzu"
   },
   "source": [
    "#### [1.4.3] CV data Analysis"
   ]
  },
  {
   "cell_type": "code",
   "execution_count": null,
   "metadata": {
    "colab": {
     "base_uri": "https://localhost:8080/",
     "height": 68
    },
    "colab_type": "code",
    "id": "T2b9qp8ugEMP",
    "outputId": "0b8c6239-c100-4ae4-a0b2-8cdc8c029751"
   },
   "outputs": [
    {
     "name": "stderr",
     "output_type": "stream",
     "text": [
      "100%|██████████| 73/73 [05:00<00:00,  4.12s/it]\n"
     ]
    },
    {
     "name": "stdout",
     "output_type": "stream",
     "text": [
      "\n",
      "SMAPE on CV data =  97.02710490172983\n"
     ]
    }
   ],
   "source": [
    "#history of values\n",
    "history = X_timeseries.iloc[:, -best_window:]\n",
    " \n",
    "gc.collect()\n",
    "#testing the model on test data\n",
    "test_data = pd.DataFrame()\n",
    "test_cols = test.columns.tolist()\n",
    "for col in tqdm(test_cols[:-4]):\n",
    "  clear_session()\n",
    "  X = np.log1p(history.iloc[:,-best_window:])\n",
    "  #X = history.iloc[:,-best_window:]\n",
    "  r, c = X.shape\n",
    "  X = np.array(X).reshape((r, c, 1))\n",
    "  predict = np.ceil(np.expm1(model.predict(X, batch_size=batch, use_multiprocessing=True)))\n",
    "  #predict = np.ceil(model.predict(X))\n",
    "  predict = np.array(predict).reshape((X.shape[0]))\n",
    "  test_data[col] = predict\n",
    "  history[col]   = predict\n",
    " \n",
    "#checking SMAPE on forecasted and actual CV values\n",
    "cv_smape = np.mean(smape(test.iloc[:,:-4], test_data))\n",
    "print(\"\\nSMAPE on CV data = \",cv_smape)\n",
    "models['CNN-LSTM Model'] = [best_window, cv_smape]"
   ]
  },
  {
   "cell_type": "markdown",
   "metadata": {
    "colab_type": "text",
    "id": "pdPxi59E3mzx"
   },
   "source": [
    "#### [1.4.4] CV SMAPE Performance"
   ]
  },
  {
   "cell_type": "code",
   "execution_count": null,
   "metadata": {
    "colab": {
     "base_uri": "https://localhost:8080/",
     "height": 398
    },
    "colab_type": "code",
    "id": "XV1zML7Zgr4h",
    "outputId": "4b7d268f-8ba9-46c8-b823-77593994e11b"
   },
   "outputs": [
    {
     "data": {
      "image/png": "[encoded data removed]",
      "text/plain": [
       "<Figure size 1080x360 with 1 Axes>"
      ]
     },
     "metadata": {
      "needs_background": "light",
      "tags": []
     },
     "output_type": "display_data"
    }
   ],
   "source": [
    "#plot for mean of actual test and predicted test\n",
    "plt.figure(figsize=(15, 5))\n",
    "plt.title('Test Mean PageViews : Actual vs. Predicted PageViews using CNN-LSTM Model')\n",
    "actual_mean = test.iloc[:, :-4].mean(axis=0)\n",
    "pred_mean   = test_data.mean(axis=0)\n",
    " \n",
    "xtick_labels = [ x for x in enumerate(test_cols) if x[0]%5==0 ]\n",
    "xtick_loc    = [ x[0] for x in xtick_labels ]\n",
    "xtick_label  = [ x[1] for x in xtick_labels ]\n",
    "b1 = plt.plot(actual_mean, marker=\"o\")\n",
    "b2 = plt.plot(pred_mean, marker=\"*\")\n",
    "plt.xlabel('Time')\n",
    "plt.ylabel('Mean Page Views')\n",
    "plt.grid()\n",
    "plt.legend([b1[0], b2[0]], ['Actual', 'Predicted'])\n",
    "plt.xticks(xtick_loc, xtick_label, rotation=60)\n",
    "plt.show()"
   ]
  },
  {
   "cell_type": "markdown",
   "metadata": {
    "colab_type": "text",
    "id": "PTVoAq7Vpsm1"
   },
   "source": [
    "## [2] Conclusion : Model Performance "
   ]
  },
  {
   "cell_type": "code",
   "execution_count": 8,
   "metadata": {
    "colab": {
     "base_uri": "https://localhost:8080/",
     "height": 153
    },
    "colab_type": "code",
    "id": "_8IHx6xhfav-",
    "outputId": "c47ad316-c0ae-4050-8512-c48d65f0e1fe"
   },
   "outputs": [
    {
     "name": "stdout",
     "output_type": "stream",
     "text": [
      "+----------------+-------------+----------------+\n",
      "|     Model      | Best Window | CV performance |\n",
      "+----------------+-------------+----------------+\n",
      "|   DNN Model    |      90     |    52.2255     |\n",
      "|   LSTM Model   |      30     |    84.4969     |\n",
      "|   CNN Model    |      90     |    57.8225     |\n",
      "| CNN-LSTM Model |      7      |    97.0271     |\n",
      "+----------------+-------------+----------------+\n"
     ]
    }
   ],
   "source": [
    "from prettytable import PrettyTable\n",
    "dl_models = PrettyTable(['Model', 'Best Window', 'CV performance'])\n",
    "\n",
    "for k, v in models.items():\n",
    "  dl_models.add_row([k, v[0], round(v[1], 4)])\n",
    "\n",
    "print(dl_models)"
   ]
  },
  {
   "cell_type": "markdown",
   "metadata": {
    "colab_type": "text",
    "id": "3CE9FcPgpz0j"
   },
   "source": [
    "<p>From above, we can see that Models, DNN, CNN and LSTM gives least SMAPE with CV data.</p>\n",
    "\n",
    "<p>We will prepare the test forecasting of these models as well as increase the layers of the LSTM and CNN models to check if they perform better or not</p>"
   ]
  },
  {
   "cell_type": "markdown",
   "metadata": {
    "colab_type": "text",
    "id": "2k8VFro-bLeB"
   },
   "source": [
    "## [3] On Test Data"
   ]
  },
  {
   "cell_type": "code",
   "execution_count": null,
   "metadata": {
    "colab": {},
    "colab_type": "code",
    "id": "6S-S6aywLG9q"
   },
   "outputs": [],
   "source": [
    "models = dict()"
   ]
  },
  {
   "cell_type": "markdown",
   "metadata": {
    "colab_type": "text",
    "id": "3JRd66gMnREA"
   },
   "source": [
    "## [3.1] Test Data Analysis : DNN Model"
   ]
  },
  {
   "cell_type": "code",
   "execution_count": null,
   "metadata": {
    "colab": {},
    "colab_type": "code",
    "id": "ZiYshb_khfOu"
   },
   "outputs": [],
   "source": [
    "#load the model weights\n",
    "with open('copy_dnn_model.json', 'r') as f:\n",
    "    model = model_from_json(f.read())\n",
    "# Load weights into the new model\n",
    "model.load_weights('copy_dnn_model_weights.h5')"
   ]
  },
  {
   "cell_type": "code",
   "execution_count": 22,
   "metadata": {
    "colab": {
     "base_uri": "https://localhost:8080/",
     "height": 34
    },
    "colab_type": "code",
    "id": "3jN_rTwghvil",
    "outputId": "0a191714-b6bc-4025-a913-818b3b616e7f"
   },
   "outputs": [
    {
     "name": "stdout",
     "output_type": "stream",
     "text": [
      "DNN Model is trained and found to have Best_Window of 90\n"
     ]
    }
   ],
   "source": [
    "best_window = 90\n",
    "print(\"DNN Model is trained and found to have Best_Window of %d\"%best_window)\n",
    "\n",
    "past_data_cols = complete_train.columns.tolist()[-best_window-5:]\n",
    "past_data_cols.insert(0, 'Page')\n",
    "\n",
    "past_data = complete_train[past_data_cols]\n",
    "#past_data.head()\n",
    "\n",
    "#getting date columns and non_date columns\n",
    "date_cols = [ x for x in past_data.columns.tolist() if '-' in x ]\n",
    "non_date  = [ x for x in past_data.columns.tolist() if x not in date_cols and x != 'Page' ]\n",
    "\n",
    "#separating the ata into series of PageViews and Site features\n",
    "timeseries_X = complete_train[date_cols]"
   ]
  },
  {
   "cell_type": "code",
   "execution_count": 23,
   "metadata": {
    "colab": {
     "base_uri": "https://localhost:8080/",
     "height": 323
    },
    "colab_type": "code",
    "id": "I4_kSO4rh193",
    "outputId": "7a5ecf37-5a96-4bd3-a4cf-e8c1da9c3218"
   },
   "outputs": [
    {
     "name": "stdout",
     "output_type": "stream",
     "text": [
      "Model: \"sequential\"\n",
      "_________________________________________________________________\n",
      "Layer (type)                 Output Shape              Param #   \n",
      "=================================================================\n",
      "dense (Dense)                (None, 512)               46592     \n",
      "_________________________________________________________________\n",
      "dense_1 (Dense)              (None, 128)               65664     \n",
      "_________________________________________________________________\n",
      "dense_2 (Dense)              (None, 64)                8256      \n",
      "_________________________________________________________________\n",
      "dense_3 (Dense)              (None, 8)                 520       \n",
      "_________________________________________________________________\n",
      "dense_4 (Dense)              (None, 1)                 9         \n",
      "=================================================================\n",
      "Total params: 121,041\n",
      "Trainable params: 121,041\n",
      "Non-trainable params: 0\n",
      "_________________________________________________________________\n"
     ]
    }
   ],
   "source": [
    "X = np.log1p(timeseries_X.iloc[:,:-1])\n",
    "#X = X_timeseries.iloc[:,-best_window-1:-1]\n",
    "r, c = X.shape\n",
    "X = np.array(X).reshape((r, c, 1))\n",
    "Y = np.log1p(timeseries_X.iloc[:,-1])\n",
    "#Y = X_timeseries.iloc[:,-1]\n",
    "\n",
    "#from tensorflow.keras.models import model_from_json\n",
    "#with open('complex_lstm_model.json', 'r') as f:\n",
    "#    model = model_from_json(f.read())\n",
    "## Load weights into the new model\n",
    "#model.load_weights('complex_lstm_model_weights.h5')\n",
    "model.summary()\n",
    "\n",
    "#model.fit(X, Y, batch_size=batch, epochs=epoch, verbose=1)"
   ]
  },
  {
   "cell_type": "code",
   "execution_count": null,
   "metadata": {
    "colab": {},
    "colab_type": "code",
    "id": "xKjBxcWXh8wy"
   },
   "outputs": [],
   "source": [
    "model_test = pd.DataFrame()\n",
    "model_test['Page'] = complete_train.Page.values\n",
    "#print(past_data.shape)\n",
    "for test_index in range(len(test_days)):\n",
    "    #clear_session()\n",
    "    print(\"Remaining are %d\"%(len(test_days)-test_index+1))\n",
    "    #print(history.shape)\n",
    "    X = np.log1p(timeseries_X.iloc[:,-best_window:])\n",
    "    r, c = X.shape\n",
    "    #X = np.array(X).reshape((r, c, 1))\n",
    "    #X_lagged = np.hstack((X_pagename_te, X))\n",
    "    predicted = np.ceil(np.expm1(model.predict(X)))\n",
    "    model_test[test_days[test_index]]   = predicted\n",
    "    timeseries_X[test_days[test_index]] = predicted"
   ]
  },
  {
   "cell_type": "code",
   "execution_count": 26,
   "metadata": {
    "colab": {},
    "colab_type": "code",
    "id": "_6NYUZQgiK_W"
   },
   "outputs": [],
   "source": [
    "f = open('simple_dnn_Page_Count.csv', 'w')\n",
    "f.write('Page|Visits'+'\\n')\n",
    "for col in model_test.iloc[:,-62:].columns.tolist():\n",
    "  test_data = model_test[['Page',col]]\n",
    "  pageviews = [ str(int(x)) for x in test_data.iloc[:,-1] ]\n",
    "  pagename  = [ x+'_'+test_data.columns.tolist()[-1] for x in test_data.iloc[:,0] ]\n",
    "  page_view = list(zip(pagename,pageviews))\n",
    "  #writing it into file\n",
    "  for line in page_view:\n",
    "    n, c = line\n",
    "    f.write(n+'|'+c)\n",
    "    f.write('\\n')\n",
    "test_data_final = pd.read_csv('./simple_dnn_Page_Count.csv', sep='|')  \n",
    "\n",
    "#saving the final file\n",
    "page_key.merge(test_data_final, how='left', on='Page')[['Id', 'Visits']].fillna(0).to_csv('./Test_Data_simple_dnn.csv', index=False)"
   ]
  },
  {
   "cell_type": "markdown",
   "metadata": {
    "colab_type": "text",
    "id": "RzEs_Xrow5VK"
   },
   "source": [
    "![image.png](data:image/png;base64,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)"
   ]
  },
  {
   "cell_type": "code",
   "execution_count": null,
   "metadata": {
    "colab": {},
    "colab_type": "code",
    "id": "kHOQx6mIpG7i"
   },
   "outputs": [],
   "source": [
    "models['DNN Model'] = [best_window, cv_smape, 79.44122]"
   ]
  },
  {
   "cell_type": "markdown",
   "metadata": {
    "colab_type": "text",
    "id": "tUZ6R8PFekbB"
   },
   "source": [
    "## [3.2] Test Data Analysis : CNN Model"
   ]
  },
  {
   "cell_type": "code",
   "execution_count": 34,
   "metadata": {
    "colab": {
     "base_uri": "https://localhost:8080/",
     "height": 34
    },
    "colab_type": "code",
    "id": "43yadbnabKT4",
    "outputId": "63f4a9aa-b380-42b1-cc15-288bc33a0cb7"
   },
   "outputs": [
    {
     "name": "stdout",
     "output_type": "stream",
     "text": [
      "CNN Model is trained and found to have Best_Window of 90\n"
     ]
    }
   ],
   "source": [
    "best_window = 90\n",
    "print(\"CNN Model is trained and found to have Best_Window of %d\"%best_window)\n",
    "\n",
    "\n",
    "past_data_cols = complete_train.columns.tolist()[-best_window-5:]\n",
    "past_data_cols.insert(0, 'Page')\n",
    "\n",
    "past_data = complete_train[past_data_cols]\n",
    "#past_data.head()\n",
    "\n",
    "#getting date columns and non_date columns\n",
    "date_cols = [ x for x in past_data.columns.tolist() if '-' in x ]\n",
    "non_date  = [ x for x in past_data.columns.tolist() if x not in date_cols and x != 'Page' ]\n",
    "\n",
    "#separating the ata into series of PageViews and Site features\n",
    "pagename_X   = complete_train[non_date]\n",
    "timeseries_X = complete_train[date_cols]"
   ]
  },
  {
   "cell_type": "code",
   "execution_count": 36,
   "metadata": {
    "colab": {
     "base_uri": "https://localhost:8080/",
     "height": 357
    },
    "colab_type": "code",
    "id": "Z3vT9nt-dmch",
    "outputId": "62237a08-502f-45ce-e735-5a25e548e570"
   },
   "outputs": [
    {
     "name": "stdout",
     "output_type": "stream",
     "text": [
      "Model: \"sequential_1\"\n",
      "_________________________________________________________________\n",
      "Layer (type)                 Output Shape              Param #   \n",
      "=================================================================\n",
      "conv1d_2 (Conv1D)            (None, 89, 128)           384       \n",
      "_________________________________________________________________\n",
      "conv1d_3 (Conv1D)            (None, 88, 128)           32896     \n",
      "_________________________________________________________________\n",
      "max_pooling1d_1 (MaxPooling1 (None, 29, 128)           0         \n",
      "_________________________________________________________________\n",
      "flatten_1 (Flatten)          (None, 3712)              0         \n",
      "_________________________________________________________________\n",
      "dense_2 (Dense)              (None, 32)                118816    \n",
      "_________________________________________________________________\n",
      "dense_3 (Dense)              (None, 1)                 33        \n",
      "=================================================================\n",
      "Total params: 152,129\n",
      "Trainable params: 152,129\n",
      "Non-trainable params: 0\n",
      "_________________________________________________________________\n"
     ]
    }
   ],
   "source": [
    "X = np.log1p(timeseries_X.iloc[:,-best_window-1:-1])\n",
    "#X = X_timeseries.iloc[:,-best_window-1:-1]\n",
    "r, c = X.shape\n",
    "X = np.array(X).reshape((r, c, 1))\n",
    "Y = np.log1p(timeseries_X.iloc[:,-1])\n",
    "#Y = X_timeseries.iloc[:,-1]\n",
    " \n",
    "from tensorflow.keras.models import model_from_json\n",
    "with open('copy_cnn_model.json', 'r') as f:\n",
    "    model = model_from_json(f.read())\n",
    "# Load weights into the new model\n",
    "model.load_weights('copy_cnn_model_weights.h5')\n",
    "model.summary()\n",
    "\n",
    "#model.fit(X, Y, batch_size=batch, epochs=epoch, verbose=1)"
   ]
  },
  {
   "cell_type": "code",
   "execution_count": null,
   "metadata": {
    "colab": {},
    "colab_type": "code",
    "id": "pVAaty25bKb6"
   },
   "outputs": [],
   "source": [
    "model_test = pd.DataFrame()\n",
    "model_test['Page'] = complete_train.Page.values\n",
    "#print(past_data.shape)\n",
    "for test_index in range(len(test_days)):\n",
    "    #clear_session()\n",
    "    print(\"Remaining are %d\"%(len(test_days)-test_index+1))\n",
    "    #print(history.shape)\n",
    "    X = np.log1p(timeseries_X.iloc[:,-best_window:])\n",
    "    r, c = X.shape\n",
    "    X = np.array(X).reshape((r, c, 1))\n",
    "    #X_lagged = np.hstack((X_pagename_te, X))\n",
    "    predicted = np.ceil(np.expm1(model.predict(X)))\n",
    "    model_test[test_days[test_index]]   = predicted\n",
    "    timeseries_X[test_days[test_index]] = predicted"
   ]
  },
  {
   "cell_type": "code",
   "execution_count": 43,
   "metadata": {
    "colab": {},
    "colab_type": "code",
    "id": "2i6anr6ubKju"
   },
   "outputs": [],
   "source": [
    "f = open('CNN_Page_Count.csv', 'w')\n",
    "f.write('Page|Visits'+'\\n')\n",
    "for col in model_test.iloc[:,-62:].columns.tolist():\n",
    "  test_data = model_test[['Page',col]]\n",
    "  pageviews = [ str(int(x)) for x in test_data.iloc[:,-1] ]\n",
    "  pagename  = [ x+'_'+test_data.columns.tolist()[-1] for x in test_data.iloc[:,0] ]\n",
    "  page_view = list(zip(pagename,pageviews))\n",
    "  #writing it into file\n",
    "  for line in page_view:\n",
    "    n, c = line\n",
    "    f.write(n+'|'+c)\n",
    "    f.write('\\n')\n",
    "test_data_final = pd.read_csv('./CNN_Page_Count.csv', sep='|')  \n",
    "\n",
    "#saving the final file\n",
    "page_key.merge(test_data_final, how='left', on='Page')[['Id', 'Visits']].fillna(0).to_csv('./Test_Data_CNN.csv', index=False)"
   ]
  },
  {
   "cell_type": "markdown",
   "metadata": {
    "colab_type": "text",
    "id": "1GT_f5Ginpcb"
   },
   "source": [
    "![image.png](data:image/png;base64,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)"
   ]
  },
  {
   "cell_type": "code",
   "execution_count": null,
   "metadata": {
    "colab": {},
    "colab_type": "code",
    "id": "ihbHIP7yo2xM"
   },
   "outputs": [],
   "source": [
    "models['CNN Model'] = [best_window, cv_smape, 46.79253]"
   ]
  },
  {
   "cell_type": "markdown",
   "metadata": {
    "colab_type": "text",
    "id": "1TyAmTOYedOe"
   },
   "source": [
    "## [3.3] Test Data Analysis : LSTM Model"
   ]
  },
  {
   "cell_type": "code",
   "execution_count": 12,
   "metadata": {
    "colab": {
     "base_uri": "https://localhost:8080/",
     "height": 34
    },
    "colab_type": "code",
    "id": "J-yK8RAybKYS",
    "outputId": "0eca6a16-8aa9-4597-c03c-302438397892"
   },
   "outputs": [
    {
     "name": "stdout",
     "output_type": "stream",
     "text": [
      "LSTM Model is trained and found to have Best_Window of 30\n"
     ]
    }
   ],
   "source": [
    "best_window = 30\n",
    "print(\"LSTM Model is trained and found to have Best_Window of %d\"%best_window)\n",
    "\n",
    "\n",
    "past_data_cols = complete_train.columns.tolist()[-best_window-5:]\n",
    "past_data_cols.insert(0, 'Page')\n",
    "\n",
    "past_data = complete_train[past_data_cols]\n",
    "#past_data.head()\n",
    "\n",
    "#getting date columns and non_date columns\n",
    "date_cols = [ x for x in past_data.columns.tolist() if '-' in x ]\n",
    "non_date  = [ x for x in past_data.columns.tolist() if x not in date_cols and x != 'Page' ]\n",
    "\n",
    "#separating the ata into series of PageViews and Site features\n",
    "pagename_X   = complete_train[non_date]\n",
    "timeseries_X = complete_train[date_cols]"
   ]
  },
  {
   "cell_type": "code",
   "execution_count": 13,
   "metadata": {
    "colab": {
     "base_uri": "https://localhost:8080/",
     "height": 289
    },
    "colab_type": "code",
    "id": "xCt1nu8mbKPc",
    "outputId": "bbe37cb7-987f-48f0-85ff-93b39f2c6cef"
   },
   "outputs": [
    {
     "name": "stdout",
     "output_type": "stream",
     "text": [
      "Model: \"sequential\"\n",
      "_________________________________________________________________\n",
      "Layer (type)                 Output Shape              Param #   \n",
      "=================================================================\n",
      "lstm (LSTM)                  (None, 30, 16)            1152      \n",
      "_________________________________________________________________\n",
      "lstm_1 (LSTM)                (None, 16)                2112      \n",
      "_________________________________________________________________\n",
      "dropout (Dropout)            (None, 16)                0         \n",
      "_________________________________________________________________\n",
      "dense (Dense)                (None, 1)                 17        \n",
      "=================================================================\n",
      "Total params: 3,281\n",
      "Trainable params: 3,281\n",
      "Non-trainable params: 0\n",
      "_________________________________________________________________\n"
     ]
    }
   ],
   "source": [
    "X = np.log1p(timeseries_X.iloc[:,:-1])\n",
    "#X = X_timeseries.iloc[:,-best_window-1:-1]\n",
    "r, c = X.shape\n",
    "X = np.array(X).reshape((r, c, 1))\n",
    "Y = np.log1p(timeseries_X.iloc[:,-1])\n",
    "#Y = X_timeseries.iloc[:,-1]\n",
    " \n",
    "#fitting model wth best parameters\n",
    "#model = lstm(best_window, print_summary=True)\n",
    "\n",
    "from tensorflow.keras.models import model_from_json\n",
    "with open('copy_lstm_model.json', 'r') as f:\n",
    "    model = model_from_json(f.read())\n",
    "# Load weights into the new model\n",
    "model.load_weights('copy_lstm_model_weights.h5')\n",
    "model.summary()\n",
    "\n",
    "#model.fit(X, Y, batch_size=batch, epochs=epoch, verbose=1)"
   ]
  },
  {
   "cell_type": "code",
   "execution_count": null,
   "metadata": {
    "colab": {},
    "colab_type": "code",
    "id": "mJxcjOHLbKNe"
   },
   "outputs": [],
   "source": [
    "model_test = pd.DataFrame()\n",
    "model_test['Page'] = complete_train.Page.values\n",
    "#print(past_data.shape)\n",
    "for test_index in range(len(test_days)):\n",
    "    #clear_session()\n",
    "    print(\"Remaining are %d\"%(len(test_days)-test_index+1))\n",
    "    #print(history.shape)\n",
    "    X = np.log1p(timeseries_X.iloc[:,-best_window:])\n",
    "    r, c = X.shape\n",
    "    X = np.array(X).reshape((r, c, 1))\n",
    "    #X_lagged = np.hstack((X_pagename_te, X))\n",
    "    predicted = np.ceil(np.expm1(model.predict(X)))\n",
    "    model_test[test_days[test_index]]   = predicted\n",
    "    timeseries_X[test_days[test_index]] = predicted"
   ]
  },
  {
   "cell_type": "code",
   "execution_count": 15,
   "metadata": {
    "colab": {},
    "colab_type": "code",
    "id": "VKUpW9QfbKKx"
   },
   "outputs": [],
   "source": [
    "f = open('simple_LSTM_Page_Count.csv', 'w')\n",
    "f.write('Page|Visits'+'\\n')\n",
    "for col in model_test.iloc[:,-62:].columns.tolist():\n",
    "  test_data = model_test[['Page',col]]\n",
    "  pageviews = [ str(int(x)) for x in test_data.iloc[:,-1] ]\n",
    "  pagename  = [ x+'_'+test_data.columns.tolist()[-1] for x in test_data.iloc[:,0] ]\n",
    "  page_view = list(zip(pagename,pageviews))\n",
    "  #writing it into file\n",
    "  for line in page_view:\n",
    "    n, c = line\n",
    "    f.write(n+'|'+c)\n",
    "    f.write('\\n')\n",
    "test_data_final = pd.read_csv('./simple_LSTM_Page_Count.csv', sep='|')  \n",
    "\n",
    "#saving the final file\n",
    "page_key.merge(test_data_final, how='left', on='Page')[['Id', 'Visits']].fillna(0).to_csv('./Test_Data_simple_LSTM.csv', index=False)"
   ]
  },
  {
   "cell_type": "markdown",
   "metadata": {
    "colab_type": "text",
    "id": "0OmTlTzg0krP"
   },
   "source": [
    "![image.png](data:image/png;base64,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)"
   ]
  },
  {
   "cell_type": "code",
   "execution_count": null,
   "metadata": {
    "colab": {},
    "colab_type": "code",
    "id": "oiG27JKmnm_I"
   },
   "outputs": [],
   "source": [
    "models['LSTM Model'] = [ best_window, cv_smape, 84.03305]"
   ]
  },
  {
   "cell_type": "markdown",
   "metadata": {
    "colab_type": "text",
    "id": "zoclnW093x27"
   },
   "source": [
    "\n",
    "\n",
    "---\n",
    "\n"
   ]
  },
  {
   "cell_type": "markdown",
   "metadata": {
    "colab_type": "text",
    "id": "BTYnJrYd3zG3"
   },
   "source": [
    "## [4] Increasing the complexity of DL Models"
   ]
  },
  {
   "cell_type": "markdown",
   "metadata": {
    "colab_type": "text",
    "id": "J9qdil6a6beK"
   },
   "source": [
    "## [4.1] Complex LSTM Model"
   ]
  },
  {
   "cell_type": "code",
   "execution_count": null,
   "metadata": {
    "colab": {},
    "colab_type": "code",
    "id": "x-M9fGYbEBdB"
   },
   "outputs": [],
   "source": [
    "clear_session()"
   ]
  },
  {
   "cell_type": "code",
   "execution_count": null,
   "metadata": {
    "colab": {},
    "colab_type": "code",
    "id": "6zub20LG3wzP"
   },
   "outputs": [],
   "source": [
    "def complex_lstm(shape, print_summary=False):\n",
    "    \"\"\"\n",
    "    simple 2 layered LSTM model for data. Returns the compiled model with \n",
    "    passed parameters.\n",
    "    \"\"\"\n",
    "    model = Sequential()\n",
    "    model.add(LSTM(128, activation='relu', return_sequences=True, input_shape=(shape, 1)))\n",
    "    model.add(LSTM(128, activation='relu', return_sequences=True))\n",
    "    model.add(Dropout(0.20))\n",
    "    #model.add(LSTM(64, activation='tanh', return_sequences=True))\n",
    "    model.add(LSTM(64, activation='relu'))\n",
    "    model.add(Dropout(0.20))\n",
    "    #model.add(Flatten())\n",
    "    #model.add(Dense(16, activation='relu'))\n",
    "    #model.add(Dropout(0.5))\n",
    "    #model.add(Dense(8, activation='relu'))\n",
    "    #model.add(Dropout(0.5))\n",
    "    model.add(Dense(1))\n",
    "    model.compile(loss='mean_squared_error', optimizer='adam', metrics=[tf_smape])\n",
    "    if print_summary:\n",
    "        model.summary()\n",
    "    return model"
   ]
  },
  {
   "cell_type": "markdown",
   "metadata": {
    "colab_type": "text",
    "id": "rjb2dh-i6TG9"
   },
   "source": [
    "#### [4.1.1] Hyper Parameter Tuning"
   ]
  },
  {
   "cell_type": "code",
   "execution_count": 47,
   "metadata": {
    "colab": {
     "base_uri": "https://localhost:8080/",
     "height": 187
    },
    "colab_type": "code",
    "id": "uLuwCVtN3xNZ",
    "outputId": "0fc648f1-35e3-4f8f-8fdb-d4fd5c3a3c3f"
   },
   "outputs": [
    {
     "name": "stdout",
     "output_type": "stream",
     "text": [
      "\n",
      "**** Running for Lag= 7\n",
      "SMAPE for Lag=7 is 31.909865\n",
      "**** Running for Lag= 30\n",
      "SMAPE for Lag=30 is 33.070041\n",
      "**** Running for Lag= 90\n",
      "SMAPE for Lag=90 is 39.066548\n",
      "**** Running for Lag= 365\n",
      "SMAPE for Lag=365 is nan\n",
      "\n"
     ]
    }
   ],
   "source": [
    "gc.collect()\n",
    "error = list()\n",
    "for lag in sorted(lagged_window, reverse=True):\n",
    "  clear_session()\n",
    "  print(\"**** Running for Lag=\",lag)\n",
    "  X = np.log1p(X_timeseries.iloc[:,-lag-1:-1])\n",
    "  #X = X_timeseries.iloc[:,-lag-1:-1]\n",
    "  r, c  = X.shape\n",
    "  X = np.array(X).reshape((r, c, 1))\n",
    "  Y = np.log1p(X_timeseries.iloc[:,-1])\n",
    "  observed = X_timeseries.iloc[:, -1]\n",
    "  #Y = X_timeseries.iloc[:,-1]\n",
    "  #print(\"Dataset shape is \",X.shape)\n",
    "  model = complex_lstm(lag, print_summary=False)\n",
    "  model.fit(X, Y, batch_size=batch, epochs=deep_epoch, verbose=1, \\\n",
    "            callbacks=[dl_stopping])\n",
    "  predicted = np.ceil(np.expm1(model.predict(X)))\n",
    "  #predicted = np.ceil(model.predict(X))\n",
    "  predicted = np.array(predicted).reshape((X.shape[0]))\n",
    "  #tr_smape = smape(Y, predicted)\n",
    "  cv_smape = np.mean(smape(observed, predicted))\n",
    "  print(\"SMAPE for Lag=%d is %f\"%(lag, cv_smape))\n",
    "  error.append([cv_smape, lag])\n",
    " \n",
    "index         = np.argmin([ x[0] for x in error ])\n",
    "best_window   = error[index][1]\n",
    "best_cv_smape = error[index][0]\n",
    " \n",
    "print(\"\\n\\nBest Values are : \\n\",best_window, \"\\n\", best_cv_smape)"
   ]
  },
  {
   "cell_type": "markdown",
   "metadata": {
    "colab_type": "text",
    "id": "PsAiBNUX7m_-"
   },
   "source": [
    "#### [4.1.2] Fitting model with Best Window"
   ]
  },
  {
   "cell_type": "code",
   "execution_count": 39,
   "metadata": {
    "colab": {
     "base_uri": "https://localhost:8080/",
     "height": 1000
    },
    "colab_type": "code",
    "id": "Fwlf7JMY3xIb",
    "outputId": "80e1e5e0-4f6d-4920-d082-ef44b8fc181c"
   },
   "outputs": [
    {
     "name": "stdout",
     "output_type": "stream",
     "text": [
      "\n",
      "Model is trained and found to have : \n",
      "Best Window =  7\n",
      "\n",
      "\n",
      "\n",
      "Model: \"sequential\"\n",
      "_________________________________________________________________\n",
      "Layer (type)                 Output Shape              Param #   \n",
      "=================================================================\n",
      "lstm (LSTM)                  (None, 7, 128)            66560     \n",
      "_________________________________________________________________\n",
      "lstm_1 (LSTM)                (None, 7, 128)            131584    \n",
      "_________________________________________________________________\n",
      "dropout (Dropout)            (None, 7, 128)            0         \n",
      "_________________________________________________________________\n",
      "lstm_2 (LSTM)                (None, 64)                49408     \n",
      "_________________________________________________________________\n",
      "dropout_1 (Dropout)          (None, 64)                0         \n",
      "_________________________________________________________________\n",
      "dense (Dense)                (None, 8)                 520       \n",
      "_________________________________________________________________\n",
      "dropout_2 (Dropout)          (None, 8)                 0         \n",
      "_________________________________________________________________\n",
      "dense_1 (Dense)              (None, 1)                 9         \n",
      "=================================================================\n",
      "Total params: 248,081\n",
      "Trainable params: 248,081\n",
      "Non-trainable params: 0\n",
      "_________________________________________________________________\n",
      "Epoch 1/150\n",
      "567/567 [==============================] - 54s 96ms/step - loss: 2.9923 - tf_smape: 41.4516\n",
      "Epoch 2/150\n",
      "567/567 [==============================] - 55s 98ms/step - loss: 2.1058 - tf_smape: 34.6045\n",
      "Epoch 3/150\n",
      "567/567 [==============================] - 55s 96ms/step - loss: 1.8631 - tf_smape: 32.2406\n",
      "Epoch 4/150\n",
      "567/567 [==============================] - 54s 96ms/step - loss: 1.6138 - tf_smape: 29.9833\n",
      "Epoch 5/150\n",
      "567/567 [==============================] - 54s 95ms/step - loss: 1.3862 - tf_smape: 28.0773\n",
      "Epoch 6/150\n",
      "567/567 [==============================] - 55s 96ms/step - loss: 1.1779 - tf_smape: 26.4863\n",
      "Epoch 7/150\n",
      "567/567 [==============================] - 54s 95ms/step - loss: 1.0227 - tf_smape: 25.2855\n",
      "Epoch 8/150\n",
      "567/567 [==============================] - 54s 95ms/step - loss: 0.8877 - tf_smape: 24.3836\n",
      "Epoch 9/150\n",
      "567/567 [==============================] - 56s 99ms/step - loss: 0.7844 - tf_smape: 23.6706\n",
      "Epoch 10/150\n",
      "567/567 [==============================] - 56s 98ms/step - loss: 0.6987 - tf_smape: 23.1408\n",
      "Epoch 11/150\n",
      "567/567 [==============================] - 56s 99ms/step - loss: 0.6427 - tf_smape: 22.8360\n",
      "Epoch 12/150\n",
      "567/567 [==============================] - 57s 100ms/step - loss: 0.5988 - tf_smape: 22.6008\n",
      "Epoch 13/150\n",
      "567/567 [==============================] - 56s 98ms/step - loss: 0.5743 - tf_smape: 22.5213\n",
      "Epoch 14/150\n",
      "567/567 [==============================] - 55s 98ms/step - loss: 0.5550 - tf_smape: 22.5485\n",
      "Epoch 15/150\n",
      "567/567 [==============================] - 57s 100ms/step - loss: 0.5465 - tf_smape: 22.5774\n",
      "Epoch 16/150\n",
      "567/567 [==============================] - 58s 102ms/step - loss: 0.5395 - tf_smape: 22.5988\n",
      "\n"
     ]
    }
   ],
   "source": [
    "print(\"Model is trained and found to have : \")\n",
    "print(\"Best Window = \",best_window)\n",
    "print(\"\\n\\n\")\n",
    "\n",
    "#fiting model with best parameters\n",
    "X = np.log1p(X_timeseries.iloc[:,-best_window-1:-1])\n",
    "#X = X_timeseries.iloc[:,-best_window-1:-1]\n",
    "r, c = X.shape\n",
    "X = np.array(X).reshape((r, c, 1))\n",
    "Y = np.log1p(X_timeseries.iloc[:,-1])\n",
    "#Y = X_timeseries.iloc[:,-1]\n",
    " \n",
    "#fitting model wth best parameters\n",
    "clear_session()\n",
    "model = complex_lstm(best_window, print_summary=True)\n",
    "model.fit(X, Y, batch_size=batch, epochs=deep_epoch, \\\n",
    "          verbose=1, callbacks=[dl_stopping])\n",
    " \n",
    "#save the model weights\n",
    "my_model = model.to_json()\n",
    "with open(\"complex_lstm_model.json\", \"w\") as json_file:\n",
    "  json_file.write(my_model)\n",
    "model.save_weights(\"complex_lstm_model_weights.h5\")"
   ]
  },
  {
   "cell_type": "markdown",
   "metadata": {
    "colab_type": "text",
    "id": "RTCdZBYv9VvS"
   },
   "source": [
    "#### [4.1.3] CV data Analysis"
   ]
  },
  {
   "cell_type": "code",
   "execution_count": null,
   "metadata": {
    "colab": {
     "base_uri": "https://localhost:8080/",
     "height": 51
    },
    "colab_type": "code",
    "id": "8hAm52YA3xEu",
    "outputId": "29cde1a7-9c24-4f46-b039-f5e4ee79ab84"
   },
   "outputs": [
    {
     "name": "stdout",
     "output_type": "stream",
     "text": [
      "\n",
      "SMAPE on CV data =  91.03182489986288\n"
     ]
    }
   ],
   "source": [
    "\n",
    "#history of values\n",
    "history = X_timeseries.iloc[:, -best_window:]\n",
    "gc.collect()\n",
    "#testing the model on test data\n",
    "test_data = pd.DataFrame()\n",
    "test_cols = test.columns.tolist()\n",
    "for col in (test_cols[:-4]):\n",
    "  clear_session()\n",
    "  X = np.log1p(history.iloc[:,-best_window:])\n",
    "  #X = history.iloc[:,-best_window:]\n",
    "  r, c = X.shape\n",
    "  X = np.array(X).reshape((r, c, 1))\n",
    "  predict = np.ceil(np.expm1(model.predict(X, use_multiprocessing=True)))\n",
    "  #predict = np.ceil(model.predict(X))\n",
    "  predict = np.array(predict).reshape((X.shape[0]))\n",
    "  test_data[col] = predict\n",
    "  history[col]   = predict\n",
    "\n",
    "#checking SMAPE on forecasted and actual CV values\n",
    "cv_smape = np.mean(smape(test.iloc[:,:-4], test_data))\n",
    "print(\"\\nSMAPE on CV data = \",cv_smape)\n",
    "models['LSTM Model'] = [best_window, cv_smape]"
   ]
  },
  {
   "cell_type": "markdown",
   "metadata": {
    "colab_type": "text",
    "id": "T_8m7xQwcaR6"
   },
   "source": [
    "#### [4.1.4] CV SMAPE Performance"
   ]
  },
  {
   "cell_type": "code",
   "execution_count": null,
   "metadata": {
    "colab": {
     "base_uri": "https://localhost:8080/",
     "height": 398
    },
    "colab_type": "code",
    "id": "5CFb2g2Y3xDD",
    "outputId": "6002dc53-fcea-486c-c325-6ad512fccc10"
   },
   "outputs": [
    {
     "data": {
      "image/png": "[encoded data removed]",
      "text/plain": [
       "<Figure size 1080x360 with 1 Axes>"
      ]
     },
     "metadata": {
      "needs_background": "light",
      "tags": []
     },
     "output_type": "display_data"
    }
   ],
   "source": [
    "#plot for mean of actual test and predicted test\n",
    "plt.figure(figsize=(15, 5))\n",
    "plt.title('Test Mean PageViews : Actual vs. Predicted PageViews using Complex LSTM Model')\n",
    "actual_mean = test.iloc[:, :-4].mean(axis=0)\n",
    "pred_mean   = test_data.mean(axis=0)\n",
    " \n",
    "xtick_labels = [ x for x in enumerate(test_cols) if x[0]%5==0 ]\n",
    "xtick_loc    = [ x[0] for x in xtick_labels ]\n",
    "xtick_label  = [ x[1] for x in xtick_labels ]\n",
    "b1 = plt.plot(actual_mean, marker=\"o\")\n",
    "b2 = plt.plot(pred_mean, marker=\"*\")\n",
    "plt.xlabel('Time')\n",
    "plt.ylabel('Mean Page Views')\n",
    "plt.grid()\n",
    "plt.legend([b1[0], b2[0]], ['Actual', 'Predicted'])\n",
    "plt.xticks(xtick_loc, xtick_label, rotation=60)\n",
    "plt.show()"
   ]
  },
  {
   "cell_type": "markdown",
   "metadata": {
    "colab_type": "text",
    "id": "4UTsFDSJyKsr"
   },
   "source": [
    "#### [4.1.5] On Test Data"
   ]
  },
  {
   "cell_type": "code",
   "execution_count": 48,
   "metadata": {
    "colab": {},
    "colab_type": "code",
    "id": "sOa6IQ1uekqe"
   },
   "outputs": [],
   "source": [
    "#load the model weights\n",
    "with open('complex_lstm_model.json', 'r') as f:\n",
    "    model = model_from_json(f.read())\n",
    "# Load weights into the new model\n",
    "model.load_weights('complex_lstm_model_weights.h5')"
   ]
  },
  {
   "cell_type": "code",
   "execution_count": 49,
   "metadata": {
    "colab": {
     "base_uri": "https://localhost:8080/",
     "height": 34
    },
    "colab_type": "code",
    "id": "4EDNF7nAb9Ct",
    "outputId": "c736cdb8-83f1-4199-f2e8-2d994776e6e0"
   },
   "outputs": [
    {
     "name": "stdout",
     "output_type": "stream",
     "text": [
      "LSTM Model is trained and found to have Best_Window of 7\n"
     ]
    }
   ],
   "source": [
    "best_window = 7\n",
    "print(\"LSTM Model is trained and found to have Best_Window of %d\"%best_window)\n",
    "\n",
    "past_data_cols = complete_train.columns.tolist()[-best_window-5:]\n",
    "past_data_cols.insert(0, 'Page')\n",
    "\n",
    "past_data = complete_train[past_data_cols]\n",
    "#past_data.head()\n",
    "\n",
    "#getting date columns and non_date columns\n",
    "date_cols = [ x for x in past_data.columns.tolist() if '-' in x ]\n",
    "non_date  = [ x for x in past_data.columns.tolist() if x not in date_cols and x != 'Page' ]\n",
    "\n",
    "#separating the ata into series of PageViews and Site features\n",
    "timeseries_X = complete_train[date_cols]"
   ]
  },
  {
   "cell_type": "code",
   "execution_count": 50,
   "metadata": {
    "colab": {
     "base_uri": "https://localhost:8080/",
     "height": 425
    },
    "colab_type": "code",
    "id": "cfL0RCfAcLMU",
    "outputId": "4691b2bd-e843-4e0f-ae8c-526343659ada"
   },
   "outputs": [
    {
     "name": "stdout",
     "output_type": "stream",
     "text": [
      "Model: \"sequential\"\n",
      "_________________________________________________________________\n",
      "Layer (type)                 Output Shape              Param #   \n",
      "=================================================================\n",
      "lstm (LSTM)                  (None, 7, 128)            66560     \n",
      "_________________________________________________________________\n",
      "lstm_1 (LSTM)                (None, 7, 128)            131584    \n",
      "_________________________________________________________________\n",
      "dropout (Dropout)            (None, 7, 128)            0         \n",
      "_________________________________________________________________\n",
      "lstm_2 (LSTM)                (None, 64)                49408     \n",
      "_________________________________________________________________\n",
      "dropout_1 (Dropout)          (None, 64)                0         \n",
      "_________________________________________________________________\n",
      "dense (Dense)                (None, 8)                 520       \n",
      "_________________________________________________________________\n",
      "dropout_2 (Dropout)          (None, 8)                 0         \n",
      "_________________________________________________________________\n",
      "dense_1 (Dense)              (None, 1)                 9         \n",
      "=================================================================\n",
      "Total params: 248,081\n",
      "Trainable params: 248,081\n",
      "Non-trainable params: 0\n",
      "_________________________________________________________________\n"
     ]
    }
   ],
   "source": [
    "X = np.log1p(timeseries_X.iloc[:,:-1])\n",
    "#X = X_timeseries.iloc[:,-best_window-1:-1]\n",
    "r, c = X.shape\n",
    "X = np.array(X).reshape((r, c, 1))\n",
    "Y = np.log1p(timeseries_X.iloc[:,-1])\n",
    "#Y = X_timeseries.iloc[:,-1]\n",
    "\n",
    "from tensorflow.keras.models import model_from_json\n",
    "with open('complex_lstm_model.json', 'r') as f:\n",
    "    model = model_from_json(f.read())\n",
    "# Load weights into the new model\n",
    "model.load_weights('complex_lstm_model_weights.h5')\n",
    "model.summary()\n",
    "\n",
    "#model.fit(X, Y, batch_size=batch, epochs=epoch, verbose=1)"
   ]
  },
  {
   "cell_type": "code",
   "execution_count": null,
   "metadata": {
    "colab": {},
    "colab_type": "code",
    "id": "bwOKy0ZGx4qK"
   },
   "outputs": [],
   "source": [
    "model_test = pd.DataFrame()\n",
    "model_test['Page'] = complete_train.Page.values\n",
    "#print(past_data.shape)\n",
    "for test_index in range(len(test_days)):\n",
    "    #clear_session()\n",
    "    print(\"Remaining are %d\"%(len(test_days)-test_index+1))\n",
    "    #print(history.shape)\n",
    "    X = np.log1p(timeseries_X.iloc[:,-best_window:])\n",
    "    r, c = X.shape\n",
    "    X = np.array(X).reshape((r, c, 1))\n",
    "    #X_lagged = np.hstack((X_pagename_te, X))\n",
    "    predicted = np.ceil(np.expm1(model.predict(X)))\n",
    "    model_test[test_days[test_index]]   = predicted\n",
    "    timeseries_X[test_days[test_index]] = predicted"
   ]
  },
  {
   "cell_type": "code",
   "execution_count": 52,
   "metadata": {
    "colab": {},
    "colab_type": "code",
    "id": "hu2nyZ3Bx4ok"
   },
   "outputs": [],
   "source": [
    "f = open('Complex_LSTM_Page_Count.csv', 'w')\n",
    "f.write('Page|Visits'+'\\n')\n",
    "for col in model_test.iloc[:,-62:].columns.tolist():\n",
    "  test_data = model_test[['Page',col]]\n",
    "  pageviews = [ str(int(x)) for x in test_data.iloc[:,-1] ]\n",
    "  pagename  = [ x+'_'+test_data.columns.tolist()[-1] for x in test_data.iloc[:,0] ]\n",
    "  page_view = list(zip(pagename,pageviews))\n",
    "  #writing it into file\n",
    "  for line in page_view:\n",
    "    n, c = line\n",
    "    f.write(n+'|'+c)\n",
    "    f.write('\\n')\n",
    "test_data_final = pd.read_csv('./Complex_LSTM_Page_Count.csv', sep='|')  \n",
    "\n",
    "#saving the final file\n",
    "page_key.merge(test_data_final, how='left', on='Page')[['Id', 'Visits']].fillna(0).to_csv('./Test_Data_Complex_LSTM.csv', index=False)"
   ]
  },
  {
   "cell_type": "markdown",
   "metadata": {
    "colab_type": "text",
    "id": "pa9uaUEEoL7Z"
   },
   "source": [
    "![image.png](data:image/png;base64,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)"
   ]
  },
  {
   "cell_type": "code",
   "execution_count": null,
   "metadata": {
    "colab": {},
    "colab_type": "code",
    "id": "M6KusRy7RQhY"
   },
   "outputs": [],
   "source": [
    "models['Complex LSTM Models'] = [best_window, cv_smape, 92.85667 ]"
   ]
  },
  {
   "cell_type": "markdown",
   "metadata": {
    "colab_type": "text",
    "id": "cG2JNdQ_coZr"
   },
   "source": [
    "\n",
    "\n",
    "---\n",
    "\n"
   ]
  },
  {
   "cell_type": "markdown",
   "metadata": {
    "colab_type": "text",
    "id": "RqYb05qecpOR"
   },
   "source": [
    "## [4.2] Complex CNN Model"
   ]
  },
  {
   "cell_type": "code",
   "execution_count": null,
   "metadata": {
    "colab": {},
    "colab_type": "code",
    "id": "pI7h0_fn3xA8"
   },
   "outputs": [],
   "source": [
    "def complex_cnn_model(shape, print_summary=False):\n",
    "  \"\"\"\n",
    "  function that takes paramter and returns simple CNN model\n",
    "  \"\"\"\n",
    "  model = Sequential()\n",
    "  #first layer of CNN Models\n",
    "  model.add(Conv1D(filters=32, kernel_size=2, padding='same', \\\n",
    "                   activation='relu', kernel_initializer = 'he_uniform', \\\n",
    "                   input_shape=(shape, 1)))\n",
    "  model.add(Conv1D(filters=32, kernel_size=2, padding='same', \\\n",
    "                   activation='relu', kernel_initializer = 'he_uniform'))\n",
    "  model.add(MaxPooling1D(pool_size=2))\n",
    "  #second layer of CNN Models\n",
    "  model.add(Conv1D(filters=32, kernel_size=2, padding='same', \\\n",
    "                   activation='relu', kernel_initializer = 'he_uniform'))\n",
    "  model.add(Conv1D(filters=32, kernel_size=2, \\\n",
    "                   activation='relu', kernel_initializer = 'he_uniform'))\n",
    "  model.add(MaxPooling1D(pool_size=2))\n",
    "  #flatten the model output\n",
    "  model.add(Flatten())\n",
    "  #add Dense layers\n",
    "  #model.add(Dense(16, activation='relu'))\n",
    "  #model.add(Dropout(0.5))\n",
    "  #model.add(Dense(16, activation='relu'))\n",
    "  #model.add(Dropout(0.5))\n",
    "  model.add(Dense(32, activation='relu'))\n",
    "  model.add(Dense(1))\n",
    "  #compile model with loss and metrics\n",
    "  model.compile(loss='mean_squared_error', optimizer='adam', metrics=[tf_smape])\n",
    "  #return model and Print is necessary\n",
    "  if print_summary:\n",
    "    model.summary()\n",
    "  return model"
   ]
  },
  {
   "cell_type": "markdown",
   "metadata": {
    "colab_type": "text",
    "id": "HhBKk735RQhd"
   },
   "source": [
    "#### [4.2.1] Hyper Parameter Tuning"
   ]
  },
  {
   "cell_type": "code",
   "execution_count": 40,
   "metadata": {
    "colab": {
     "base_uri": "https://localhost:8080/",
     "height": 272
    },
    "colab_type": "code",
    "id": "Of5VVOWE3w_F",
    "outputId": "d85af2b2-debe-4d5f-b5f3-7f6b957952a0"
   },
   "outputs": [
    {
     "name": "stdout",
     "output_type": "stream",
     "text": [
      "\n",
      "**** Running for Lag= 365\n",
      "SMAPE = 32.53622030907409 for Lag = 365\n",
      "**** Running for Lag= 90\n",
      "SMAPE = 32.08136539761829 for Lag = 90\n",
      "**** Running for Lag= 30\n",
      "SMAPE = 32.14619961091478 for Lag = 30\n",
      "**** Running for Lag= 7\n",
      "SMAPE = 33.407790513449505 for Lag = 7\n",
      "\n",
      "\n",
      "Best Values are : \n",
      " 90 \n",
      " Best SMAPE on CV data is  32.08136539761829\n",
      "\n"
     ]
    }
   ],
   "source": [
    "gc.collect()\n",
    "error = list()\n",
    "for lag in sorted(lagged_window, reverse=True):\n",
    "  print(\"**** Running for Lag=\",lag)\n",
    "  clear_session()\n",
    "  X = np.log1p(X_timeseries.iloc[:,-lag-1:-1])\n",
    "  #X = X_timeseries.iloc[:,-lag-1:-1]\n",
    "  r, c  = X.shape\n",
    "  X = np.array(X).reshape((r, c, 1))\n",
    "  Y = np.log1p(X_timeseries.iloc[:,-1])\n",
    "  #Y = X_timeseries.iloc[:,-1]\n",
    "  observed = X_timeseries.iloc[:, -1]\n",
    "  #print(\"Dataset shape is \",X.shape)\n",
    "  model = complex_cnn_model(lag)\n",
    "  model.fit(X, Y, batch_size=batch, epochs=deep_epoch, \\\n",
    "            verbose=1, callbacks=[dl_stopping])\n",
    "  predicted = np.ceil(np.expm1(model.predict(X)))\n",
    "  #predicted = np.ceil(model.predict(X))\n",
    "  predicted = np.array(predicted).reshape((X.shape[0]))\n",
    "  #tr_smape = smape(Y, predicted)\n",
    "  cv_smape = np.mean(smape(observed, predicted))\n",
    "  error.append([cv_smape, lag])\n",
    "  print(\"SMAPE = {0} for Lag = {1}\".format(cv_smape, lag))\n",
    "index         = np.argmin([ x[0] for x in error ])\n",
    "best_window   = error[index][1]\n",
    "best_cv_smape = error[index][0]\n",
    " \n",
    "print(\"\\n\\nBest Values are : \\n\",best_window, \"\\n\", \"Best SMAPE on CV data is \",best_cv_smape)\n",
    "a = gc.collect()"
   ]
  },
  {
   "cell_type": "markdown",
   "metadata": {
    "colab_type": "text",
    "id": "0lvoIEBjRQhi"
   },
   "source": [
    "#### [4.2.2] Fitting model with Best Window"
   ]
  },
  {
   "cell_type": "code",
   "execution_count": 41,
   "metadata": {
    "colab": {
     "base_uri": "https://localhost:8080/",
     "height": 1000
    },
    "colab_type": "code",
    "id": "pV5RJPWE3w81",
    "outputId": "e1df6540-1f6a-47a4-f02c-6a1589a1305a"
   },
   "outputs": [
    {
     "name": "stdout",
     "output_type": "stream",
     "text": [
      "\n",
      "Model is trained and found to have : \n",
      "Best Window =  90\n",
      "\n",
      "\n",
      "\n",
      "Model: \"sequential_1\"\n",
      "_________________________________________________________________\n",
      "Layer (type)                 Output Shape              Param #   \n",
      "=================================================================\n",
      "conv1d_4 (Conv1D)            (None, 90, 32)            96        \n",
      "_________________________________________________________________\n",
      "conv1d_5 (Conv1D)            (None, 90, 32)            2080      \n",
      "_________________________________________________________________\n",
      "max_pooling1d_2 (MaxPooling1 (None, 45, 32)            0         \n",
      "_________________________________________________________________\n",
      "conv1d_6 (Conv1D)            (None, 45, 32)            2080      \n",
      "_________________________________________________________________\n",
      "conv1d_7 (Conv1D)            (None, 44, 32)            2080      \n",
      "_________________________________________________________________\n",
      "max_pooling1d_3 (MaxPooling1 (None, 22, 32)            0         \n",
      "_________________________________________________________________\n",
      "flatten_1 (Flatten)          (None, 704)               0         \n",
      "_________________________________________________________________\n",
      "dense_2 (Dense)              (None, 32)                22560     \n",
      "_________________________________________________________________\n",
      "dropout_1 (Dropout)          (None, 32)                0         \n",
      "_________________________________________________________________\n",
      "dense_3 (Dense)              (None, 1)                 33        \n",
      "=================================================================\n",
      "Total params: 28,929\n",
      "Trainable params: 28,929\n",
      "Non-trainable params: 0\n",
      "_________________________________________________________________\n",
      "Epoch 1/150\n",
      "567/567 [==============================] - 27s 47ms/step - loss: 1.9216 - tf_smape: 28.4065\n",
      "Epoch 2/150\n",
      "567/567 [==============================] - 27s 47ms/step - loss: 0.8692 - tf_smape: 25.5200\n",
      "Epoch 3/150\n",
      "567/567 [==============================] - 27s 47ms/step - loss: 0.8264 - tf_smape: 24.9001\n",
      "Epoch 4/150\n",
      "567/567 [==============================] - 27s 47ms/step - loss: 0.7800 - tf_smape: 24.2549\n",
      "Epoch 5/150\n",
      "567/567 [==============================] - 27s 48ms/step - loss: 0.7202 - tf_smape: 23.5559\n",
      "Epoch 6/150\n",
      "567/567 [==============================] - 28s 50ms/step - loss: 0.6374 - tf_smape: 22.5629\n",
      "Epoch 7/150\n",
      "567/567 [==============================] - 27s 47ms/step - loss: 0.5750 - tf_smape: 21.8597\n",
      "Epoch 8/150\n",
      "567/567 [==============================] - 26s 47ms/step - loss: 0.5414 - tf_smape: 21.4353\n",
      "Epoch 9/150\n",
      "567/567 [==============================] - 26s 47ms/step - loss: 0.4997 - tf_smape: 21.0345\n",
      "Epoch 10/150\n",
      "567/567 [==============================] - 26s 46ms/step - loss: 0.4599 - tf_smape: 20.6538\n",
      "Epoch 11/150\n",
      "567/567 [==============================] - 27s 47ms/step - loss: 0.4304 - tf_smape: 20.3406\n",
      "Epoch 12/150\n",
      "567/567 [==============================] - 27s 47ms/step - loss: 0.3986 - tf_smape: 20.0242\n",
      "Epoch 13/150\n",
      "567/567 [==============================] - 27s 47ms/step - loss: 0.3654 - tf_smape: 19.6867\n",
      "Epoch 14/150\n",
      "567/567 [==============================] - 27s 47ms/step - loss: 0.3353 - tf_smape: 19.3645\n",
      "Epoch 15/150\n",
      "567/567 [==============================] - 27s 47ms/step - loss: 0.3166 - tf_smape: 19.2250\n",
      "Epoch 16/150\n",
      "567/567 [==============================] - 27s 48ms/step - loss: 0.3086 - tf_smape: 19.1484\n",
      "Epoch 17/150\n",
      "567/567 [==============================] - 26s 46ms/step - loss: 0.2965 - tf_smape: 18.9966\n",
      "Epoch 18/150\n",
      "567/567 [==============================] - 27s 47ms/step - loss: 0.2870 - tf_smape: 18.9205\n",
      "Epoch 19/150\n",
      "567/567 [==============================] - 26s 45ms/step - loss: 0.2846 - tf_smape: 18.9639\n",
      "Epoch 20/150\n",
      "567/567 [==============================] - 26s 46ms/step - loss: 0.2772 - tf_smape: 18.8664\n",
      "Epoch 21/150\n",
      "567/567 [==============================] - 26s 45ms/step - loss: 0.2734 - tf_smape: 18.8964\n",
      "Epoch 22/150\n",
      "567/567 [==============================] - 28s 49ms/step - loss: 0.2680 - tf_smape: 18.7886\n",
      "Epoch 23/150\n",
      "567/567 [==============================] - 27s 48ms/step - loss: 0.2691 - tf_smape: 18.8025\n",
      "Epoch 24/150\n",
      "567/567 [==============================] - 27s 47ms/step - loss: 0.2623 - tf_smape: 18.7619\n",
      "Epoch 25/150\n",
      "567/567 [==============================] - 27s 47ms/step - loss: 0.2609 - tf_smape: 18.7916\n",
      "Epoch 26/150\n",
      "567/567 [==============================] - 27s 47ms/step - loss: 0.2579 - tf_smape: 18.7707\n",
      "Epoch 27/150\n",
      "567/567 [==============================] - 27s 47ms/step - loss: 0.2583 - tf_smape: 18.8764\n",
      "\n"
     ]
    }
   ],
   "source": [
    "print(\"Model is trained and found to have : \")\n",
    "print(\"Best Window = \"    ,best_window)\n",
    "print(\"\\n\\n\")\n",
    "gc.collect()\n",
    " \n",
    "X = np.log1p(X_timeseries.iloc[:,-best_window-1:-1])\n",
    "#X = X_timeseries.iloc[:,-best_window-1:-1]\n",
    "r, c = X.shape\n",
    "X = np.array(X).reshape((r, c, 1))\n",
    "Y = np.log1p(X_timeseries.iloc[:,-1])\n",
    "#Y = X_timeseries.iloc[:,-1]\n",
    " \n",
    "#fitting model wth best parameters\n",
    "model = complex_cnn_model(best_window, print_summary=True)\n",
    "model.fit(X, Y, batch_size=batch, epochs=deep_epoch, \\\n",
    "          verbose=1, callbacks=[dl_stopping])\n",
    " \n",
    "#save the model weights\n",
    "my_model = model.to_json()\n",
    "with open(\"complex_cnn_model.json\", \"w\") as json_file:\n",
    "  json_file.write(my_model)\n",
    "model.save_weights(\"complex_cnn_model_weights.h5\")"
   ]
  },
  {
   "cell_type": "markdown",
   "metadata": {
    "colab_type": "text",
    "id": "EB_1LMUYRQhk"
   },
   "source": [
    "#### [4.2.3] CV data Analysis"
   ]
  },
  {
   "cell_type": "code",
   "execution_count": 42,
   "metadata": {
    "colab": {
     "base_uri": "https://localhost:8080/",
     "height": 102
    },
    "colab_type": "code",
    "id": "bCuiCxfU3w60",
    "outputId": "4f4ae991-aac3-4f4b-f4d6-1ca0813875eb"
   },
   "outputs": [
    {
     "name": "stdout",
     "output_type": "stream",
     "text": [
      "\n",
      "100%|██████████| 73/73 [17:14<00:00, 14.17s/it]\n",
      "\n",
      "SMAPE on CV data =  55.56740122259976\n",
      "\n"
     ]
    }
   ],
   "source": [
    "with open('complex_cnn_model.json', 'r') as f:\n",
    "    model = model_from_json(f.read())\n",
    "# Load weights into the new model\n",
    "model.load_weights('complex_cnn_model_weights.h5')\n",
    " \n",
    "gc.collect()\n",
    "#history of values\n",
    "history = X_timeseries.iloc[:, -best_window:]\n",
    " \n",
    "#testing the model on test data\n",
    "test_data = pd.DataFrame()\n",
    "test_cols = test.columns.tolist()\n",
    "for col in (test_cols[:-4]):\n",
    "  clear_session()\n",
    "  X = np.log1p(history.iloc[:,-best_window:])\n",
    "  #X = history.iloc[:,-best_window:]\n",
    "  r, c = X.shape\n",
    "  X = np.array(X).reshape((r, c, 1))\n",
    "  predict = np.ceil(np.expm1(model.predict(X)))\n",
    "  #predict = np.ceil(model.predict(X))\n",
    "  predict = np.array(predict).reshape((X.shape[0]))\n",
    "  test_data[col] = predict\n",
    "  history[col]   = predict\n",
    " \n",
    "#checking SMAPE on forecasted and actual CV values\n",
    "cv_smape = np.mean(smape(test.iloc[:,:-4], test_data))\n",
    "print(\"\\nSMAPE on CV data = \",cv_smape)\n",
    "models['CNN Model'] = [best_window, cv_smape]"
   ]
  },
  {
   "cell_type": "markdown",
   "metadata": {
    "colab_type": "text",
    "id": "P75YUqVQRQhn"
   },
   "source": [
    "#### [4.2.4] CV SMAPE Performance"
   ]
  },
  {
   "cell_type": "code",
   "execution_count": null,
   "metadata": {
    "colab": {},
    "colab_type": "code",
    "id": "yjuodyAM3w4u"
   },
   "outputs": [],
   "source": [
    "#plot for mean of actual test and predicted test\n",
    "plt.figure(figsize=(15, 5))\n",
    "plt.title('Test Mean PageViews : Actual vs. Predicted PageViews using Complex CNN Model')\n",
    "actual_mean = test.iloc[:, :-4].mean(axis=0)\n",
    "pred_mean   = test_data.mean(axis=0)\n",
    " \n",
    "xtick_labels = [ x for x in enumerate(test_cols) if x[0]%5==0 ]\n",
    "xtick_loc    = [ x[0] for x in xtick_labels ]\n",
    "xtick_label  = [ x[1] for x in xtick_labels ]\n",
    "b1 = plt.plot(actual_mean, marker=\"o\")\n",
    "b2 = plt.plot(pred_mean, marker=\"*\")\n",
    "plt.xlabel('Time')\n",
    "plt.ylabel('Mean Page Views')\n",
    "plt.grid()\n",
    "plt.legend([b1[0], b2[0]], ['Actual', 'Predicted'])\n",
    "plt.xticks(xtick_loc, xtick_label, rotation=60)\n",
    "plt.show()"
   ]
  },
  {
   "cell_type": "markdown",
   "metadata": {
    "colab_type": "text",
    "id": "zpOnKEdcpm-4"
   },
   "source": [
    "![image.png](data:image/png;base64,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)"
   ]
  },
  {
   "cell_type": "markdown",
   "metadata": {
    "colab_type": "text",
    "id": "EnOjnRC2aVWr"
   },
   "source": [
    "#### [4.2.5] On Test Data"
   ]
  },
  {
   "cell_type": "code",
   "execution_count": null,
   "metadata": {
    "colab": {
     "base_uri": "https://localhost:8080/",
     "height": 34
    },
    "colab_type": "code",
    "id": "OHSqnAzMciM_",
    "outputId": "abf5fcd7-12f6-4cb3-f135-b68fc23b85fa"
   },
   "outputs": [
    {
     "name": "stdout",
     "output_type": "stream",
     "text": [
      "LSTM Model is trained and found to have Best_Window of 90\n"
     ]
    }
   ],
   "source": [
    "best_window = 90\n",
    "print(\"LSTM Model is trained and found to have Best_Window of %d\"%best_window)\n",
    "\n",
    "past_data_cols = complete_train.columns.tolist()[-best_window-5:]\n",
    "past_data_cols.insert(0, 'Page')\n",
    "\n",
    "past_data = complete_train[past_data_cols]\n",
    "#past_data.head()\n",
    "\n",
    "#getting date columns and non_date columns\n",
    "date_cols = [ x for x in past_data.columns.tolist() if '-' in x ]\n",
    "non_date  = [ x for x in past_data.columns.tolist() if x not in date_cols and x != 'Page' ]\n",
    "\n",
    "#separating the ata into series of PageViews and Site features\n",
    "timeseries_X = complete_train[date_cols]"
   ]
  },
  {
   "cell_type": "code",
   "execution_count": null,
   "metadata": {
    "colab": {},
    "colab_type": "code",
    "id": "HRR6wAX1cv45"
   },
   "outputs": [],
   "source": [
    "X = np.log1p(timeseries_X.iloc[:,:-1])\n",
    "#X = X_timeseries.iloc[:,-best_window-1:-1]\n",
    "r, c = X.shape\n",
    "X = np.array(X).reshape((r, c, 1))\n",
    "Y = np.log1p(timeseries_X.iloc[:,-1])\n",
    "#Y = X_timeseries.iloc[:,-1]\n",
    "\n",
    "from tensorflow.keras.models import model_from_json\n",
    "with open('complex_cnn_model.json', 'r') as f:\n",
    "    model = model_from_json(f.read())\n",
    "# Load weights into the new model\n",
    "model.load_weights('complex_cnn_model_weights.h5')\n",
    "#model.summary()\n",
    "#model.fit(X, Y, batch_size=batch, epochs=epoch, verbose=1)"
   ]
  },
  {
   "cell_type": "code",
   "execution_count": null,
   "metadata": {
    "colab": {},
    "colab_type": "code",
    "id": "AaBqkLrAxeY7"
   },
   "outputs": [],
   "source": [
    "model_test = pd.DataFrame()\n",
    "model_test['Page'] = complete_train.Page.values\n",
    "#print(past_data.shape)\n",
    "for test_index in range(len(test_days)):\n",
    "    clear_session()\n",
    "    #print(\"Remaining are %d\"%(len(test_days)-test_index+1))\n",
    "    #print(history.shape)\n",
    "    X = np.log1p(timeseries_X.iloc[:,-best_window:])\n",
    "    r, c = X.shape\n",
    "    X = np.array(X).reshape((r, c, 1))\n",
    "    #X_lagged = np.hstack((X_pagename_te, X))\n",
    "    predicted = np.ceil(np.expm1(model.predict(X, batch_size=batch)))\n",
    "    model_test[test_days[test_index]]   = predicted\n",
    "    timeseries_X[test_days[test_index]] = predicted"
   ]
  },
  {
   "cell_type": "code",
   "execution_count": null,
   "metadata": {
    "colab": {},
    "colab_type": "code",
    "id": "JTp4jx5LxeV7"
   },
   "outputs": [],
   "source": [
    "f = open('Complex_CNN_Page_Count.csv', 'w')\n",
    "f.write('Page|Visits'+'\\n')\n",
    "for col in model_test.iloc[:,-62:].columns.tolist():\n",
    "  test_data = model_test[['Page',col]]\n",
    "  test_data = test_data.replace([np.inf, -np.inf], 0)\n",
    "  pageviews = [ str(int(x)) for x in test_data.iloc[:,-1] ]\n",
    "  pagename  = [ x+'_'+test_data.columns.tolist()[-1] for x in test_data.iloc[:,0] ]\n",
    "  page_view = list(zip(pagename,pageviews))\n",
    "  #writing it into file\n",
    "  for line in page_view:\n",
    "    n, c = line\n",
    "    f.write(n+'|'+c)\n",
    "    f.write('\\n')\n",
    "test_data_final = pd.read_csv('./Complex_CNN_Page_Count.csv', sep='|')  \n",
    "\n",
    "#saving the final file\n",
    "page_key.merge(test_data_final, how='left', on='Page')[['Id', 'Visits']].fillna(0).to_csv('./Test_Data_Complex_CNN.csv', index=False)"
   ]
  },
  {
   "cell_type": "markdown",
   "metadata": {
    "colab_type": "text",
    "id": "FTjFH9R2rlRR"
   },
   "source": [
    "![image.png](data:image/png;base64,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)"
   ]
  },
  {
   "cell_type": "code",
   "execution_count": null,
   "metadata": {
    "colab": {},
    "colab_type": "code",
    "id": "fsB24UoAyyKI"
   },
   "outputs": [],
   "source": [
    "models['Complex CNN'] = [best_window, cv_smape, 53.33725]"
   ]
  },
  {
   "cell_type": "markdown",
   "metadata": {
    "colab_type": "text",
    "id": "uZTVoYOqRQh5"
   },
   "source": [
    " "
   ]
  },
  {
   "cell_type": "markdown",
   "metadata": {
    "colab_type": "text",
    "id": "tGTjxI4iRQh5"
   },
   "source": [
    " "
   ]
  },
  {
   "cell_type": "markdown",
   "metadata": {
    "colab_type": "text",
    "id": "EzbHm5zZRQh6"
   },
   "source": [
    " "
   ]
  },
  {
   "cell_type": "markdown",
   "metadata": {
    "colab_type": "text",
    "id": "64zI1q6_NEgn"
   },
   "source": [
    "# [5] Conclusion"
   ]
  },
  {
   "cell_type": "code",
   "execution_count": 18,
   "metadata": {
    "colab": {
     "base_uri": "https://localhost:8080/",
     "height": 170
    },
    "colab_type": "code",
    "id": "lQI6PL0pgr1I",
    "outputId": "605f0fcb-963c-4baa-9283-28ed17a62520"
   },
   "outputs": [
    {
     "name": "stdout",
     "output_type": "stream",
     "text": [
      "+--------------------+-------------+----------------+------------------+\n",
      "|       Model        | Best Window | CV performance | Test Performance |\n",
      "+--------------------+-------------+----------------+------------------+\n",
      "|     DNN Model      |      90     |    52.2255     |     79.44122     |\n",
      "|     CNN Model      |      90     |    57.8225     |     46.7953      |\n",
      "|     LSTM Model     |      30     |    84.4969     |     84.03305     |\n",
      "| Complex LSTM Model |      7      |    91.0318     |     92.85667     |\n",
      "| Complex CNN Model  |      90     |    55.5674     |     53.33725     |\n",
      "+--------------------+-------------+----------------+------------------+\n"
     ]
    }
   ],
   "source": [
    "from prettytable import PrettyTable\n",
    "dl_models = PrettyTable(['Model', 'Best Window', 'CV performance', 'Test Performance'])\n",
    "\n",
    "for k, v in models.items():\n",
    "    dl_models.add_row([k, v[0], round(v[1], 4)\n",
    "    , v[2]])\n",
    "\n",
    "print(dl_models)"
   ]
  },
  {
   "cell_type": "markdown",
   "metadata": {
    "colab_type": "text",
    "id": "klTicRKANfFC"
   },
   "source": [
    "<p>\n",
    "By building simple Deep NN models with simple sequence information of the data, we can get pretty good results of forecasting.</p> \n",
    "<p>\n",
    "Modeling is done with \n",
    "<li> Deep MLP </li>\n",
    "<li> Simple LSTM </li>\n",
    "<li> Simple CNN </li>\n",
    "<li> Combined CNN-LSTM Model </li>\n",
    "<li> Complex LSTM </li>\n",
    "<li> Complex CNN </li>\n",
    "Out of these, we get best results with simple and 2 layered CNN models on CV data.\n",
    "</p>\n",
    "<p>\n",
    "Comparing the model performances after increasing their complexity, i.e. by adding extra layers, we observed that the models performance slightly decreases, but the same can be maintained with the hyper-parameter tuning of each individual layers.\n",
    "</p>"
   ]
  }
 ],
 "metadata": {
  "accelerator": "TPU",
  "colab": {
   "collapsed_sections": [],
   "name": "Web_Traffic_Time_Series_Forecasting_DL_Modeling_Ver2.3.ipynb",
   "provenance": []
  },
  "kernelspec": {
   "display_name": "Python 3",
   "language": "python",
   "name": "python3"
  },
  "language_info": {
   "codemirror_mode": {
    "name": "ipython",
    "version": 3
   },
   "file_extension": ".py",
   "mimetype": "text/x-python",
   "name": "python",
   "nbconvert_exporter": "python",
   "pygments_lexer": "ipython3",
   "version": "3.7.6"
  }
 },
 "nbformat": 4,
 "nbformat_minor": 1
}
