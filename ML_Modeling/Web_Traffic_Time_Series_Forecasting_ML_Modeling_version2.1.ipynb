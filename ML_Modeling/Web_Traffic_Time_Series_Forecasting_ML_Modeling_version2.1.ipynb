{
 "cells": [
  {
   "cell_type": "raw",
   "metadata": {
    "colab": {
     "base_uri": "https://localhost:8080/",
     "height": 122
    },
    "colab_type": "code",
    "id": "HdA-hHFE8YEc",
    "outputId": "1a0fc6fc-6c31-4fd3-dad3-7be5df608f21"
   },
   "source": [
    "from google.colab import drive\n",
    "drive.mount('/content/drive')"
   ]
  },
  {
   "cell_type": "raw",
   "metadata": {
    "colab": {
     "base_uri": "https://localhost:8080/",
     "height": 34
    },
    "colab_type": "code",
    "id": "0IEI7Qe_8gol",
    "outputId": "68eb8b70-cf3d-4cb3-a05e-56a55b479409"
   },
   "source": [
    "%cd /content/drive/My Drive/TimeSeriesForecasting"
   ]
  },
  {
   "cell_type": "markdown",
   "metadata": {
    "colab_type": "text",
    "id": "cEGYnG0w7_8J"
   },
   "source": [
    "<hr>\n",
    "<h1><center>Web Traffic Forecasting : ML Modeling</center></h1>\n",
    "<hr>"
   ]
  },
  {
   "cell_type": "code",
   "execution_count": 3,
   "metadata": {
    "colab": {},
    "colab_type": "code",
    "id": "lmRtZyAd7_8M"
   },
   "outputs": [],
   "source": [
    "import warnings\n",
    "warnings.filterwarnings(\"ignore\")\n",
    "\n",
    "import pandas as pd\n",
    "import numpy as np\n",
    "from tqdm import tqdm\n",
    "import matplotlib.pyplot as plt\n",
    "import seaborn as sns\n",
    "import pickle\n",
    "import joblib\n",
    "\n",
    "from sklearn.model_selection import RandomizedSearchCV, GridSearchCV\n",
    "from sklearn.ensemble import RandomForestRegressor, AdaBoostRegressor\n",
    "from sklearn.tree import DecisionTreeRegressor\n",
    "\n",
    "import xgboost as xgb"
   ]
  },
  {
   "cell_type": "markdown",
   "metadata": {
    "colab_type": "text",
    "id": "vJWKujnREeuf"
   },
   "source": [
    "### Loading of Actual Train Data"
   ]
  },
  {
   "cell_type": "code",
   "execution_count": 4,
   "metadata": {
    "colab": {
     "base_uri": "https://localhost:8080/",
     "height": 136
    },
    "colab_type": "code",
    "id": "aAA2JE33-zlq",
    "outputId": "ba97a327-7aa3-499c-95fa-6a60a978da5b"
   },
   "outputs": [
    {
     "name": "stdout",
     "output_type": "stream",
     "text": [
      "Site Encoded using     :  ['mediawiki' 'wikimedia' 'wikipedia']\n",
      "Language Encoded using :  ['commons' 'de' 'en' 'es' 'fr' 'ja' 'ru' 'www' 'zh']\n",
      "Access Encoded using   :  ['all-access' 'desktop' 'mobile-web']\n",
      "Agent Encoded using    :  ['all-agents' 'spider']\n",
      "\n",
      "\n",
      "Test Data to run from 2017-09-11 upto 2017-11-13\n"
     ]
    }
   ],
   "source": [
    "complete_train = pd.read_csv('./train_2.csv')\n",
    "\n",
    "complete_train['Site']      = complete_train['Page'].map(lambda x:x.split('_')[-3])\n",
    "complete_train['Site_Name'] = complete_train['Site'].map(lambda x:x.split('.')[1])\n",
    "complete_train['Language']  = complete_train['Site'].map(lambda x:x.split('.')[0])\n",
    "complete_train['Access']    = complete_train['Page'].map(lambda x:x.split('_')[-2])\n",
    "complete_train['Agent']     = complete_train['Page'].map(lambda x:x.split('_')[-1])\n",
    "\n",
    "from sklearn.preprocessing import LabelEncoder\n",
    "label = LabelEncoder()\n",
    "\n",
    "complete_train['Site_OHE'] = label.fit_transform(complete_train['Site_Name']).tolist()\n",
    "print(\"Site Encoded using     : \", label.classes_)\n",
    "\n",
    "complete_train['Lang_OHE'] = label.fit_transform(complete_train['Language']).tolist()\n",
    "print(\"Language Encoded using : \", label.classes_)\n",
    "\n",
    "complete_train['Access_OHE'] = label.fit_transform(complete_train['Access']).tolist()\n",
    "print(\"Access Encoded using   : \", label.classes_)\n",
    "\n",
    "complete_train['Agent_OHE'] = label.fit_transform(complete_train['Agent']).tolist()\n",
    "print(\"Agent Encoded using    : \", label.classes_)\n",
    "\n",
    "complete_train.drop(['Site', 'Site_Name', 'Language', 'Access', 'Agent'], axis=1, inplace=True)\n",
    "complete_train = complete_train.fillna(0)\n",
    "#complete_train.to_csv('./Transformed_train_2.csv', index=False)\n",
    "\n",
    "\n",
    "#test_dates\n",
    "from datetime import date, timedelta\n",
    "\n",
    "#end of the train is Sep 20, 2017 and data to e\n",
    "start = date(2017,9,11)\n",
    "end   = date(2017,11,13)\n",
    "\n",
    "no_days = end - start\n",
    "\n",
    "test_days = [ (start+timedelta(days=x)).strftime('%Y-%m-%d') for x in range(no_days.days+1) ]\n",
    "print(\"\\n\\nTest Data to run from {0} upto {1}\".format(test_days[0], test_days[-1]))"
   ]
  },
  {
   "cell_type": "markdown",
   "metadata": {
    "colab_type": "text",
    "id": "lSkQNtnmEmGm"
   },
   "source": [
    "### Loading Page-Key File"
   ]
  },
  {
   "cell_type": "code",
   "execution_count": 5,
   "metadata": {
    "colab": {
     "base_uri": "https://localhost:8080/",
     "height": 204
    },
    "colab_type": "code",
    "id": "OajCWfD4Eosi",
    "outputId": "5648ba93-0544-459c-d4f9-abb9ff965d2d"
   },
   "outputs": [
    {
     "data": {
      "text/html": [
       "<div>\n",
       "<style scoped>\n",
       "    .dataframe tbody tr th:only-of-type {\n",
       "        vertical-align: middle;\n",
       "    }\n",
       "\n",
       "    .dataframe tbody tr th {\n",
       "        vertical-align: top;\n",
       "    }\n",
       "\n",
       "    .dataframe thead th {\n",
       "        text-align: right;\n",
       "    }\n",
       "</style>\n",
       "<table border=\"1\" class=\"dataframe\">\n",
       "  <thead>\n",
       "    <tr style=\"text-align: right;\">\n",
       "      <th></th>\n",
       "      <th>Page</th>\n",
       "      <th>Id</th>\n",
       "    </tr>\n",
       "  </thead>\n",
       "  <tbody>\n",
       "    <tr>\n",
       "      <th>0</th>\n",
       "      <td>007_スペクター_ja.wikipedia.org_all-access_all-agen...</td>\n",
       "      <td>0b293039387a</td>\n",
       "    </tr>\n",
       "    <tr>\n",
       "      <th>1</th>\n",
       "      <td>007_スペクター_ja.wikipedia.org_all-access_all-agen...</td>\n",
       "      <td>7114389dd824</td>\n",
       "    </tr>\n",
       "    <tr>\n",
       "      <th>2</th>\n",
       "      <td>007_スペクター_ja.wikipedia.org_all-access_all-agen...</td>\n",
       "      <td>057b02ff1f09</td>\n",
       "    </tr>\n",
       "    <tr>\n",
       "      <th>3</th>\n",
       "      <td>007_スペクター_ja.wikipedia.org_all-access_all-agen...</td>\n",
       "      <td>bd2aca21caa3</td>\n",
       "    </tr>\n",
       "    <tr>\n",
       "      <th>4</th>\n",
       "      <td>007_スペクター_ja.wikipedia.org_all-access_all-agen...</td>\n",
       "      <td>c0effb42cdd5</td>\n",
       "    </tr>\n",
       "  </tbody>\n",
       "</table>\n",
       "</div>"
      ],
      "text/plain": [
       "                                                Page            Id\n",
       "0  007_スペクター_ja.wikipedia.org_all-access_all-agen...  0b293039387a\n",
       "1  007_スペクター_ja.wikipedia.org_all-access_all-agen...  7114389dd824\n",
       "2  007_スペクター_ja.wikipedia.org_all-access_all-agen...  057b02ff1f09\n",
       "3  007_スペクター_ja.wikipedia.org_all-access_all-agen...  bd2aca21caa3\n",
       "4  007_スペクター_ja.wikipedia.org_all-access_all-agen...  c0effb42cdd5"
      ]
     },
     "execution_count": 5,
     "metadata": {
      "tags": []
     },
     "output_type": "execute_result"
    }
   ],
   "source": [
    "page_key = pd.read_csv('./key_2.csv')\n",
    "page_key.head()"
   ]
  },
  {
   "cell_type": "markdown",
   "metadata": {
    "colab_type": "text",
    "id": "y9LuHfzNEpBh"
   },
   "source": [
    "### Loading Train Data"
   ]
  },
  {
   "cell_type": "code",
   "execution_count": 6,
   "metadata": {
    "colab": {
     "base_uri": "https://localhost:8080/",
     "height": 270
    },
    "colab_type": "code",
    "id": "MJaGEvih7_8Z",
    "outputId": "9a4766a5-3e9e-451c-b3f5-d4ffe247f4b7"
   },
   "outputs": [
    {
     "data": {
      "text/html": [
       "<div>\n",
       "<style scoped>\n",
       "    .dataframe tbody tr th:only-of-type {\n",
       "        vertical-align: middle;\n",
       "    }\n",
       "\n",
       "    .dataframe tbody tr th {\n",
       "        vertical-align: top;\n",
       "    }\n",
       "\n",
       "    .dataframe thead th {\n",
       "        text-align: right;\n",
       "    }\n",
       "</style>\n",
       "<table border=\"1\" class=\"dataframe\">\n",
       "  <thead>\n",
       "    <tr style=\"text-align: right;\">\n",
       "      <th></th>\n",
       "      <th>2015-07-01</th>\n",
       "      <th>2015-07-02</th>\n",
       "      <th>2015-07-03</th>\n",
       "      <th>2015-07-04</th>\n",
       "      <th>2015-07-05</th>\n",
       "      <th>2015-07-06</th>\n",
       "      <th>2015-07-07</th>\n",
       "      <th>2015-07-08</th>\n",
       "      <th>2015-07-09</th>\n",
       "      <th>2015-07-10</th>\n",
       "      <th>2015-07-11</th>\n",
       "      <th>2015-07-12</th>\n",
       "      <th>2015-07-13</th>\n",
       "      <th>2015-07-14</th>\n",
       "      <th>2015-07-15</th>\n",
       "      <th>2015-07-16</th>\n",
       "      <th>2015-07-17</th>\n",
       "      <th>2015-07-18</th>\n",
       "      <th>2015-07-19</th>\n",
       "      <th>2015-07-20</th>\n",
       "      <th>2015-07-21</th>\n",
       "      <th>2015-07-22</th>\n",
       "      <th>2015-07-23</th>\n",
       "      <th>2015-07-24</th>\n",
       "      <th>2015-07-25</th>\n",
       "      <th>2015-07-26</th>\n",
       "      <th>2015-07-27</th>\n",
       "      <th>2015-07-28</th>\n",
       "      <th>2015-07-29</th>\n",
       "      <th>2015-07-30</th>\n",
       "      <th>2015-07-31</th>\n",
       "      <th>2015-08-01</th>\n",
       "      <th>2015-08-02</th>\n",
       "      <th>2015-08-03</th>\n",
       "      <th>2015-08-04</th>\n",
       "      <th>2015-08-05</th>\n",
       "      <th>2015-08-06</th>\n",
       "      <th>2015-08-07</th>\n",
       "      <th>2015-08-08</th>\n",
       "      <th>2015-08-09</th>\n",
       "      <th>...</th>\n",
       "      <th>2017-05-25</th>\n",
       "      <th>2017-05-26</th>\n",
       "      <th>2017-05-27</th>\n",
       "      <th>2017-05-28</th>\n",
       "      <th>2017-05-29</th>\n",
       "      <th>2017-05-30</th>\n",
       "      <th>2017-05-31</th>\n",
       "      <th>2017-06-01</th>\n",
       "      <th>2017-06-02</th>\n",
       "      <th>2017-06-03</th>\n",
       "      <th>2017-06-04</th>\n",
       "      <th>2017-06-05</th>\n",
       "      <th>2017-06-06</th>\n",
       "      <th>2017-06-07</th>\n",
       "      <th>2017-06-08</th>\n",
       "      <th>2017-06-09</th>\n",
       "      <th>2017-06-10</th>\n",
       "      <th>2017-06-11</th>\n",
       "      <th>2017-06-12</th>\n",
       "      <th>2017-06-13</th>\n",
       "      <th>2017-06-14</th>\n",
       "      <th>2017-06-15</th>\n",
       "      <th>2017-06-16</th>\n",
       "      <th>2017-06-17</th>\n",
       "      <th>2017-06-18</th>\n",
       "      <th>2017-06-19</th>\n",
       "      <th>2017-06-20</th>\n",
       "      <th>2017-06-21</th>\n",
       "      <th>2017-06-22</th>\n",
       "      <th>2017-06-23</th>\n",
       "      <th>2017-06-24</th>\n",
       "      <th>2017-06-25</th>\n",
       "      <th>2017-06-26</th>\n",
       "      <th>2017-06-27</th>\n",
       "      <th>2017-06-28</th>\n",
       "      <th>Observed</th>\n",
       "      <th>Site_OHE</th>\n",
       "      <th>Lang_OHE</th>\n",
       "      <th>Access_OHE</th>\n",
       "      <th>Agent_OHE</th>\n",
       "    </tr>\n",
       "  </thead>\n",
       "  <tbody>\n",
       "    <tr>\n",
       "      <th>0</th>\n",
       "      <td>18.0</td>\n",
       "      <td>11.0</td>\n",
       "      <td>5.0</td>\n",
       "      <td>13.0</td>\n",
       "      <td>14.0</td>\n",
       "      <td>9.0</td>\n",
       "      <td>9.0</td>\n",
       "      <td>22.0</td>\n",
       "      <td>26.0</td>\n",
       "      <td>24.0</td>\n",
       "      <td>19.0</td>\n",
       "      <td>10.0</td>\n",
       "      <td>14.0</td>\n",
       "      <td>15.0</td>\n",
       "      <td>8.0</td>\n",
       "      <td>16.0</td>\n",
       "      <td>8.0</td>\n",
       "      <td>8.0</td>\n",
       "      <td>16.0</td>\n",
       "      <td>7.0</td>\n",
       "      <td>11.0</td>\n",
       "      <td>10.0</td>\n",
       "      <td>20.0</td>\n",
       "      <td>18.0</td>\n",
       "      <td>15.0</td>\n",
       "      <td>14.0</td>\n",
       "      <td>49.0</td>\n",
       "      <td>10.0</td>\n",
       "      <td>16.0</td>\n",
       "      <td>18.0</td>\n",
       "      <td>8.0</td>\n",
       "      <td>5.0</td>\n",
       "      <td>9.0</td>\n",
       "      <td>7.0</td>\n",
       "      <td>13.0</td>\n",
       "      <td>9.0</td>\n",
       "      <td>7.0</td>\n",
       "      <td>4.0</td>\n",
       "      <td>11.0</td>\n",
       "      <td>10.0</td>\n",
       "      <td>...</td>\n",
       "      <td>15.0</td>\n",
       "      <td>40.0</td>\n",
       "      <td>22.0</td>\n",
       "      <td>18.0</td>\n",
       "      <td>29.0</td>\n",
       "      <td>19.0</td>\n",
       "      <td>16.0</td>\n",
       "      <td>37.0</td>\n",
       "      <td>57.0</td>\n",
       "      <td>30.0</td>\n",
       "      <td>35.0</td>\n",
       "      <td>25.0</td>\n",
       "      <td>30.0</td>\n",
       "      <td>28.0</td>\n",
       "      <td>18.0</td>\n",
       "      <td>23.0</td>\n",
       "      <td>37.0</td>\n",
       "      <td>23.0</td>\n",
       "      <td>27.0</td>\n",
       "      <td>24.0</td>\n",
       "      <td>26.0</td>\n",
       "      <td>35.0</td>\n",
       "      <td>32.0</td>\n",
       "      <td>29.0</td>\n",
       "      <td>38.0</td>\n",
       "      <td>46.0</td>\n",
       "      <td>22.0</td>\n",
       "      <td>28.0</td>\n",
       "      <td>26.0</td>\n",
       "      <td>29.0</td>\n",
       "      <td>21.0</td>\n",
       "      <td>23.0</td>\n",
       "      <td>23.0</td>\n",
       "      <td>32.0</td>\n",
       "      <td>34.0</td>\n",
       "      <td>21.0</td>\n",
       "      <td>2</td>\n",
       "      <td>8</td>\n",
       "      <td>0</td>\n",
       "      <td>1</td>\n",
       "    </tr>\n",
       "    <tr>\n",
       "      <th>1</th>\n",
       "      <td>11.0</td>\n",
       "      <td>14.0</td>\n",
       "      <td>15.0</td>\n",
       "      <td>18.0</td>\n",
       "      <td>11.0</td>\n",
       "      <td>13.0</td>\n",
       "      <td>22.0</td>\n",
       "      <td>11.0</td>\n",
       "      <td>10.0</td>\n",
       "      <td>4.0</td>\n",
       "      <td>41.0</td>\n",
       "      <td>65.0</td>\n",
       "      <td>57.0</td>\n",
       "      <td>38.0</td>\n",
       "      <td>20.0</td>\n",
       "      <td>62.0</td>\n",
       "      <td>44.0</td>\n",
       "      <td>15.0</td>\n",
       "      <td>10.0</td>\n",
       "      <td>47.0</td>\n",
       "      <td>24.0</td>\n",
       "      <td>17.0</td>\n",
       "      <td>22.0</td>\n",
       "      <td>9.0</td>\n",
       "      <td>39.0</td>\n",
       "      <td>13.0</td>\n",
       "      <td>11.0</td>\n",
       "      <td>12.0</td>\n",
       "      <td>21.0</td>\n",
       "      <td>19.0</td>\n",
       "      <td>9.0</td>\n",
       "      <td>15.0</td>\n",
       "      <td>33.0</td>\n",
       "      <td>8.0</td>\n",
       "      <td>8.0</td>\n",
       "      <td>7.0</td>\n",
       "      <td>13.0</td>\n",
       "      <td>2.0</td>\n",
       "      <td>23.0</td>\n",
       "      <td>12.0</td>\n",
       "      <td>...</td>\n",
       "      <td>17.0</td>\n",
       "      <td>40.0</td>\n",
       "      <td>28.0</td>\n",
       "      <td>20.0</td>\n",
       "      <td>25.0</td>\n",
       "      <td>21.0</td>\n",
       "      <td>28.0</td>\n",
       "      <td>39.0</td>\n",
       "      <td>29.0</td>\n",
       "      <td>31.0</td>\n",
       "      <td>41.0</td>\n",
       "      <td>21.0</td>\n",
       "      <td>23.0</td>\n",
       "      <td>22.0</td>\n",
       "      <td>19.0</td>\n",
       "      <td>20.0</td>\n",
       "      <td>30.0</td>\n",
       "      <td>34.0</td>\n",
       "      <td>14.0</td>\n",
       "      <td>22.0</td>\n",
       "      <td>26.0</td>\n",
       "      <td>18.0</td>\n",
       "      <td>21.0</td>\n",
       "      <td>25.0</td>\n",
       "      <td>17.0</td>\n",
       "      <td>15.0</td>\n",
       "      <td>10.0</td>\n",
       "      <td>17.0</td>\n",
       "      <td>24.0</td>\n",
       "      <td>18.0</td>\n",
       "      <td>193.0</td>\n",
       "      <td>26.0</td>\n",
       "      <td>62.0</td>\n",
       "      <td>127.0</td>\n",
       "      <td>104.0</td>\n",
       "      <td>20.0</td>\n",
       "      <td>2</td>\n",
       "      <td>8</td>\n",
       "      <td>0</td>\n",
       "      <td>1</td>\n",
       "    </tr>\n",
       "    <tr>\n",
       "      <th>2</th>\n",
       "      <td>1.0</td>\n",
       "      <td>0.0</td>\n",
       "      <td>1.0</td>\n",
       "      <td>1.0</td>\n",
       "      <td>0.0</td>\n",
       "      <td>4.0</td>\n",
       "      <td>0.0</td>\n",
       "      <td>3.0</td>\n",
       "      <td>4.0</td>\n",
       "      <td>4.0</td>\n",
       "      <td>1.0</td>\n",
       "      <td>1.0</td>\n",
       "      <td>1.0</td>\n",
       "      <td>6.0</td>\n",
       "      <td>8.0</td>\n",
       "      <td>6.0</td>\n",
       "      <td>4.0</td>\n",
       "      <td>5.0</td>\n",
       "      <td>1.0</td>\n",
       "      <td>2.0</td>\n",
       "      <td>3.0</td>\n",
       "      <td>8.0</td>\n",
       "      <td>8.0</td>\n",
       "      <td>6.0</td>\n",
       "      <td>6.0</td>\n",
       "      <td>2.0</td>\n",
       "      <td>2.0</td>\n",
       "      <td>3.0</td>\n",
       "      <td>2.0</td>\n",
       "      <td>4.0</td>\n",
       "      <td>3.0</td>\n",
       "      <td>3.0</td>\n",
       "      <td>5.0</td>\n",
       "      <td>3.0</td>\n",
       "      <td>5.0</td>\n",
       "      <td>4.0</td>\n",
       "      <td>2.0</td>\n",
       "      <td>5.0</td>\n",
       "      <td>1.0</td>\n",
       "      <td>4.0</td>\n",
       "      <td>...</td>\n",
       "      <td>4.0</td>\n",
       "      <td>2.0</td>\n",
       "      <td>2.0</td>\n",
       "      <td>10.0</td>\n",
       "      <td>6.0</td>\n",
       "      <td>1.0</td>\n",
       "      <td>4.0</td>\n",
       "      <td>5.0</td>\n",
       "      <td>1.0</td>\n",
       "      <td>4.0</td>\n",
       "      <td>4.0</td>\n",
       "      <td>2.0</td>\n",
       "      <td>3.0</td>\n",
       "      <td>1.0</td>\n",
       "      <td>2.0</td>\n",
       "      <td>0.0</td>\n",
       "      <td>6.0</td>\n",
       "      <td>3.0</td>\n",
       "      <td>3.0</td>\n",
       "      <td>11.0</td>\n",
       "      <td>19.0</td>\n",
       "      <td>11.0</td>\n",
       "      <td>5.0</td>\n",
       "      <td>3.0</td>\n",
       "      <td>6.0</td>\n",
       "      <td>3.0</td>\n",
       "      <td>3.0</td>\n",
       "      <td>8.0</td>\n",
       "      <td>7.0</td>\n",
       "      <td>3.0</td>\n",
       "      <td>5.0</td>\n",
       "      <td>4.0</td>\n",
       "      <td>4.0</td>\n",
       "      <td>5.0</td>\n",
       "      <td>5.0</td>\n",
       "      <td>0.0</td>\n",
       "      <td>2</td>\n",
       "      <td>8</td>\n",
       "      <td>0</td>\n",
       "      <td>1</td>\n",
       "    </tr>\n",
       "    <tr>\n",
       "      <th>3</th>\n",
       "      <td>35.0</td>\n",
       "      <td>13.0</td>\n",
       "      <td>10.0</td>\n",
       "      <td>94.0</td>\n",
       "      <td>4.0</td>\n",
       "      <td>26.0</td>\n",
       "      <td>14.0</td>\n",
       "      <td>9.0</td>\n",
       "      <td>11.0</td>\n",
       "      <td>16.0</td>\n",
       "      <td>16.0</td>\n",
       "      <td>11.0</td>\n",
       "      <td>23.0</td>\n",
       "      <td>145.0</td>\n",
       "      <td>14.0</td>\n",
       "      <td>17.0</td>\n",
       "      <td>85.0</td>\n",
       "      <td>4.0</td>\n",
       "      <td>30.0</td>\n",
       "      <td>22.0</td>\n",
       "      <td>9.0</td>\n",
       "      <td>10.0</td>\n",
       "      <td>11.0</td>\n",
       "      <td>7.0</td>\n",
       "      <td>7.0</td>\n",
       "      <td>11.0</td>\n",
       "      <td>9.0</td>\n",
       "      <td>11.0</td>\n",
       "      <td>44.0</td>\n",
       "      <td>8.0</td>\n",
       "      <td>14.0</td>\n",
       "      <td>19.0</td>\n",
       "      <td>10.0</td>\n",
       "      <td>17.0</td>\n",
       "      <td>17.0</td>\n",
       "      <td>10.0</td>\n",
       "      <td>7.0</td>\n",
       "      <td>10.0</td>\n",
       "      <td>1.0</td>\n",
       "      <td>8.0</td>\n",
       "      <td>...</td>\n",
       "      <td>14.0</td>\n",
       "      <td>8.0</td>\n",
       "      <td>14.0</td>\n",
       "      <td>22.0</td>\n",
       "      <td>17.0</td>\n",
       "      <td>16.0</td>\n",
       "      <td>13.0</td>\n",
       "      <td>24.0</td>\n",
       "      <td>14.0</td>\n",
       "      <td>14.0</td>\n",
       "      <td>9.0</td>\n",
       "      <td>12.0</td>\n",
       "      <td>10.0</td>\n",
       "      <td>12.0</td>\n",
       "      <td>17.0</td>\n",
       "      <td>5.0</td>\n",
       "      <td>15.0</td>\n",
       "      <td>10.0</td>\n",
       "      <td>12.0</td>\n",
       "      <td>16.0</td>\n",
       "      <td>17.0</td>\n",
       "      <td>8.0</td>\n",
       "      <td>10.0</td>\n",
       "      <td>18.0</td>\n",
       "      <td>19.0</td>\n",
       "      <td>13.0</td>\n",
       "      <td>26.0</td>\n",
       "      <td>12.0</td>\n",
       "      <td>17.0</td>\n",
       "      <td>15.0</td>\n",
       "      <td>12.0</td>\n",
       "      <td>11.0</td>\n",
       "      <td>12.0</td>\n",
       "      <td>10.0</td>\n",
       "      <td>22.0</td>\n",
       "      <td>21.0</td>\n",
       "      <td>2</td>\n",
       "      <td>8</td>\n",
       "      <td>0</td>\n",
       "      <td>1</td>\n",
       "    </tr>\n",
       "    <tr>\n",
       "      <th>4</th>\n",
       "      <td>0.0</td>\n",
       "      <td>0.0</td>\n",
       "      <td>0.0</td>\n",
       "      <td>0.0</td>\n",
       "      <td>0.0</td>\n",
       "      <td>0.0</td>\n",
       "      <td>0.0</td>\n",
       "      <td>0.0</td>\n",
       "      <td>0.0</td>\n",
       "      <td>0.0</td>\n",
       "      <td>0.0</td>\n",
       "      <td>0.0</td>\n",
       "      <td>0.0</td>\n",
       "      <td>0.0</td>\n",
       "      <td>0.0</td>\n",
       "      <td>0.0</td>\n",
       "      <td>0.0</td>\n",
       "      <td>0.0</td>\n",
       "      <td>0.0</td>\n",
       "      <td>0.0</td>\n",
       "      <td>0.0</td>\n",
       "      <td>0.0</td>\n",
       "      <td>0.0</td>\n",
       "      <td>0.0</td>\n",
       "      <td>0.0</td>\n",
       "      <td>0.0</td>\n",
       "      <td>0.0</td>\n",
       "      <td>0.0</td>\n",
       "      <td>0.0</td>\n",
       "      <td>0.0</td>\n",
       "      <td>0.0</td>\n",
       "      <td>0.0</td>\n",
       "      <td>0.0</td>\n",
       "      <td>0.0</td>\n",
       "      <td>0.0</td>\n",
       "      <td>0.0</td>\n",
       "      <td>0.0</td>\n",
       "      <td>0.0</td>\n",
       "      <td>0.0</td>\n",
       "      <td>0.0</td>\n",
       "      <td>...</td>\n",
       "      <td>9.0</td>\n",
       "      <td>14.0</td>\n",
       "      <td>23.0</td>\n",
       "      <td>25.0</td>\n",
       "      <td>8.0</td>\n",
       "      <td>19.0</td>\n",
       "      <td>7.0</td>\n",
       "      <td>25.0</td>\n",
       "      <td>16.0</td>\n",
       "      <td>12.0</td>\n",
       "      <td>13.0</td>\n",
       "      <td>30.0</td>\n",
       "      <td>13.0</td>\n",
       "      <td>12.0</td>\n",
       "      <td>7.0</td>\n",
       "      <td>13.0</td>\n",
       "      <td>22.0</td>\n",
       "      <td>16.0</td>\n",
       "      <td>14.0</td>\n",
       "      <td>18.0</td>\n",
       "      <td>6.0</td>\n",
       "      <td>9.0</td>\n",
       "      <td>38.0</td>\n",
       "      <td>17.0</td>\n",
       "      <td>17.0</td>\n",
       "      <td>10.0</td>\n",
       "      <td>8.0</td>\n",
       "      <td>12.0</td>\n",
       "      <td>12.0</td>\n",
       "      <td>17.0</td>\n",
       "      <td>16.0</td>\n",
       "      <td>12.0</td>\n",
       "      <td>10.0</td>\n",
       "      <td>21.0</td>\n",
       "      <td>14.0</td>\n",
       "      <td>9.0</td>\n",
       "      <td>2</td>\n",
       "      <td>8</td>\n",
       "      <td>0</td>\n",
       "      <td>1</td>\n",
       "    </tr>\n",
       "  </tbody>\n",
       "</table>\n",
       "<p>5 rows × 734 columns</p>\n",
       "</div>"
      ],
      "text/plain": [
       "   2015-07-01  2015-07-02  2015-07-03  ...  Lang_OHE  Access_OHE  Agent_OHE\n",
       "0        18.0        11.0         5.0  ...         8           0          1\n",
       "1        11.0        14.0        15.0  ...         8           0          1\n",
       "2         1.0         0.0         1.0  ...         8           0          1\n",
       "3        35.0        13.0        10.0  ...         8           0          1\n",
       "4         0.0         0.0         0.0  ...         8           0          1\n",
       "\n",
       "[5 rows x 734 columns]"
      ]
     },
     "execution_count": 6,
     "metadata": {
      "tags": []
     },
     "output_type": "execute_result"
    }
   ],
   "source": [
    "train = pd.read_csv('./train_data.csv')\n",
    "test  = pd.read_csv('./test_data.csv')\n",
    "#train = train.iloc[:,1:]\n",
    "train.head()"
   ]
  },
  {
   "cell_type": "code",
   "execution_count": 7,
   "metadata": {
    "colab": {},
    "colab_type": "code",
    "id": "4PwCAvma7_-c"
   },
   "outputs": [],
   "source": [
    "non_date_cols = [ x for x in train.columns.tolist() if x.endswith('OHE') ]\n",
    "date_cols     = [ x for x in train.columns.tolist() if not x.endswith('OHE') ]"
   ]
  },
  {
   "cell_type": "code",
   "execution_count": 8,
   "metadata": {
    "colab": {},
    "colab_type": "code",
    "id": "EprDboei7_-l",
    "scrolled": false
   },
   "outputs": [],
   "source": [
    "observed   = train['Observed']\n",
    "\n",
    "pagename_X = train[non_date_cols]\n",
    "#pagename_X_tr = StandardScaler().fit_transform()\n",
    "timeseries_X = train[date_cols].drop('Observed', axis=1)\n",
    "\n",
    "pagename_X_te = test[non_date_cols]\n"
   ]
  },
  {
   "cell_type": "code",
   "execution_count": 9,
   "metadata": {
    "colab": {},
    "colab_type": "code",
    "id": "soQeYMk37_-u"
   },
   "outputs": [],
   "source": [
    "from sklearn.preprocessing import StandardScaler\n",
    "std_sclr      = StandardScaler()\n",
    "X_pagename    = std_sclr.fit_transform(pagename_X)\n",
    "X_pagename_te = std_sclr.transform(pagename_X_te)"
   ]
  },
  {
   "cell_type": "markdown",
   "metadata": {
    "colab_type": "text",
    "id": "5Z5Baj5_8AA1"
   },
   "source": [
    "#### Metric for Evaluation"
   ]
  },
  {
   "cell_type": "markdown",
   "metadata": {
    "colab_type": "text",
    "id": "TNE_dMnY8AA3"
   },
   "source": [
    "\\begin{equation*}\n",
    "SMAPE = \\frac {200\\%}{n} \\sum_{t=1}^n\\frac {\\lvert{F}_t-{A}_t\\rvert} {(\\lvert{A}_t\\rvert+\\lvert{F}_t\\rvert)}\n",
    "\\end{equation*}"
   ]
  },
  {
   "cell_type": "markdown",
   "metadata": {
    "colab_type": "text",
    "id": "h8MBNnmG8AA4"
   },
   "source": [
    "<h5>Points to remember : </h5>\n",
    "<p>From EDA, we observed that current pageview of the page is highly correlated to that of lagged values.</p>\n",
    "<p>We will compare model with the Lagged pageviews to forecast the future values.</p>\n",
    "<p>With the classical hyper-parameters of the ML models, we can also say that [lagged_window] is also an Hyper-parameter determining the performance of the models.</p>\n",
    "<p>Also, we want our model to penalize the small deviation from the actual value of pageview and hence, we will take the log of values for the model prediction. Later, this values will be converted back to actual pageviews to get the forecasted pageview on Test data</p>"
   ]
  },
  {
   "cell_type": "markdown",
   "metadata": {
    "colab_type": "text",
    "id": "1Yr8J3Xs8AA6"
   },
   "source": [
    "#### Metrics and Parameters"
   ]
  },
  {
   "cell_type": "code",
   "execution_count": 10,
   "metadata": {
    "colab": {},
    "colab_type": "code",
    "id": "qmQyNhXs8AA7"
   },
   "outputs": [],
   "source": [
    "alpha_range   = [ 10**x for x in range(-5,4) ]\n",
    "#lagged_window = list(range(7, 366, 7))\n",
    "lagged_window = [ 7, 30, 90, 365 ]\n",
    "train_last    = '2017-06-29'\n",
    "\n",
    "def smape(ytr, ypr):\n",
    "    \"\"\"\n",
    "    function which takes Y_True and Y_Predicted as input and \n",
    "    returns SMAPE for the values as per above mentioned formula\n",
    "    \"\"\"\n",
    "    numerator   = np.abs(ypr - ytr)\n",
    "    #print(numerator)\n",
    "    denominator = (np.abs(ytr) + np.abs(ypr))\n",
    "    #print(denominator)\n",
    "    return (200/len(ytr) * np.sum( numerator / denominator ))\n",
    "\n",
    "def smoothed_smape(ytr, ypr):\n",
    "    \"\"\"\n",
    "    function returns SMAPE for the Y_True and Y_Pred values\n",
    "    For 0 values of T_True, smoothing has been done.\n",
    "    \"\"\"\n",
    "    ytr += np.log1p(0.00001)\n",
    "    numerator   = np.abs(ypr - ytr)\n",
    "    #print(numerator)\n",
    "    denominator = (np.abs(ytr) + np.abs(ypr))\n",
    "    #print(denominator)\n",
    "    return (200/len(ytr) * np.sum( numerator / denominator ))\n",
    "\n",
    "def mape(ytr, ypr, alpha=0.0001):\n",
    "    \"\"\"\n",
    "    Function returns MAPE of Y_True and Y_Pred.\n",
    "    Smoothing can be done by adding small values of Alpha to avoid Zero Division\n",
    "    in case of 0 paeviews in Y_True\n",
    "    \"\"\"\n",
    "    #ytr = np.ceil(np.expm1(ytr))\n",
    "    #ypr = np.ceil(np.expm1(ypr))\n",
    "    ytr += alpha\n",
    "    abs_err      = np.abs((ytr - ypr) / ytr)\n",
    "    #print(abs_err)\n",
    "    mean_abs_perr = np.mean(abs_err)*100\n",
    "    return mean_abs_perr\n",
    "\n",
    "def rmse(ytr, ypr):\n",
    "    \"\"\"\n",
    "    Functon returns the RMSE of Y_True and Y_Pred\n",
    "    \"\"\"\n",
    "    from math import sqrt\n",
    "    from sklearn.metrics import mean_squared_error\n",
    "    return sqrt(mean_squared_error(ytr, ypr))"
   ]
  },
  {
   "cell_type": "code",
   "execution_count": 11,
   "metadata": {
    "colab": {},
    "colab_type": "code",
    "id": "lKtFwh6j8ABL"
   },
   "outputs": [],
   "source": [
    "from sklearn.model_selection import RandomizedSearchCV, GridSearchCV\n",
    "\n",
    "from sklearn.ensemble import RandomForestRegressor\n",
    "from sklearn.linear_model import LinearRegression, SGDRegressor\n",
    "from sklearn.metrics import mean_absolute_error"
   ]
  },
  {
   "cell_type": "code",
   "execution_count": null,
   "metadata": {
    "colab": {},
    "colab_type": "code",
    "id": "m74yscmQ8ABS"
   },
   "outputs": [],
   "source": [
    "models = dict()"
   ]
  },
  {
   "cell_type": "markdown",
   "metadata": {
    "colab_type": "text",
    "id": "ATfDAh9G8ADR"
   },
   "source": [
    " "
   ]
  },
  {
   "cell_type": "markdown",
   "metadata": {
    "colab_type": "text",
    "id": "QsQpHqXE8ADT"
   },
   "source": [
    " \n",
    " "
   ]
  },
  {
   "cell_type": "markdown",
   "metadata": {
    "colab_type": "text",
    "id": "GXf8CGf-8ADV"
   },
   "source": [
    "# [1] Modeling"
   ]
  },
  {
   "cell_type": "markdown",
   "metadata": {
    "colab_type": "text",
    "id": "EeJ1XPcc8ADX"
   },
   "source": [
    "## [1.1] Window Mean"
   ]
  },
  {
   "cell_type": "markdown",
   "metadata": {
    "colab_type": "text",
    "id": "lT7e4uer8ADY"
   },
   "source": [
    "<p><li>Considering a window of records, we will consider Mean of values as a forecasted value for test data</li></p>"
   ]
  },
  {
   "cell_type": "markdown",
   "metadata": {
    "colab_type": "text",
    "id": "ylEQYx5ev-2a"
   },
   "source": [
    "#### [1.1.1] Hyper-Parameter Tuning : Lagged Window"
   ]
  },
  {
   "cell_type": "code",
   "execution_count": null,
   "metadata": {
    "colab": {},
    "colab_type": "code",
    "id": "EFHipcCU8ADZ",
    "outputId": "19100e54-e8de-43eb-a9a1-1ebc6233b1a4"
   },
   "outputs": [
    {
     "name": "stdout",
     "output_type": "stream",
     "text": [
      "Best parameters : \n",
      "Lagged Window = 7, \n",
      "MIN SMAPE = 17.55514034176668\n"
     ]
    }
   ],
   "source": [
    "Y = np.log1p(observed.values)\n",
    "\n",
    "\n",
    "error = list()\n",
    "for lag in lagged_window:\n",
    "    #print(\"Lag=\",lag)\n",
    "    X = np.log1p(timeseries_X.iloc[:,-lag:])\n",
    "    #X = np.hstack((X_pagename, X))\n",
    "    mean_X = X.mean(axis=1)\n",
    "    #print(\"Lag=\",lag,\"     Start Date : \",X.columns.tolist()[0],\"     End Date :\",X.columns.tolist()[-1])\n",
    "    #calculating SMAPE and MAPE\n",
    "    train_smape = smoothed_smape(Y, mean_X)\n",
    "    train_mape  = mape(Y, mean_X)\n",
    "    #print(\"Lag=\",lag,\"     SMAPE=\",train_smape)#,\"     RMSE=\",train_rmse, \"     MAPE\", train_mape)\n",
    "    error.append(train_smape)\n",
    "index = np.argmin(error)\n",
    "best_window=lagged_window[index];min_smape=error[index]\n",
    "error.append([best_window, min_smape])\n",
    "best_smape = error[index]\n",
    "\n",
    "print(\"Best parameters : \\nLagged Window = {0}, \\nMIN SMAPE = {1}\"\\\n",
    "      .format(best_window, best_smape))"
   ]
  },
  {
   "cell_type": "markdown",
   "metadata": {
    "colab_type": "text",
    "id": "HLYHKukx8ADh"
   },
   "source": [
    "<p>\n",
    "    With the hyper-parameter tuning, we found : \n",
    "    <li>Best Window of <b>7 days</b></li>\n",
    "</p>"
   ]
  },
  {
   "cell_type": "markdown",
   "metadata": {
    "colab_type": "text",
    "id": "yPOvEMIpwEn1"
   },
   "source": [
    "#### [1.1.2] Model Re-Fitting : with Best lagged window"
   ]
  },
  {
   "cell_type": "code",
   "execution_count": null,
   "metadata": {
    "colab": {},
    "colab_type": "code",
    "id": "SFaDCNvv8ADj"
   },
   "outputs": [],
   "source": [
    "#keeping an history values for future prediction\n",
    "history = timeseries_X.iloc[:,-best_window:]\n",
    "\n",
    "#preparing data for test run\n",
    "X = np.log1p(history.iloc[:, -best_window:])\n",
    "#staking it with page features\n",
    "#X = np.hstack((X_pagename, X))\n",
    "mean_X = X.mean(axis=1)\n",
    "#adding prediction of last train column as history column\n",
    "history[train_last] = mean_X"
   ]
  },
  {
   "cell_type": "markdown",
   "metadata": {
    "colab_type": "text",
    "id": "nEW7UiqowKOi"
   },
   "source": [
    "#### [1.1.3] CV Data Analysis"
   ]
  },
  {
   "cell_type": "code",
   "execution_count": null,
   "metadata": {
    "colab": {},
    "colab_type": "code",
    "id": "lWTNP05Y8ADt",
    "outputId": "adbb0c01-8678-4acf-a582-bd166abbdf8c"
   },
   "outputs": [
    {
     "name": "stdout",
     "output_type": "stream",
     "text": [
      "SMAPE on TEST DATA :  78.26019883931112\n",
      "RMSE  on TEST DATA :  56034.845217840106\n"
     ]
    }
   ],
   "source": [
    "test_data = pd.DataFrame()\n",
    "\n",
    "test_cols = test.columns.tolist()[:-4]\n",
    "#print(history.shape)\n",
    "for test_index in range(len(test_cols)):\n",
    "    #print(history.shape)\n",
    "    X = np.log1p(history.iloc[:,-best_window:])\n",
    "    #X_lagged = np.hstack((X_pagename_te, X))\n",
    "    predicted = np.ceil(np.expm1(X.mean(axis=1)))\n",
    "    test_data[test_cols[test_index]] = predicted\n",
    "    history[test_cols[test_index]]   = predicted\n",
    "\n",
    "test_smape = np.mean(smoothed_smape(test.iloc[:,:-4], test_data))\n",
    "print(\"SMAPE on TEST DATA : \",test_smape)\n",
    "test_rmse  = np.mean(rmse(test.iloc[: ,:-4], test_data))\n",
    "print(\"RMSE  on TEST DATA : \",test_rmse)\n",
    "models['Window Mean'] = [best_window, test_smape, test_rmse]"
   ]
  },
  {
   "cell_type": "markdown",
   "metadata": {
    "colab_type": "text",
    "id": "KsWR4rn1wTq9"
   },
   "source": [
    "#### [1.1.4] Model Performance : SMAPE on Actual vs. Forecasted values"
   ]
  },
  {
   "cell_type": "code",
   "execution_count": null,
   "metadata": {
    "colab": {},
    "colab_type": "code",
    "id": "WLFrHpgA8AFw",
    "outputId": "0b4175d6-e79b-4c3e-b525-438491ff0e7d"
   },
   "outputs": [
    {
     "data": {
      "image/png": "[encoded data removed]",
      "text/plain": [
       "<Figure size 1080x360 with 1 Axes>"
      ]
     },
     "metadata": {
      "needs_background": "light",
      "tags": []
     },
     "output_type": "display_data"
    }
   ],
   "source": [
    "#plot for mean of actual test and predicted test\n",
    "plt.figure(figsize=(15, 5))\n",
    "plt.title('Test Mean PageViews : Actual vs. Predicted PageViews using Window Mean')\n",
    "actual_mean = test.iloc[:, :-4].mean(axis=0)\n",
    "pred_mean   = test_data.mean(axis=0)\n",
    "\n",
    "xtick_labels = [ x for x in enumerate(test_cols) if x[0]%5==0 ]\n",
    "xtick_loc    = [ x[0] for x in xtick_labels ]\n",
    "xtick_label  = [ x[1] for x in xtick_labels ]\n",
    "\n",
    "b1 = plt.plot(actual_mean, marker=\"o\")\n",
    "b2 = plt.plot(pred_mean, marker=\"*\")\n",
    "plt.xlabel('Time')\n",
    "plt.ylabel('Mean Page Views')\n",
    "plt.grid()\n",
    "plt.legend([b1[0], b2[0]], ['Actual', 'Predicted'])\n",
    "plt.xticks(xtick_loc, xtick_label, rotation=60)\n",
    "plt.show()"
   ]
  },
  {
   "cell_type": "markdown",
   "metadata": {
    "colab_type": "text",
    "id": "oAY00Nrh8AF3"
   },
   "source": [
    "<p><li>From above Mean distribution of Actual vs. Predicted Page Views, we can see that for, mean Page Views of test data is constant after certain drops at the start of the data</li></p>\n",
    "<p><li>This is very simple model which can be trained and hence we can see it Under-fits the given test data</li></p>\n",
    "<p><li>SMAPE for the same is considerable low on Train data but the same increases for Test data. Model is overfitting for the given data</li></p>"
   ]
  },
  {
   "cell_type": "markdown",
   "metadata": {
    "colab_type": "text",
    "id": "0IETg6puunPG"
   },
   "source": [
    "#### [1.5.5] Test Data Analysis "
   ]
  },
  {
   "cell_type": "code",
   "execution_count": null,
   "metadata": {
    "colab": {},
    "colab_type": "code",
    "id": "8CeJoBl49G4J"
   },
   "outputs": [],
   "source": [
    "#testing with actual data\n",
    "past_data_cols = complete_train.columns.tolist()[-best_window-4:]\n",
    "past_data_cols.insert(0, 'Page')\n",
    "\n",
    "past_data = complete_train[past_data_cols]\n",
    "#past_data.head()\n",
    "\n",
    "#getting date columns and non_date columns\n",
    "date_cols = [ x for x in past_data.columns.tolist() if '-' in x ]\n",
    "non_date  = [ x for x in past_data.columns.tolist() if x not in date_cols and x != 'Page' ]\n",
    "\n",
    "#separating the ata into series of PageViews and Site features\n",
    "pagename_X   = complete_train[non_date]\n",
    "timeseries_X = complete_train[date_cols]\n",
    "\n",
    "from sklearn.preprocessing import StandardScaler\n",
    "#standardize the Site features\n",
    "std_sclr      = StandardScaler()\n",
    "X_pagename    = std_sclr.fit_transform(pagename_X)"
   ]
  },
  {
   "cell_type": "code",
   "execution_count": null,
   "metadata": {
    "colab": {},
    "colab_type": "code",
    "id": "hPiZaHJ_Fv7w"
   },
   "outputs": [],
   "source": [
    "model_test = pd.DataFrame()\n",
    "model_test['Page'] = complete_train.Page.values\n",
    "#print(past_data.shape)\n",
    "for test_index in range(len(test_days)):\n",
    "    #print(history.shape)\n",
    "    X = np.log1p(timeseries_X.iloc[:,-best_window:])\n",
    "    #X_lagged = np.hstack((X_pagename_te, X))\n",
    "    predicted = np.ceil(np.expm1(X.mean(axis=1)))\n",
    "    model_test[test_days[test_index]] = predicted\n",
    "    timeseries_X[test_days[test_index]]     = predicted"
   ]
  },
  {
   "cell_type": "code",
   "execution_count": null,
   "metadata": {
    "colab": {},
    "colab_type": "code",
    "id": "_EkmHioEFv0n"
   },
   "outputs": [],
   "source": [
    "f = open('Window_Mean_Page_Count.csv', 'w')\n",
    "f.write('Page|Visits'+'\\n')\n",
    "for col in model_test.iloc[:,-62:].columns.tolist():\n",
    "  test_data = model_test[['Page',col]]\n",
    "  pageviews = [ str(int(x)) for x in test_data.iloc[:,-1] ]\n",
    "  pagename  = [ x+'_'+test_data.columns.tolist()[-1] for x in test_data.iloc[:,0] ]\n",
    "  page_view = list(zip(pagename,pageviews))\n",
    "  #writing it into file\n",
    "  for line in page_view:\n",
    "    n, c = line\n",
    "    f.write(n+'|'+c)\n",
    "    f.write('\\n')\n",
    "test_data_final = pd.read_csv('./Window_Mean_Page_Count.csv', sep='|')  \n",
    "\n",
    "#saving the final file\n",
    "page_key.merge(test_data_final, how='left', on='Page')[['Id', 'Visits']].fillna(0).to_csv('./Test_Data_Window_Mean.csv', index=False)"
   ]
  },
  {
   "cell_type": "markdown",
   "metadata": {
    "colab_type": "text",
    "id": "B8DE2UIQEgiF"
   },
   "source": [
    "![image.png](data:image/png;base64,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)"
   ]
  },
  {
   "cell_type": "code",
   "execution_count": null,
   "metadata": {
    "colab": {},
    "colab_type": "code",
    "id": "v6OzHN9DIE7S"
   },
   "outputs": [],
   "source": [
    "models['Window Mean'].append('44.9267')"
   ]
  },
  {
   "cell_type": "markdown",
   "metadata": {
    "colab_type": "text",
    "id": "iqOI_XDC8AF4"
   },
   "source": [
    "## [1.2] Linear Regression (Squared Loss)"
   ]
  },
  {
   "cell_type": "markdown",
   "metadata": {
    "colab_type": "text",
    "id": "Mqz76QEI8AF6"
   },
   "source": [
    "<p>\n",
    "    <li>Being a Regression problem, we can use Linear Regression with Square Loss for forecast</li>\n",
    "</p>"
   ]
  },
  {
   "cell_type": "markdown",
   "metadata": {
    "colab_type": "text",
    "id": "LMZWlUtqyt8T"
   },
   "source": [
    "#### [1.2.1] Hyper-Parameter Tuning : Lagged Window"
   ]
  },
  {
   "cell_type": "code",
   "execution_count": null,
   "metadata": {
    "colab": {},
    "colab_type": "code",
    "id": "Ui3xucsg8AF9",
    "outputId": "dacb5128-5103-47cb-d147-1166069130a0",
    "scrolled": true
   },
   "outputs": [
    {
     "name": "stdout",
     "output_type": "stream",
     "text": [
      "**** Running with Lagged Window = 7\n",
      "**** Running with Lagged Window = 30\n",
      "**** Running with Lagged Window = 90\n",
      "**** Running with Lagged Window = 365\n",
      "Best parameters : \n",
      "Alpha = 0.1, \n",
      "Lagged Window = 90, \n",
      "MIN SMAPE = 16.9803674316663\n"
     ]
    }
   ],
   "source": [
    "#taking log1p of both values, x_train and y_labels\n",
    "Y = np.log1p(observed.values)\n",
    "\n",
    "error = list()\n",
    "for lag in lagged_window:\n",
    "    print(\"**** Running with Lagged Window =\",lag)\n",
    "    X = np.log1p(timeseries_X.iloc[:,-lag:])\n",
    "    X = np.hstack((X_pagename, X))\n",
    "    smape_error = list()\n",
    "    for alpha in alpha_range:  \n",
    "        #print(\"Lag=\",lag,\"     Start Date : \",X.columns.tolist()[0],\"     End Date :\",X.columns.tolist()[-1])\n",
    "        #fitting log_reg on lagged data\n",
    "        log_reg = SGDRegressor(alpha=alpha, loss='squared_loss', penalty='l2', \\\n",
    "                               fit_intercept=True, random_state=45)\n",
    "        log_reg.fit(X, Y)\n",
    "        #making prediction for last day of Train\n",
    "        model_predicted = log_reg.predict(X)\n",
    "        #calculating SMAPE and MAPE\n",
    "        train_smape     = smoothed_smape(Y, model_predicted)\n",
    "        #print(\"Lag=\",lag,\"     SMAPE=\",train_smape)#,\"     RMSE=\",train_rmse, \"     MAPE\", train_mape)\n",
    "        smape_error.append(train_smape)\n",
    "    index = np.argmin(smape_error)\n",
    "    best_alpha=alpha_range[index];min_smape=smape_error[index]\n",
    "    error.append([best_alpha, min_smape])\n",
    "\n",
    "index = np.argmin([ x[1] for x in error ])\n",
    "best_window = lagged_window[index]\n",
    "best_alpha, best_smape = error[index]\n",
    "print(\"Best parameters : \\nAlpha = {0}, \\nLagged Window = {1}, \\nMIN SMAPE = {2}\"\\\n",
    "      .format(best_alpha, best_window, best_smape))"
   ]
  },
  {
   "cell_type": "markdown",
   "metadata": {
    "colab_type": "text",
    "id": "eBoNjFI_8AGE"
   },
   "source": [
    "<p>\n",
    "    With the Hyper-parameter Tuning of the model, we found :\n",
    "    <li>Best Window of <b>90 days</b></li>\n",
    "    <li>Best Alpha to be 0.1</li>\n",
    "</p>"
   ]
  },
  {
   "cell_type": "markdown",
   "metadata": {
    "colab_type": "text",
    "id": "U0yIFdMRyy8b"
   },
   "source": [
    "#### [1.2.2] Model Re-Fitting : with Best lagged window"
   ]
  },
  {
   "cell_type": "code",
   "execution_count": null,
   "metadata": {
    "colab": {},
    "colab_type": "code",
    "id": "1m6B6Bbc8AGF"
   },
   "outputs": [],
   "source": [
    "#keeping an history values for future prediction\n",
    "history = timeseries_X.iloc[:,-best_window:]\n",
    "\n",
    "#preparing data for test run\n",
    "X = np.log1p(history.iloc[:, -best_window:])\n",
    "#staking it with page features\n",
    "X = np.hstack((X_pagename, X))\n",
    "log_reg = SGDRegressor(alpha=best_alpha, loss='squared_loss', \\\n",
    "                     penalty='l2', fit_intercept=True, random_state=45)\n",
    "log_reg.fit(X, Y)\n",
    "#saving the best fit mode\n",
    "joblib.dump(log_reg, './ML_MODEL-linear_regression_squareloss.sav')\n",
    "\n",
    "#adding prediction of last train column as history column\n",
    "history[train_last] = [ np.ceil(np.expm1(x)) for x in log_reg.predict(X) ]"
   ]
  },
  {
   "cell_type": "markdown",
   "metadata": {
    "colab_type": "text",
    "id": "nMUxQne5y4De"
   },
   "source": [
    "#### [1.2.3] CV Data Analysis"
   ]
  },
  {
   "cell_type": "code",
   "execution_count": null,
   "metadata": {
    "colab": {},
    "colab_type": "code",
    "id": "y0RupttP8AIE",
    "outputId": "c8257a04-3f34-4b9b-c837-17c4c4858b3a"
   },
   "outputs": [
    {
     "name": "stdout",
     "output_type": "stream",
     "text": [
      "SMAPE on TEST DATA :  60.02820817106046\n",
      "RMSE  on TEST DATA :  42788.354816028026\n"
     ]
    }
   ],
   "source": [
    "test_data = pd.DataFrame()\n",
    "test_cols = test.columns.tolist()[:-4]\n",
    "#print(history.shape)\n",
    "for test_index in range(len(test_cols)):\n",
    "    #print(history.shape)\n",
    "    X         = np.log1p(history.iloc[:,-best_window:])\n",
    "    X_lagged  = np.hstack((X_pagename_te, X))\n",
    "    predicted = [ np.ceil(np.expm1(x)) for x in log_reg.predict(X_lagged) ]\n",
    "    test_data[test_cols[test_index]] = predicted\n",
    "    history[test_cols[test_index]]   = predicted\n",
    "    #history[test_cols[test_index]]   = test.iloc[:, test_index]\n",
    "\n",
    "test_smape = np.mean(smoothed_smape(test.iloc[:,:-4], test_data))\n",
    "print(\"SMAPE on TEST DATA : \",test_smape)\n",
    "test_rmse  = np.mean(rmse(test.iloc[: ,:-4], test_data))\n",
    "print(\"RMSE  on TEST DATA : \",test_rmse)\n",
    "models['Linear Regression(Sq. Loss)'] = [best_window, test_smape, test_rmse]"
   ]
  },
  {
   "cell_type": "markdown",
   "metadata": {
    "colab_type": "text",
    "id": "jgzKoXP-y8rU"
   },
   "source": [
    "#### [1.2.4] Model Performance : SMAPE on Actual vs. Forecasted values"
   ]
  },
  {
   "cell_type": "code",
   "execution_count": null,
   "metadata": {
    "colab": {},
    "colab_type": "code",
    "id": "jYTIDXNA8AIO",
    "outputId": "ca209ee3-59e7-4c18-a652-02eb9c76da06"
   },
   "outputs": [
    {
     "data": {
      "image/png": "[encoded data removed]",
      "text/plain": [
       "<Figure size 1080x360 with 1 Axes>"
      ]
     },
     "metadata": {
      "needs_background": "light",
      "tags": []
     },
     "output_type": "display_data"
    }
   ],
   "source": [
    "#plot for mean of actual test and predicted test\n",
    "plt.figure(figsize=(15, 5))\n",
    "plt.title('Test Mean PageViews : Actual vs. Predicted PageViews using Linear regression')\n",
    "actual_mean = test.iloc[:, :-4].mean(axis=0)\n",
    "pred_mean   = test_data.mean(axis=0)\n",
    "\n",
    "xtick_labels = [ x for x in enumerate(test_cols) if x[0]%5==0 ]\n",
    "xtick_loc    = [ x[0] for x in xtick_labels ]\n",
    "xtick_label  = [ x[1] for x in xtick_labels ]\n",
    "b1 = plt.plot(actual_mean, marker=\"o\")\n",
    "b2 = plt.plot(pred_mean, marker=\"*\")\n",
    "plt.xlabel('Time')\n",
    "plt.ylabel('Mean Page Views')\n",
    "plt.grid()\n",
    "plt.legend([b1[0], b2[0]], ['Actual', 'Predicted'])\n",
    "plt.xticks(xtick_loc, xtick_label, rotation=60)\n",
    "plt.show()"
   ]
  },
  {
   "cell_type": "markdown",
   "metadata": {
    "colab_type": "text",
    "id": "rEloIo3V8AIW"
   },
   "source": [
    "<p><li>From above Mean distribution of Actual vs. Predicted Page Views, we can see that for, for the initial period of the test data, model error was comparatively low. This starts increasing as we progress through the time.</li></p>\n",
    "<p><li>Test data error of the model is significant but comparatively lower that Window Mean Model but model seems to over-fit in this case.</li></p>"
   ]
  },
  {
   "cell_type": "markdown",
   "metadata": {
    "colab_type": "text",
    "id": "m5dimbYEzIOs"
   },
   "source": [
    "#### [1.2.5] Test Data Analysis "
   ]
  },
  {
   "cell_type": "code",
   "execution_count": null,
   "metadata": {
    "colab": {},
    "colab_type": "code",
    "id": "8X05j_qvzHdq"
   },
   "outputs": [],
   "source": [
    "best_window = 90\n",
    "\n",
    "#testing with actual data\n",
    "past_data_cols = complete_train.columns.tolist()[-best_window-4:]\n",
    "past_data_cols.insert(0, 'Page')\n",
    "\n",
    "past_data = complete_train[past_data_cols]\n",
    "#past_data.head()\n",
    "\n",
    "#getting date columns and non_date columns\n",
    "date_cols = [ x for x in past_data.columns.tolist() if '-' in x ]\n",
    "non_date  = [ x for x in past_data.columns.tolist() if x not in date_cols and x != 'Page' ]\n",
    "\n",
    "#separating the ata into series of PageViews and Site features\n",
    "pagename_X   = complete_train[non_date]\n",
    "timeseries_X = complete_train[date_cols]\n",
    "\n",
    "from sklearn.preprocessing import StandardScaler\n",
    "#standardize the Site features\n",
    "std_sclr      = StandardScaler()\n",
    "X_pagename    = std_sclr.fit_transform(pagename_X)"
   ]
  },
  {
   "cell_type": "code",
   "execution_count": null,
   "metadata": {
    "colab": {},
    "colab_type": "code",
    "id": "pvXINWxazHUp"
   },
   "outputs": [],
   "source": [
    "#loading the saved model\n",
    "sq_reg = joblib.load('./ML_MODEL-linear_regression_squareloss.sav')\n",
    "\n",
    "#running the prediction for test data\n",
    "model_test = pd.DataFrame()\n",
    "model_test['Page'] = complete_train.Page.values\n",
    "for test_index in range(len(test_days)):\n",
    "    X         = np.log1p(timeseries_X.iloc[:,-best_window:])\n",
    "    X_lagged  = np.hstack((X_pagename_te, X))\n",
    "    predicted = [ np.ceil(np.expm1(x)) for x in sq_reg.predict(X_lagged) ]\n",
    "    model_test[test_days[test_index]]   = predicted\n",
    "    timeseries_X[test_days[test_index]] = predicted"
   ]
  },
  {
   "cell_type": "code",
   "execution_count": null,
   "metadata": {
    "colab": {},
    "colab_type": "code",
    "id": "nQYjSEV-zHMF"
   },
   "outputs": [],
   "source": [
    "f = open('Linear_Regression_SqLoss_Page_Count.csv', 'w')\n",
    "f.write('Page|Visits'+'\\n')\n",
    "for col in model_test.iloc[:,-62:].columns.tolist():\n",
    "  test_data = model_test[['Page',col]]\n",
    "  pageviews = [ str(int(x)) for x in test_data.iloc[:,-1] ]\n",
    "  pagename  = [ x+'_'+test_data.columns.tolist()[-1] for x in test_data.iloc[:,0] ]\n",
    "  page_view = list(zip(pagename,pageviews))\n",
    "  #writing it into file\n",
    "  for line in page_view:\n",
    "    n, c = line\n",
    "    f.write(n+'|'+c)\n",
    "    f.write('\\n')\n",
    "f.close()\n",
    "\n",
    "test_data_final = pd.read_csv('./Linear_Regression_SqLoss_Page_Count.csv', sep='|')\n",
    "#saving the final file\n",
    "page_key.merge(test_data_final, how='left', on='Page')[['Id', 'Visits']].fillna(0).to_csv('./Test_Data_Linear_Regression_SqLoss.csv', index=False)"
   ]
  },
  {
   "cell_type": "markdown",
   "metadata": {
    "colab_type": "text",
    "id": "PbJoqmi3ErIa"
   },
   "source": [
    "![image.png](data:image/png;base64,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)"
   ]
  },
  {
   "cell_type": "code",
   "execution_count": null,
   "metadata": {
    "colab": {},
    "colab_type": "code",
    "id": "mXdoKkTbHPoZ"
   },
   "outputs": [],
   "source": [
    "models['Linear Regression(Sq. Loss)'].append('58.3880')"
   ]
  },
  {
   "cell_type": "markdown",
   "metadata": {
    "colab_type": "text",
    "id": "xAp2-8pf8AIX"
   },
   "source": [
    "## [1.3] Linear Regression (Huber Loss)"
   ]
  },
  {
   "cell_type": "markdown",
   "metadata": {
    "colab_type": "text",
    "id": "sWcGmmGy8AIZ"
   },
   "source": [
    "<p>With certain Sites with higher Page Views being the outlier in the data, we will fit model using Huber Loss which is rhobust to Outliers</p>"
   ]
  },
  {
   "cell_type": "markdown",
   "metadata": {
    "colab_type": "text",
    "id": "a0c68KU1_Iq-"
   },
   "source": [
    "#### [1.3.1] Hyper-parameter tuning : Best Lagged Window"
   ]
  },
  {
   "cell_type": "code",
   "execution_count": null,
   "metadata": {
    "colab": {},
    "colab_type": "code",
    "id": "fpfX-TQw8AIa",
    "outputId": "1a1568ee-1a95-464d-cf87-aa15c9973039"
   },
   "outputs": [
    {
     "name": "stdout",
     "output_type": "stream",
     "text": [
      "**** Running with Lagged Window = 7\n",
      "**** Running with Lagged Window = 30\n",
      "**** Running with Lagged Window = 90\n",
      "**** Running with Lagged Window = 365\n",
      "Best parameters : \n",
      "Alpha = 0.1, \n",
      "Lagged Window = 90, \n",
      "MIN SMAPE = 16.9958302787967\n"
     ]
    }
   ],
   "source": [
    "#taking log1p of both values, x_train and y_labels\n",
    "Y = np.log1p(observed.values)\n",
    "\n",
    "error = list()\n",
    "for lag in lagged_window:\n",
    "    print(\"**** Running with Lagged Window =\",lag)\n",
    "    X = np.log1p(timeseries_X.iloc[:,-lag:])\n",
    "    X = np.hstack((X_pagename, X))\n",
    "    smape_error = list()\n",
    "    for alpha in alpha_range:  \n",
    "        #print(\"Lag=\",lag,\"     Start Date : \",X.columns.tolist()[0],\"     End Date :\",X.columns.tolist()[-1])\n",
    "        #fitting log_reg on lagged data\n",
    "        log_reg = SGDRegressor(alpha=alpha, loss='huber', penalty='l2', \\\n",
    "                               fit_intercept=True, random_state=45)\n",
    "        log_reg.fit(X, Y)\n",
    "        #making prediction for last day of Train\n",
    "        model_predicted = log_reg.predict(X)\n",
    "        #calculating SMAPE and MAPE\n",
    "        train_smape     = smoothed_smape(Y, model_predicted)\n",
    "        #print(\"Lag=\",lag,\"     SMAPE=\",train_smape)#,\"     RMSE=\",train_rmse, \"     MAPE\", train_mape)\n",
    "        smape_error.append(train_smape)\n",
    "    index = np.argmin(smape_error)\n",
    "    best_alpha=alpha_range[index];min_smape=smape_error[index]\n",
    "    error.append([best_alpha, min_smape])\n",
    "\n",
    "index = np.argmin([ x[1] for x in error ])\n",
    "best_window = lagged_window[index]\n",
    "best_alpha, best_smape = error[index]\n",
    "print(\"Best parameters : \\nAlpha = {0}, \\nLagged Window = {1}, \\nMIN SMAPE = {2}\"\\\n",
    "      .format(best_alpha, best_window, best_smape))"
   ]
  },
  {
   "cell_type": "markdown",
   "metadata": {
    "colab_type": "text",
    "id": "YPRBRVqF8AIh"
   },
   "source": [
    "<p>\n",
    "    With the Hyper-parameter Tuning of the model, we found :\n",
    "    <li>Best Window of <b>90 days</b></li>\n",
    "    <li>Best Alpha to be 0.1</li>\n",
    "</p>"
   ]
  },
  {
   "cell_type": "markdown",
   "metadata": {
    "colab_type": "text",
    "id": "le4ZB-OZ_arM"
   },
   "source": [
    "#### [1.3.2] Fitting model with Best Lagged window data"
   ]
  },
  {
   "cell_type": "code",
   "execution_count": null,
   "metadata": {
    "colab": {},
    "colab_type": "code",
    "id": "Q0kQywo98AIj"
   },
   "outputs": [],
   "source": [
    "#keeping an history values for future prediction\n",
    "history = timeseries_X.iloc[:,-best_window:]\n",
    "\n",
    "#preparing data for test run\n",
    "#X = np.log1p(history.iloc[:, -best_window:])\n",
    "\n",
    "#standardized the data\n",
    "X = std_sclr.fit_transform(np.log1p(history.iloc[:, -best_window:]))\n",
    "\n",
    "#staking it with page features\n",
    "X = np.hstack((X_pagename, X))\n",
    "log_reg = SGDRegressor(alpha=best_alpha, loss='huber', \\\n",
    "                     penalty='l2', fit_intercept=True, random_state=45)\n",
    "log_reg.fit(X, Y)\n",
    "#saving the best fit mode\n",
    "joblib.dump(log_reg, './ML_MODEL-linear_regression_huberloss.sav')\n",
    "\n",
    "#adding prediction of last train column as history column\n",
    "history[train_last] = [ np.ceil(np.expm1(x)) for x in log_reg.predict(X) ]"
   ]
  },
  {
   "cell_type": "markdown",
   "metadata": {
    "colab_type": "text",
    "id": "64ktuWnd_i_c"
   },
   "source": [
    "#### [1.3.3] Running Model on CV Data"
   ]
  },
  {
   "cell_type": "code",
   "execution_count": null,
   "metadata": {
    "colab": {},
    "colab_type": "code",
    "id": "7cgDY6Sj8AKv",
    "outputId": "60769f2e-2e14-446b-f7c0-53495afaa16a"
   },
   "outputs": [
    {
     "name": "stdout",
     "output_type": "stream",
     "text": [
      "SMAPE on TEST DATA :  45.69585062490128\n",
      "RMSE  on TEST DATA :  28966.58932053282\n"
     ]
    }
   ],
   "source": [
    "test_data = pd.DataFrame()\n",
    "test_cols = test.columns.tolist()[:-4]\n",
    "#print(history.shape)\n",
    "for test_index in range(len(test_cols)):\n",
    "    #print(history.shape)\n",
    "    #X         = np.log1p(history.iloc[:,-best_window:])\n",
    "    \n",
    "    #standardized thed ata\n",
    "    X         = std_sclr.fit_transform(np.log1p(history.iloc[:,-best_window:]))\n",
    "    \n",
    "    X_lagged  = np.hstack((X_pagename_te, X))\n",
    "    predicted = [ np.ceil(np.expm1(x)) for x in log_reg.predict(X_lagged) ]\n",
    "    test_data[test_cols[test_index]] = predicted\n",
    "    history[test_cols[test_index]]   = predicted\n",
    "    #history[test_cols[test_index]]   = test.iloc[:, test_index]\n",
    "\n",
    "test_smape = np.mean(smoothed_smape(test.iloc[:,:-4], test_data))\n",
    "print(\"SMAPE on TEST DATA : \",test_smape)\n",
    "test_rmse  = np.mean(rmse(test.iloc[: ,:-4], test_data))\n",
    "print(\"RMSE  on TEST DATA : \",test_rmse)\n",
    "models['Linear Regression (Huber LOSS)'] = [best_window, test_smape, test_rmse]"
   ]
  },
  {
   "cell_type": "markdown",
   "metadata": {
    "colab_type": "text",
    "id": "I5cv-hjP_n7P"
   },
   "source": [
    "#### [1.3.4] SMAPE Performance : Actual vs. Forecasted values"
   ]
  },
  {
   "cell_type": "code",
   "execution_count": null,
   "metadata": {
    "colab": {},
    "colab_type": "code",
    "id": "UQaUIEZz8AK1",
    "outputId": "f329dcf4-bc80-49f7-c5e4-641a57ac76b1"
   },
   "outputs": [
    {
     "data": {
      "image/png": "[encoded data removed]",
      "text/plain": [
       "<Figure size 1080x360 with 1 Axes>"
      ]
     },
     "metadata": {
      "needs_background": "light",
      "tags": []
     },
     "output_type": "display_data"
    }
   ],
   "source": [
    "#plot for mean of actual test and predicted test\n",
    "plt.figure(figsize=(15, 5))\n",
    "plt.title('Test Mean PageViews : Actual vs. Predicted PageViews using Linear regression')\n",
    "actual_mean = test.iloc[:, :-4].mean(axis=0)\n",
    "pred_mean   = test_data.mean(axis=0)\n",
    "\n",
    "xtick_labels = [ x for x in enumerate(test_cols) if x[0]%5==0 ]\n",
    "xtick_loc    = [ x[0] for x in xtick_labels ]\n",
    "xtick_label  = [ x[1] for x in xtick_labels ]\n",
    "b1 = plt.plot(actual_mean, marker=\"o\")\n",
    "b2 = plt.plot(pred_mean, marker=\"*\")\n",
    "plt.xlabel('Time')\n",
    "plt.ylabel('Mean Page Views')\n",
    "plt.grid()\n",
    "plt.legend([b1[0], b2[0]], ['Actual', 'Predicted'])\n",
    "plt.xticks(xtick_loc, xtick_label, rotation=60)\n",
    "plt.show()"
   ]
  },
  {
   "cell_type": "markdown",
   "metadata": {
    "colab_type": "text",
    "id": "d4tlS2Yf8AK8"
   },
   "source": [
    "<p><li>With the cyclic Mean views of actual test data, we can see that the model fits the data linearly to forecast the Page Views on the test data.</li></p>\n",
    "<p><li>SMAPE on Test data with Linear Regression with Huber Loss is significantly low as model fits the data linearly. Model also overfits as we progress through the data.</li></p>"
   ]
  },
  {
   "cell_type": "markdown",
   "metadata": {
    "colab_type": "text",
    "id": "cYrCnZ92_uEp"
   },
   "source": [
    "#### [1.3.5] Testing ofn actual Test data"
   ]
  },
  {
   "cell_type": "code",
   "execution_count": null,
   "metadata": {
    "colab": {},
    "colab_type": "code",
    "id": "7YYKLN0i_Fxl"
   },
   "outputs": [],
   "source": [
    "best_window = 90\n",
    "\n",
    "#testing with actual data\n",
    "past_data_cols = complete_train.columns.tolist()[-best_window-4:]\n",
    "past_data_cols.insert(0, 'Page')\n",
    "\n",
    "past_data = complete_train[past_data_cols]\n",
    "#past_data.head()\n",
    "\n",
    "#getting date columns and non_date columns\n",
    "date_cols = [ x for x in past_data.columns.tolist() if '-' in x ]\n",
    "non_date  = [ x for x in past_data.columns.tolist() if x not in date_cols and x != 'Page' ]\n",
    "\n",
    "#separating the ata into series of PageViews and Site features\n",
    "pagename_X   = complete_train[non_date]\n",
    "timeseries_X = complete_train[date_cols]\n",
    "\n",
    "from sklearn.preprocessing import StandardScaler\n",
    "#standardize the Site features\n",
    "std_sclr      = StandardScaler()\n",
    "X_pagename    = std_sclr.fit_transform(pagename_X)"
   ]
  },
  {
   "cell_type": "code",
   "execution_count": null,
   "metadata": {
    "colab": {},
    "colab_type": "code",
    "id": "PK5J59as_Ft0"
   },
   "outputs": [],
   "source": [
    "#loading the saved model\n",
    "log_reg_hu = joblib.load('./ML_MODEL-linear_regression_huberloss.sav')\n",
    "\n",
    "#running the prediction for test data\n",
    "model_test = pd.DataFrame()\n",
    "model_test['Page'] = complete_train.Page.values\n",
    "for test_index in range(len(test_days)):\n",
    "    X         = np.log1p(timeseries_X.iloc[:,-best_window:])\n",
    "    X_lagged  = np.hstack((X_pagename_te, X))\n",
    "    predicted = [ np.ceil(np.expm1(x)) for x in log_reg_hu.predict(X_lagged) ]\n",
    "    model_test[test_days[test_index]]   = predicted\n",
    "    timeseries_X[test_days[test_index]] = predicted"
   ]
  },
  {
   "cell_type": "code",
   "execution_count": null,
   "metadata": {
    "colab": {},
    "colab_type": "code",
    "id": "40BTSDYW_Fkf"
   },
   "outputs": [],
   "source": [
    "f = open('Linear_Regression_HuberLoss_Page_Count.csv', 'w')\n",
    "f.write('Page|Visits'+'\\n')\n",
    "for col in model_test.iloc[:,-62:].columns.tolist():\n",
    "  test_data = model_test[['Page',col]]\n",
    "  pageviews = [ str(int(x)) for x in test_data.iloc[:,-1] ]\n",
    "  pagename  = [ x+'_'+test_data.columns.tolist()[-1] for x in test_data.iloc[:,0] ]\n",
    "  page_view = list(zip(pagename,pageviews))\n",
    "  #writing it into file\n",
    "  for line in page_view:\n",
    "    n, c = line\n",
    "    f.write(n+'|'+c)\n",
    "    f.write('\\n')\n",
    "f.close()\n",
    "\n",
    "test_data_final = pd.read_csv('./Linear_Regression_HuberLoss_Page_Count.csv', sep='|')\n",
    "\n",
    "#saving the final file\n",
    "page_key.merge(test_data_final, how='left', on='Page')[['Id', 'Visits']].fillna(0).to_csv('./Test_Data_Linear_Regression_HuberLoss.csv', index=False)"
   ]
  },
  {
   "cell_type": "markdown",
   "metadata": {
    "colab_type": "text",
    "id": "Sj2h97GfG-e1"
   },
   "source": [
    "![image.png](data:image/png;base64,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)"
   ]
  },
  {
   "cell_type": "code",
   "execution_count": null,
   "metadata": {
    "colab": {},
    "colab_type": "code",
    "id": "tyWyv7MmG--J"
   },
   "outputs": [],
   "source": [
    "models['Linear Regression (Huber LOSS)'].append('199.99794')"
   ]
  },
  {
   "cell_type": "markdown",
   "metadata": {
    "colab_type": "text",
    "id": "KqloLn4n8ALE"
   },
   "source": [
    "## [1.4] Decision Tree Regressor"
   ]
  },
  {
   "cell_type": "markdown",
   "metadata": {
    "colab_type": "text",
    "id": "_ZHrRmqjlEnW"
   },
   "source": [
    "<p>Analysis using decision trees for forecasting</p>"
   ]
  },
  {
   "cell_type": "markdown",
   "metadata": {
    "colab_type": "text",
    "id": "F7fZ7WmYALNX"
   },
   "source": [
    "#### [1.4.1] Hyper-parameter Tuning : Best Lag Window"
   ]
  },
  {
   "cell_type": "code",
   "execution_count": null,
   "metadata": {
    "colab": {},
    "colab_type": "code",
    "id": "BdO_0Z7N8ALF"
   },
   "outputs": [],
   "source": [
    "Y = np.log1p(observed.values)\n",
    "depth_list         = [ 3, 5, 7, 9, 11 ]\n",
    "samples_split_list = [ 2, 3, 5 ]\n",
    "\n",
    "param_dict = {'max_depth':depth_list, 'min_samples_split':samples_split_list}"
   ]
  },
  {
   "cell_type": "code",
   "execution_count": null,
   "metadata": {
    "colab": {
     "base_uri": "https://localhost:8080/",
     "height": 153
    },
    "colab_type": "code",
    "id": "zMUObzNN8ALO",
    "outputId": "6a214b02-c23b-46ad-c1a2-1f92ace7dc54"
   },
   "outputs": [
    {
     "name": "stdout",
     "output_type": "stream",
     "text": [
      "**** Running model for Lag Window 7\n",
      "**** Running model for Lag Window 30\n",
      "**** Running model for Lag Window 90\n",
      "**** Running model for Lag Window 365\n",
      "Best parameters found for : \n",
      "Lagged Window = 365, \n",
      "\n",
      "MIN SMAPE =32.870312566736786\n"
     ]
    }
   ],
   "source": [
    "error = list()\n",
    "for lag in lagged_window:\n",
    "    print(\"**** Running model for Lag Window %d\"%lag)\n",
    "    X = np.log1p(timeseries_X.iloc[:, -lag:])\n",
    "    X = np.hstack((X_pagename, X))\n",
    "    dt_regressor = DecisionTreeRegressor(max_features='sqrt', random_state=45)\n",
    "    model        = RandomizedSearchCV(dt_regressor, param_dict, random_state=27, n_jobs=-1)\n",
    "    model.fit(X, Y)\n",
    "    best_param_dict = model.best_params_\n",
    "    #print(best_param_dict)\n",
    "    best_depth   = best_param_dict['max_depth']\n",
    "    best_split   = best_param_dict['min_samples_split']\n",
    "    dt_regressor = DecisionTreeRegressor(max_depth         = best_depth, \\\n",
    "                                         min_samples_split = best_split, \\\n",
    "                                         random_state=45)\n",
    "    dt_regressor.fit(X, Y)\n",
    "    model_predicted = dt_regressor.predict(X)\n",
    "    #calculating SMAPE and MAPE\n",
    "    train_smape     = smape(observed, np.ceil(np.expm1(model_predicted)))\n",
    "    #train_mape      = mape(Y, model_predicted)\n",
    "    error.append([train_smape, best_param_dict])\n",
    "index = np.argmin([x[0] for x in error])\n",
    "best_window = lagged_window[index]\n",
    "best_params = error[index][1]\n",
    "best_smape = error[index][0]\n",
    "\n",
    "print(\"Best parameters found for : \\nLagged Window = {0}, \\n\\nMIN SMAPE ={1}\"\\\n",
    "      .format(best_window, best_smape))"
   ]
  },
  {
   "cell_type": "markdown",
   "metadata": {
    "colab_type": "text",
    "id": "AwATL7GzAQ4q"
   },
   "source": [
    "#### [1.4.2] Fitting model with Best Lagged window"
   ]
  },
  {
   "cell_type": "code",
   "execution_count": null,
   "metadata": {
    "colab": {},
    "colab_type": "code",
    "id": "j9EE5Cdl8ANH"
   },
   "outputs": [],
   "source": [
    "#keeping an history values for future prediction\n",
    "history = timeseries_X.iloc[:,-best_window:]\n",
    "\n",
    "#preparing data for test run\n",
    "X = np.log1p(history.iloc[:, -best_window:])\n",
    "#staking it with page features\n",
    "X = np.hstack((X_pagename, X))\n",
    "\n",
    "#fitting a RF Regressor model with best parameters\n",
    "best_depth   = best_params['max_depth']\n",
    "best_split   = best_params['min_samples_split']\n",
    "dt_regressor = DecisionTreeRegressor(max_depth         = best_depth, \\\n",
    "                                     min_samples_split = best_split, \\\n",
    "                                     random_state=45)\n",
    "dt_regressor.fit(X, Y)\n",
    "\n",
    "#saving the model\n",
    "joblib.dump(dt_regressor, './ML_MODEL-decisiontree_regressor.sav')\n",
    "\n",
    "#adding prediction of last train column as history column\n",
    "history[train_last] = [ np.ceil(np.expm1(x)) for x in dt_regressor.predict(X) ]"
   ]
  },
  {
   "cell_type": "markdown",
   "metadata": {
    "colab_type": "text",
    "id": "6Q7pACeWAWY7"
   },
   "source": [
    "#### [1.4.3] Testing the model on CV data"
   ]
  },
  {
   "cell_type": "code",
   "execution_count": null,
   "metadata": {
    "colab": {
     "base_uri": "https://localhost:8080/",
     "height": 51
    },
    "colab_type": "code",
    "id": "i4eTtuwV8ANP",
    "outputId": "baec51b2-85e2-4262-ea83-8e0df883872c"
   },
   "outputs": [
    {
     "name": "stdout",
     "output_type": "stream",
     "text": [
      "SMAPE on TEST DATA :  46.87272271390723\n",
      "RMSE  on TEST DATA :  13554.727948613523\n"
     ]
    }
   ],
   "source": [
    "test_data = pd.DataFrame()\n",
    "test_cols = test.columns.tolist()[:-4]\n",
    "#print(history.shape)\n",
    "for test_index in range(len(test_cols)):\n",
    "    #print(history.shape)\n",
    "    X         = np.log1p(history.iloc[:,-best_window:])\n",
    "    X_lagged  = np.hstack((X_pagename_te, X))\n",
    "    predicted = [ np.ceil(np.expm1(x)) for x in dt_regressor.predict(X_lagged) ]\n",
    "    test_data[test_cols[test_index]] = predicted\n",
    "    history[test_cols[test_index]]   = predicted\n",
    "\n",
    "test_smape = np.mean(smoothed_smape(test.iloc[:,:-4], test_data))\n",
    "print(\"SMAPE on TEST DATA : \",test_smape)\n",
    "test_rmse  = np.mean(rmse(test.iloc[: ,:-4], test_data))\n",
    "print(\"RMSE  on TEST DATA : \",test_rmse)\n",
    "models['Decision Tree Regression'] = [best_window, test_smape, test_rmse]"
   ]
  },
  {
   "cell_type": "markdown",
   "metadata": {
    "colab_type": "text",
    "id": "Qezt_yvWAbPD"
   },
   "source": [
    "#### [1.4.4] SMAPE Performance : Actual vs. Forecasted values"
   ]
  },
  {
   "cell_type": "code",
   "execution_count": null,
   "metadata": {
    "colab": {
     "base_uri": "https://localhost:8080/",
     "height": 395
    },
    "colab_type": "code",
    "id": "QuYrQmXN8ANV",
    "outputId": "d5489866-d1e3-4659-dc4d-de6b67ff3344"
   },
   "outputs": [
    {
     "data": {
      "image/png": "[encoded data removed]",
      "text/plain": [
       "<Figure size 1080x360 with 1 Axes>"
      ]
     },
     "metadata": {
      "needs_background": "light",
      "tags": []
     },
     "output_type": "display_data"
    }
   ],
   "source": [
    "#plot for mean of actual test and predicted test\n",
    "plt.figure(figsize=(15, 5))\n",
    "plt.title('Test Mean PageViews : Actual vs. Predicted PageViews using DT Regression')\n",
    "actual_mean = test.iloc[:, :-4].mean(axis=0)\n",
    "pred_mean   = test_data.mean(axis=0)\n",
    "\n",
    "xtick_labels = [ x for x in enumerate(test_cols) if x[0]%5==0 ]\n",
    "xtick_loc    = [ x[0] for x in xtick_labels ]\n",
    "xtick_label  = [ x[1] for x in xtick_labels ]\n",
    "\n",
    "b1 = plt.plot(actual_mean, marker=\"o\")\n",
    "b2 = plt.plot(pred_mean, marker=\"*\")\n",
    "plt.xlabel('Time')\n",
    "plt.ylabel('Mean Page Views')\n",
    "plt.grid()\n",
    "plt.legend([b1[0], b2[0]], ['Actual', 'Predicted'])\n",
    "plt.xticks(xtick_loc, xtick_label, rotation=60)\n",
    "plt.show()  "
   ]
  },
  {
   "cell_type": "markdown",
   "metadata": {
    "colab_type": "text",
    "id": "YI39EzQiAgnX"
   },
   "source": [
    "#### [1.4.5] Testing model on Actual test data"
   ]
  },
  {
   "cell_type": "code",
   "execution_count": null,
   "metadata": {
    "colab": {},
    "colab_type": "code",
    "id": "JChgadHX8ANa"
   },
   "outputs": [],
   "source": [
    "#testing with actual data\n",
    "past_data_cols = complete_train.columns.tolist()[-best_window-4:]\n",
    "past_data_cols.insert(0, 'Page')\n",
    "\n",
    "past_data = complete_train[past_data_cols]\n",
    "#past_data.head()\n",
    "\n",
    "#getting date columns and non_date columns\n",
    "date_cols = [ x for x in past_data.columns.tolist() if '-' in x ]\n",
    "non_date  = [ x for x in past_data.columns.tolist() if x not in date_cols and x != 'Page' ]\n",
    "\n",
    "#separating the ata into series of PageViews and Site features\n",
    "pagename_X   = complete_train[non_date]\n",
    "timeseries_X = complete_train[date_cols]\n",
    "\n",
    "from sklearn.preprocessing import StandardScaler\n",
    "#standardize the Site features\n",
    "std_sclr      = StandardScaler()\n",
    "X_pagename    = std_sclr.fit_transform(pagename_X)"
   ]
  },
  {
   "cell_type": "code",
   "execution_count": null,
   "metadata": {
    "colab": {},
    "colab_type": "code",
    "id": "yD4-0XP68ANj"
   },
   "outputs": [],
   "source": [
    "#loading the saved model\n",
    "dt_reg = joblib.load('./ML_MODEL-decisiontree_regressor.sav')\n",
    "\n",
    "#running the prediction for test data\n",
    "model_test = pd.DataFrame()\n",
    "model_test['Page'] = complete_train.Page.values\n",
    "for test_index in range(len(test_days)):\n",
    "    X         = np.log1p(timeseries_X.iloc[:,-best_window:])\n",
    "    X_lagged  = np.hstack((X_pagename_te, X))\n",
    "    predicted = [ np.ceil(np.expm1(x)) for x in dt_reg.predict(X_lagged) ]\n",
    "    model_test[test_days[test_index]]   = predicted\n",
    "    timeseries_X[test_days[test_index]] = predicted"
   ]
  },
  {
   "cell_type": "code",
   "execution_count": null,
   "metadata": {
    "colab": {},
    "colab_type": "code",
    "id": "ds5sn6oD8APc"
   },
   "outputs": [],
   "source": [
    "f = open('Decision_Tree_Page_Count.csv', 'w')\n",
    "f.write('Page|Visits'+'\\n')\n",
    "for col in model_test.iloc[:,-62:].columns.tolist():\n",
    "  test_data = model_test[['Page',col]]\n",
    "  pageviews = [ str(int(x)) for x in test_data.iloc[:,-1] ]\n",
    "  pagename  = [ x+'_'+test_data.columns.tolist()[-1] for x in test_data.iloc[:,0] ]\n",
    "  page_view = list(zip(pagename,pageviews))\n",
    "  #writing it into file\n",
    "  for line in page_view:\n",
    "    n, c = line\n",
    "    f.write(n+'|'+c)\n",
    "    f.write('\\n')\n",
    "  [ f.write(n+','+c+'\\n') for (n, c) in page_view ]\n",
    "f.close()\n",
    "\n",
    "test_data_final = pd.read_csv('./Decision_Tree_Page_Count.csv', sep='|')\n",
    "\n",
    "#saving the final file\n",
    "page_key.merge(test_data_final, how='left', on='Page')[['Id', 'Visits']].fillna(0).to_csv('./Test_Data_Decision_Tree.csv', index=False)"
   ]
  },
  {
   "cell_type": "markdown",
   "metadata": {
    "colab_type": "text",
    "id": "5SP-ljpZE1pY"
   },
   "source": [
    "![image.png](data:image/png;base64,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)"
   ]
  },
  {
   "cell_type": "code",
   "execution_count": null,
   "metadata": {
    "colab": {},
    "colab_type": "code",
    "id": "4nsnL7EHGVLB"
   },
   "outputs": [],
   "source": [
    "models['Decision Tree Regression'].append('45.97623')"
   ]
  },
  {
   "cell_type": "markdown",
   "metadata": {
    "colab_type": "text",
    "id": "NyG-QkkQBvqe"
   },
   "source": [
    "## [1.5] AdaBoost Regressor"
   ]
  },
  {
   "cell_type": "code",
   "execution_count": null,
   "metadata": {
    "colab": {},
    "colab_type": "code",
    "id": "hvikzj8ABvqe",
    "outputId": "6a752a64-535b-45d5-d53b-ada0fd8520bd"
   },
   "outputs": [
    {
     "data": {
      "text/plain": [
       "<bound method BaseEstimator.get_params of DecisionTreeRegressor(ccp_alpha=0.0, criterion='mse', max_depth=9,\n",
       "                      max_features=None, max_leaf_nodes=None,\n",
       "                      min_impurity_decrease=0.0, min_impurity_split=None,\n",
       "                      min_samples_leaf=1, min_samples_split=5,\n",
       "                      min_weight_fraction_leaf=0.0, presort='deprecated',\n",
       "                      random_state=45, splitter='best')>"
      ]
     },
     "execution_count": 9,
     "metadata": {
      "tags": []
     },
     "output_type": "execute_result"
    }
   ],
   "source": [
    "Y = np.log1p(observed.values)\n",
    "estimator_list = [ 50, 100, 200, 500 ]\n",
    "lr_list        = [  1e-2, 1e-1, 1, 10, 100 ]\n",
    "\n",
    "param_dict = {'n_estimators':estimator_list, 'learning_rate':lr_list}\n",
    "\n",
    "best_decision_tree = joblib.load('./ML_MODEL-decisiontree_regressor.sav')\n",
    "best_decision_tree.get_params"
   ]
  },
  {
   "cell_type": "markdown",
   "metadata": {
    "colab_type": "text",
    "id": "GZt1aBEGBvqg"
   },
   "source": [
    "#### [1.5.1] Hyper-Parameter Tuning : Lagged Window"
   ]
  },
  {
   "cell_type": "code",
   "execution_count": null,
   "metadata": {
    "colab": {},
    "colab_type": "code",
    "id": "GX_zOpQHBvqh",
    "outputId": "60dceb64-3013-45c9-af4d-6b7f2f120a26"
   },
   "outputs": [
    {
     "name": "stdout",
     "output_type": "stream",
     "text": [
      "**** Running model for Lag Window 7\n",
      "**** Running model for Lag Window 30\n",
      "**** Running model for Lag Window 90\n",
      "**** Running model for Lag Window 365\n",
      "Best parameters found for : \n",
      "Lagged Window = 365, \n",
      "\n",
      "MIN SMAPE =31.71503990480388\n"
     ]
    }
   ],
   "source": [
    "error = list()\n",
    "for lag in lagged_window:\n",
    "    print(\"**** Running model for Lag Window %d\"%lag)\n",
    "    X = np.log1p(timeseries_X.iloc[:, -lag:])\n",
    "    X = np.hstack((X_pagename, X))\n",
    "    adaboost = AdaBoostRegressor(base_estimator=best_decision_tree, loss='square', \\\n",
    "                                 random_state=45)\n",
    "    #dt_regressor = DecisionTreeRegressor(max_features='sqrt', random_state=45)\n",
    "    model        = RandomizedSearchCV(adaboost, param_dict, \\\n",
    "                                      random_state=45, n_jobs=-1)\n",
    "    model.fit(X, Y)\n",
    "    best_param_dict = model.best_params_\n",
    "    #print(best_param_dict)\n",
    "    best_estimator = best_param_dict['n_estimators']\n",
    "    best_lr        = best_param_dict['learning_rate']\n",
    "    adaboost       = AdaBoostRegressor(base_estimator=best_decision_tree, \\\n",
    "                                       n_estimators=best_estimator, \\\n",
    "                                       learning_rate=best_lr, \\\n",
    "                                       loss='square', random_state=45)\n",
    "    adaboost.fit(X, Y)\n",
    "    model_predicted = adaboost.predict(X)\n",
    "    #calculating SMAPE and MAPE\n",
    "    train_smape     = smape(observed, np.ceil(np.expm1(model_predicted)))\n",
    "    #train_mape      = mape(Y, model_predicted)\n",
    "    error.append([train_smape, best_param_dict])\n",
    "index = np.argmin([x[0] for x in error])\n",
    "best_window = lagged_window[index]\n",
    "best_params = error[index][1]\n",
    "best_smape = error[index][0]\n",
    "\n",
    "print(\"Best parameters found for : \\nLagged Window = {0}, \\n\\nMIN SMAPE ={1}\"\\\n",
    "      .format(best_window, best_smape))"
   ]
  },
  {
   "cell_type": "markdown",
   "metadata": {
    "colab_type": "text",
    "id": "9pqqpkVnBvqj"
   },
   "source": [
    "#### [1.5.2] Model Re-Fitting : with Best lagged window"
   ]
  },
  {
   "cell_type": "code",
   "execution_count": null,
   "metadata": {
    "colab": {},
    "colab_type": "code",
    "id": "3NSKV5LPBvqj"
   },
   "outputs": [],
   "source": [
    "#keeping an history values for future prediction\n",
    "history = timeseries_X.iloc[:,-best_window:]\n",
    "\n",
    "#preparing data for test run\n",
    "X = np.log1p(history.iloc[:, -best_window:])\n",
    "#staking it with page features\n",
    "X = np.hstack((X_pagename, X))\n",
    "\n",
    "#fitting a RF Regressor model with best parameters\n",
    "best_estimators = best_params['n_estimators']\n",
    "best_lr         = best_params['learning_rate']\n",
    "\n",
    "adaboost       = AdaBoostRegressor(base_estimator = best_decision_tree, \\\n",
    "                                    n_estimators  = best_estimators, \\\n",
    "                                    learning_rate = best_lr, \\\n",
    "                                    loss='square', random_state=45) \n",
    "adaboost.fit(X, Y)\n",
    "\n",
    "#saving the model\n",
    "joblib.dump(adaboost, './ML_MODEL-adaboost_regressor.sav')\n",
    "\n",
    "#adding prediction of last train column as history column\n",
    "history[train_last] = [ np.ceil(np.expm1(x)) for x in adaboost.predict(X) ]"
   ]
  },
  {
   "cell_type": "markdown",
   "metadata": {
    "colab_type": "text",
    "id": "ofv7TttMBvqn"
   },
   "source": [
    "#### [1.5.3] CV Data Analysis"
   ]
  },
  {
   "cell_type": "code",
   "execution_count": null,
   "metadata": {
    "colab": {},
    "colab_type": "code",
    "id": "5SdQgDOEBvqn",
    "outputId": "c628db5e-1b12-4ed9-b5b0-9459539e7168"
   },
   "outputs": [
    {
     "name": "stdout",
     "output_type": "stream",
     "text": [
      "SMAPE on TEST DATA :  47.007245748502946\n",
      "RMSE  on TEST DATA :  11182.370992502747\n"
     ]
    }
   ],
   "source": [
    "test_data = pd.DataFrame()\n",
    "test_cols = test.columns.tolist()[:-4]\n",
    "#print(history.shape)\n",
    "for test_index in range(len(test_cols)):\n",
    "    #print(history.shape)\n",
    "    X         = np.log1p(history.iloc[:,-best_window:])\n",
    "    X_lagged  = np.hstack((X_pagename_te, X))\n",
    "    predicted = [ np.ceil(np.expm1(x)) for x in adaboost.predict(X_lagged) ]\n",
    "    test_data[test_cols[test_index]] = predicted\n",
    "    history[test_cols[test_index]]   = predicted\n",
    "\n",
    "test_smape = np.mean(smoothed_smape(test.iloc[:,:-4], test_data))\n",
    "print(\"SMAPE on TEST DATA : \",test_smape)\n",
    "test_rmse  = np.mean(rmse(test.iloc[: ,:-4], test_data))\n",
    "print(\"RMSE  on TEST DATA : \",test_rmse)\n",
    "models['AdaBoost Regression'] = [best_window, test_smape, test_rmse]"
   ]
  },
  {
   "cell_type": "markdown",
   "metadata": {
    "colab_type": "text",
    "id": "skagpcrzBvqq"
   },
   "source": [
    "#### [1.5.4] Model Performance : SMAPE on Actual vs. Forecasted values"
   ]
  },
  {
   "cell_type": "code",
   "execution_count": null,
   "metadata": {
    "colab": {},
    "colab_type": "code",
    "id": "3fzWPDa4Bvqq",
    "outputId": "935ca242-a83a-4769-fc37-8d45ea6839e7"
   },
   "outputs": [
    {
     "data": {
      "image/png": "[encoded data removed]",
      "text/plain": [
       "<Figure size 1080x360 with 1 Axes>"
      ]
     },
     "metadata": {
      "needs_background": "light",
      "tags": []
     },
     "output_type": "display_data"
    }
   ],
   "source": [
    "#plot for mean of actual test and predicted test\n",
    "plt.figure(figsize=(15, 5))\n",
    "plt.title('Test Mean PageViews : Actual vs. Predicted PageViews using AdaBoost Regression')\n",
    "actual_mean = test.iloc[:, :-4].mean(axis=0)\n",
    "pred_mean   = test_data.mean(axis=0)\n",
    "\n",
    "xtick_labels = [ x for x in enumerate(test_cols) if x[0]%5==0 ]\n",
    "xtick_loc    = [ x[0] for x in xtick_labels ]\n",
    "xtick_label  = [ x[1] for x in xtick_labels ]\n",
    "\n",
    "b1 = plt.plot(actual_mean, marker=\"o\")\n",
    "b2 = plt.plot(pred_mean, marker=\"*\")\n",
    "plt.xlabel('Time')\n",
    "plt.ylabel('Mean Page Views')\n",
    "plt.grid()\n",
    "plt.legend([b1[0], b2[0]], ['Actual', 'Predicted'])\n",
    "plt.xticks(xtick_loc, xtick_label, rotation=60)\n",
    "plt.show()"
   ]
  },
  {
   "cell_type": "markdown",
   "metadata": {
    "colab_type": "text",
    "id": "ziyN_tQtBvqs"
   },
   "source": [
    "#### [1.5.5] Test Data Analysis "
   ]
  },
  {
   "cell_type": "code",
   "execution_count": 12,
   "metadata": {
    "colab": {},
    "colab_type": "code",
    "id": "yY39de0MBvqt"
   },
   "outputs": [],
   "source": [
    "best_window = 365\n",
    "#testing with actual data\n",
    "past_data_cols = complete_train.columns.tolist()[-best_window-4:]\n",
    "past_data_cols.insert(0, 'Page')\n",
    "\n",
    "past_data = complete_train[past_data_cols]\n",
    "#past_data.head()\n",
    "\n",
    "#getting date columns and non_date columns\n",
    "date_cols = [ x for x in past_data.columns.tolist() if '-' in x ]\n",
    "non_date  = [ x for x in past_data.columns.tolist() if x not in date_cols and x != 'Page' ]\n",
    "\n",
    "#separating the ata into series of PageViews and Site features\n",
    "pagename_X   = complete_train[non_date]\n",
    "timeseries_X = complete_train[date_cols]\n",
    "\n",
    "from sklearn.preprocessing import StandardScaler\n",
    "#standardize the Site features\n",
    "std_sclr      = StandardScaler()\n",
    "X_pagename    = std_sclr.fit_transform(pagename_X)"
   ]
  },
  {
   "cell_type": "code",
   "execution_count": 13,
   "metadata": {
    "colab": {},
    "colab_type": "code",
    "id": "PpoP2IT9Bvqw"
   },
   "outputs": [],
   "source": [
    "#loading the saved model\n",
    "adaboost = joblib.load('./ML_MODEL-adaboost_regressor.sav')\n",
    "\n",
    "#running the prediction for test data\n",
    "model_test = pd.DataFrame()\n",
    "model_test['Page'] = complete_train.Page.values\n",
    "for test_index in range(len(test_days)):\n",
    "    X         = np.log1p(timeseries_X.iloc[:,-best_window:])\n",
    "    X_lagged  = np.hstack((X_pagename_te, X))\n",
    "    predicted = [ np.ceil(np.expm1(x)) for x in adaboost.predict(X_lagged) ]\n",
    "    model_test[test_days[test_index]]   = predicted\n",
    "    timeseries_X[test_days[test_index]] = predicted"
   ]
  },
  {
   "cell_type": "code",
   "execution_count": 15,
   "metadata": {
    "colab": {},
    "colab_type": "code",
    "id": "Wc1qavSVBvq0"
   },
   "outputs": [],
   "source": [
    "f = open('AdaBoost_Page_Count.csv', 'w')\n",
    "f.write('Page|Visits'+'\\n')\n",
    "for col in model_test.iloc[:,-62:].columns.tolist():\n",
    "  test_data = model_test[['Page',col]]\n",
    "  pageviews = [ str(int(x)) for x in test_data.iloc[:,-1] ]\n",
    "  pagename  = [ x+'_'+test_data.columns.tolist()[-1] for x in test_data.iloc[:,0] ]\n",
    "  page_view = list(zip(pagename,pageviews))\n",
    "  #writing it into file\n",
    "  for line in page_view:\n",
    "    n, c = line\n",
    "    f.write(n+'|'+c)\n",
    "    f.write('\\n')\n",
    "f.close()\n",
    "\n",
    "test_data_final = pd.read_csv('./AdaBoost_Page_Count.csv', sep='|')\n",
    "\n",
    "#saving the final file\n",
    "page_key.merge(test_data_final, how='left', on='Page')[['Id', 'Visits']].fillna(0).to_csv('./Test_Data_AdaBoostRegression.csv', index=False)\n",
    "del test_data_final"
   ]
  },
  {
   "cell_type": "markdown",
   "metadata": {
    "colab_type": "text",
    "id": "CgBAFdH3Bvq2"
   },
   "source": [
    "![image.png](data:image/png;base64,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)"
   ]
  },
  {
   "cell_type": "code",
   "execution_count": null,
   "metadata": {
    "colab": {},
    "colab_type": "code",
    "id": "foZXa766Bvq2"
   },
   "outputs": [],
   "source": [
    "models['AdaBoost Regression'].append('46.22094')"
   ]
  },
  {
   "cell_type": "markdown",
   "metadata": {
    "colab_type": "text",
    "id": "l_GXYy8jJO8v"
   },
   "source": [
    "## [1.6] Random Forest Regressor"
   ]
  },
  {
   "cell_type": "code",
   "execution_count": null,
   "metadata": {
    "colab": {},
    "colab_type": "code",
    "id": "Rk2Z_OjAJWS7"
   },
   "outputs": [],
   "source": [
    "#class label for Y\n",
    "Y = np.log1p(observed.values)\n",
    "\n",
    "slw_xgboost = [ 7, 30, 90, 365 ]\n",
    "\n",
    "estimator_list     = [ 100, 300, 500 ]\n",
    "depth_list         = [ 3, 5, 7, 9, 11 ]\n",
    "samples_split_list = [ 2, 3, 5 ]\n",
    "\n",
    "param_dict = { 'n_estimators':estimator_list, 'max_depth':depth_list, \\\n",
    "              'min_samples_split':samples_split_list }"
   ]
  },
  {
   "cell_type": "markdown",
   "metadata": {
    "colab_type": "text",
    "id": "wbMKsEMTlfcq"
   },
   "source": [
    "#### [1.6.1] Hyper-Parameter Tuning : Lagged Window"
   ]
  },
  {
   "cell_type": "code",
   "execution_count": null,
   "metadata": {
    "colab": {
     "base_uri": "https://localhost:8080/",
     "height": 187
    },
    "colab_type": "code",
    "id": "mS2pv0__Ztzq",
    "outputId": "22c038cb-209c-4799-e30f-f6d780ceb91b"
   },
   "outputs": [
    {
     "name": "stdout",
     "output_type": "stream",
     "text": [
      "\n",
      "**** Running model for Lag Window 7\n",
      "**** Running model for Lag Window 30\n",
      "**** Running model for Lag Window 90\n",
      "**** Running model for Lag Window 365\n",
      "Best parameters found for : \n",
      "Lagged Window = 90, \n",
      "\n",
      "MIN SMAPE =31.377692884198005\n",
      "\n"
     ]
    }
   ],
   "source": [
    "warnings.filterwarnings('ignore')\n",
    "error = list()\n",
    "for lag in lagged_window:\n",
    "    print(\"**** Running model for Lag Window %d\"%lag)\n",
    "    X = np.log1p(timeseries_X.iloc[:, -lag:])\n",
    "    X = np.hstack((X_pagename, X))\n",
    "    randomforest = RandomForestRegressor(n_jobs=-1, random_state=45)\n",
    "    model = RandomizedSearchCV(randomforest, param_dict, \\\n",
    "                               random_state=45, n_jobs=-1)\n",
    "    model.fit(X, Y)\n",
    "    best_param_dict = model.best_params_\n",
    "    #print(best_param_dict)\n",
    "    #fitting model again on best parameters for that window\n",
    "    best_estimator = best_param_dict['n_estimators']\n",
    "    best_depth     = best_param_dict['max_depth']\n",
    "    best_split     = best_param_dict['min_samples_split']\n",
    "    randomforest   = RandomForestRegressor(n_estimators = best_estimator, \\\n",
    "                                           max_depth = best_depth, \\\n",
    "                                           min_samples_split = best_split, \\\n",
    "                                           n_jobs=-1, random_state=45)\n",
    "    randomforest.fit(X, Y)\n",
    "    model_predicted = randomforest.predict(X)\n",
    "    #calculating SMAPE and MAPE\n",
    "    train_smape = smoothed_smape(observed, np.ceil(np.expm1(model_predicted)))\n",
    "    #train_mape  = mape(Y, model_predicted)\n",
    "    error.append([train_smape, best_param_dict])\n",
    "\n",
    "#getting the best values\n",
    "index       = np.argmin([x[0] for x in error])\n",
    "best_window = lagged_window[index]\n",
    "best_params = error[index][1]\n",
    "best_smape  = error[index][0]\n",
    "\n",
    "print(\"\\n\\nBest parameters found for : \\nLagged Window = {0}, \\n\\nMIN SMAPE ={1}\"\\\n",
    "      .format(best_window, best_smape))"
   ]
  },
  {
   "cell_type": "markdown",
   "metadata": {
    "colab_type": "text",
    "id": "-SJG4zRUlbgY"
   },
   "source": [
    "#### [1.6.2] Model Re-Fitting : with Best lagged window"
   ]
  },
  {
   "cell_type": "code",
   "execution_count": null,
   "metadata": {
    "colab": {},
    "colab_type": "code",
    "id": "MWtJa38wJWwC"
   },
   "outputs": [],
   "source": [
    "best_window = 90\n",
    "best_params = {'n_estimators':300, 'min_samples_split':2, 'max_depth' : 9}\n",
    "Y = np.log1p(observed.values)\n",
    "#keeping an history values for future prediction\n",
    "history = timeseries_X.iloc[:,-best_window:]\n",
    "\n",
    "#preparing data for test run\n",
    "X = np.log1p(history.iloc[:, -best_window:])\n",
    "#staking it with page features\n",
    "X = np.hstack((X_pagename, X))\n",
    "\n",
    "best_estimator = best_params['n_estimators']\n",
    "best_depth     = best_params['max_depth']\n",
    "best_split     = best_params['min_samples_split']\n",
    "\n",
    "randomforest = RandomForestRegressor(n_estimators = best_estimator, \\\n",
    "                                     max_depth = best_depth, \\\n",
    "                                     min_samples_split = best_split, \\\n",
    "                                     n_jobs=-1, random_state=45)\n",
    "randomforest.fit(X, Y)\n",
    "#saving the best fit mode\n",
    "import joblib\n",
    "joblib.dump(randomforest, './ML_MODEL-randomforest_regression.sav')\n",
    "\n",
    "#adding prediction of last train column as history column\n",
    "history[train_last] = [ np.ceil(np.expm1(x)) for x in randomforest.predict(X) ]"
   ]
  },
  {
   "cell_type": "markdown",
   "metadata": {
    "colab_type": "text",
    "id": "xEKSgT4BlQxa"
   },
   "source": [
    "#### [1.6.3] CV Data Analysis"
   ]
  },
  {
   "cell_type": "code",
   "execution_count": null,
   "metadata": {
    "colab": {
     "base_uri": "https://localhost:8080/",
     "height": 51
    },
    "colab_type": "code",
    "id": "foxvHPjuJWzg",
    "outputId": "e0a9b7e6-a21d-4afe-e2c1-a488f741abb8"
   },
   "outputs": [
    {
     "name": "stdout",
     "output_type": "stream",
     "text": [
      "SMAPE on TEST DATA :  45.833274877164875\n",
      "RMSE  on TEST DATA :  18395.072940934155\n"
     ]
    }
   ],
   "source": [
    "randomforest = joblib.load('./ML_MODEL-randomforest_regression.sav')\n",
    "test_data = pd.DataFrame()\n",
    "test_cols = test.columns.tolist()[:-4]\n",
    "#print(history.shape)\n",
    "for test_index in range(len(test_cols)):\n",
    "    #print(history.shape)\n",
    "    X         = np.log1p(history.iloc[:,-best_window:])\n",
    "    X_lagged  = np.hstack((X_pagename_te, X))\n",
    "    predicted = [ np.ceil(np.expm1(x)) for x in randomforest.predict(X_lagged) ]\n",
    "    test_data[test_cols[test_index]] = predicted\n",
    "    history[test_cols[test_index]]   = predicted\n",
    "\n",
    "test_smape = np.mean(smoothed_smape(test.iloc[:,:-4], test_data))\n",
    "print(\"SMAPE on TEST DATA : \",test_smape)\n",
    "test_rmse  = np.mean(rmse(test.iloc[: ,:-4], test_data))\n",
    "print(\"RMSE  on TEST DATA : \",test_rmse)\n",
    "models['RandomForest Regression'] = [best_window, test_smape, test_rmse]"
   ]
  },
  {
   "cell_type": "markdown",
   "metadata": {
    "colab_type": "text",
    "id": "rNRYfQgbVYz6"
   },
   "source": [
    "#### [1.6.4] Model Performance : SMAPE on Actual vs. Forecasted values"
   ]
  },
  {
   "cell_type": "code",
   "execution_count": null,
   "metadata": {
    "colab": {
     "base_uri": "https://localhost:8080/",
     "height": 395
    },
    "colab_type": "code",
    "id": "Xq6msuyVJWoY",
    "outputId": "bf34c259-5381-4f6a-b826-4083170606da"
   },
   "outputs": [
    {
     "data": {
      "image/png": "[encoded data removed]",
      "text/plain": [
       "<Figure size 1080x360 with 1 Axes>"
      ]
     },
     "metadata": {
      "needs_background": "light",
      "tags": []
     },
     "output_type": "display_data"
    }
   ],
   "source": [
    "#plot for mean of actual test and predicted test\n",
    "plt.figure(figsize=(15, 5))\n",
    "plt.title('Test Mean PageViews : Actual vs. Predicted PageViews using RandomForest Regression')\n",
    "actual_mean = test.iloc[:, :-4].mean(axis=0)\n",
    "pred_mean   = test_data.mean(axis=0)\n",
    "\n",
    "xtick_labels = [ x for x in enumerate(test_cols) if x[0]%5==0 ]\n",
    "xtick_loc    = [ x[0] for x in xtick_labels ]\n",
    "xtick_label  = [ x[1] for x in xtick_labels ]\n",
    "\n",
    "b1 = plt.plot(actual_mean, marker=\"o\")\n",
    "b2 = plt.plot(pred_mean, marker=\"*\")\n",
    "plt.xlabel('Time')\n",
    "plt.ylabel('Mean Page Views')\n",
    "plt.grid()\n",
    "plt.legend([b1[0], b2[0]], ['Actual', 'Predicted'])\n",
    "plt.xticks(xtick_loc, xtick_label, rotation=60)\n",
    "plt.show()  "
   ]
  },
  {
   "cell_type": "markdown",
   "metadata": {
    "colab_type": "text",
    "id": "sljfFd-QVU6U"
   },
   "source": [
    "#### [1.6.5] Test Data Analysis "
   ]
  },
  {
   "cell_type": "code",
   "execution_count": null,
   "metadata": {
    "colab": {},
    "colab_type": "code",
    "id": "BvC_XLjvJWca"
   },
   "outputs": [],
   "source": [
    "best_window = 90\n",
    "#testing with actual data\n",
    "past_data_cols = complete_train.columns.tolist()[-best_window-4:]\n",
    "past_data_cols.insert(0, 'Page')\n",
    "\n",
    "past_data = complete_train[past_data_cols]\n",
    "#past_data.head()\n",
    "\n",
    "#getting date columns and non_date columns\n",
    "date_cols = [ x for x in past_data.columns.tolist() if '-' in x ]\n",
    "non_date  = [ x for x in past_data.columns.tolist() if x not in date_cols and x != 'Page' ]\n",
    "\n",
    "#separating the ata into series of PageViews and Site features\n",
    "pagename_X   = complete_train[non_date]\n",
    "timeseries_X = complete_train[date_cols]\n",
    "\n",
    "from sklearn.preprocessing import StandardScaler\n",
    "#standardize the Site features\n",
    "std_sclr      = StandardScaler()\n",
    "X_pagename    = std_sclr.fit_transform(pagename_X)"
   ]
  },
  {
   "cell_type": "code",
   "execution_count": null,
   "metadata": {
    "colab": {},
    "colab_type": "code",
    "id": "UOvQ3xLsTrLH"
   },
   "outputs": [],
   "source": [
    "#loading the saved model\n",
    "randomforest = joblib.load('./ML_MODEL-randomforest_regression.sav')\n",
    "\n",
    "#running the prediction for test data\n",
    "model_test = pd.DataFrame()\n",
    "model_test['Page'] = complete_train.Page.values\n",
    "for test_index in range(len(test_days)):\n",
    "    X         = np.log1p(timeseries_X.iloc[:,-best_window:])\n",
    "    X_lagged  = np.hstack((X_pagename_te, X))\n",
    "    predicted = [ np.ceil(np.expm1(x)) for x in randomforest.predict(X_lagged) ]\n",
    "    model_test[test_days[test_index]]   = predicted\n",
    "    timeseries_X[test_days[test_index]] = predicted"
   ]
  },
  {
   "cell_type": "code",
   "execution_count": null,
   "metadata": {
    "colab": {},
    "colab_type": "code",
    "id": "Oh-FB3NgJWZZ"
   },
   "outputs": [],
   "source": [
    "f = open('RandomForest_Page_Count.csv', 'w')\n",
    "f.write('Page|Visits'+'\\n')\n",
    "for col in model_test.iloc[:,-62:].columns.tolist():\n",
    "  test_data = model_test[['Page',col]]\n",
    "  pageviews = [ str(int(x)) for x in test_data.iloc[:,-1] ]\n",
    "  pagename  = [ x+'_'+test_data.columns.tolist()[-1] for x in test_data.iloc[:,0] ]\n",
    "  page_view = list(zip(pagename,pageviews))\n",
    "  #writing it into file\n",
    "  for line in page_view:\n",
    "    n, c = line\n",
    "    f.write(n+'|'+c)\n",
    "    f.write('\\n')\n",
    "f.close()\n",
    "\n",
    "test_data_final = pd.read_csv('./RandomForest_Page_Count.csv', sep='|')\n",
    "\n",
    "#saving the final file\n",
    "page_key.merge(test_data_final, how='left', on='Page')[['Id', 'Visits']].fillna(0).to_csv('./Test_Data_RFRegression.csv', index=False)"
   ]
  },
  {
   "cell_type": "markdown",
   "metadata": {
    "colab_type": "text",
    "id": "tOmosZFVTLrk"
   },
   "source": [
    "![image.png](data:image/png;base64,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)"
   ]
  },
  {
   "cell_type": "code",
   "execution_count": null,
   "metadata": {
    "colab": {},
    "colab_type": "code",
    "id": "5fL9xdu4JWI8"
   },
   "outputs": [],
   "source": [
    "models['RandomForest Regression'].append('44.78047')"
   ]
  },
  {
   "cell_type": "markdown",
   "metadata": {
    "colab_type": "text",
    "id": "WcMdN47h8AWv"
   },
   "source": [
    "## [1.7] XGBoost Regressor"
   ]
  },
  {
   "cell_type": "markdown",
   "metadata": {
    "colab_type": "text",
    "id": "UI9bGQFo8AWv"
   },
   "source": [
    "<p><li>Tree based Ensample can be used to predict the model</li></p>"
   ]
  },
  {
   "cell_type": "markdown",
   "metadata": {
    "colab_type": "text",
    "id": "IVgCtCuJBjk3"
   },
   "source": [
    "#### [1.7.1] Hyper-Parameter Tuning : Lagged Window"
   ]
  },
  {
   "cell_type": "code",
   "execution_count": null,
   "metadata": {
    "colab": {},
    "colab_type": "code",
    "id": "vOD-098a8AWw"
   },
   "outputs": [],
   "source": [
    "#class label for Y\n",
    "Y = np.log1p(observed.values)\n",
    "\n",
    "slw_xgboost = [ 7, 30, 90, 365 ]\n",
    "\n",
    "estimator_list  = [ 100, 300, 500, 1000 ]\n",
    "max_depth_list  = [ 3, 5, 7 ]\n",
    "lr_list         = [ 0.001, 0.01, 0.1 ]\n",
    "cs_list         = [ 0.4, 0.6, 0.8 ]\n",
    "\n",
    "xgb_param_dict = {'n_estimators':estimator_list, 'max_depth':max_depth_list, \\\n",
    "                  'learning_rate':lr_list, 'colsample_bytree':cs_list}"
   ]
  },
  {
   "cell_type": "code",
   "execution_count": null,
   "metadata": {
    "colab": {},
    "colab_type": "code",
    "id": "xy5Hu_h18AW2",
    "outputId": "61371df9-30e4-45fc-f3e8-ced26220a4aa",
    "scrolled": true
   },
   "outputs": [
    {
     "name": "stdout",
     "output_type": "stream",
     "text": [
      "**** Running model for Lag Window 7\n",
      "**** Running model for Lag Window 30\n",
      "**** Running model for Lag Window 90\n",
      "**** Running model for Lag Window 365\n",
      "\n",
      "\n",
      "Best parameters found for : \n",
      "Lagged Window = 365, \n",
      "\n",
      "MIN SMAPE =27.19330372386823\n"
     ]
    }
   ],
   "source": [
    "warnings.filterwarnings('ignore')\n",
    "error = list()\n",
    "for lag in slw_xgboost:\n",
    "    print(\"**** Running model for Lag Window %d\"%lag)\n",
    "    X = np.log1p(timeseries_X.iloc[:, -lag:])\n",
    "    X = np.hstack((X_pagename, X))\n",
    "    xgboost = xgb.XGBRegressor(objective='reg:squarederror', \\\n",
    "                               n_jobs=-1, random_state=45)\n",
    "    model   = RandomizedSearchCV(xgboost, xgb_param_dict, \\\n",
    "                                 random_state=45, verbose=0, n_jobs=-1)\n",
    "    model.fit(X, Y)\n",
    "    best_param_dict = model.best_params_\n",
    "    #print(best_param_dict)\n",
    "    \n",
    "    #fitting model again on best parameters for that window\n",
    "    best_estimator = best_param_dict['n_estimators']\n",
    "    best_depth     = best_param_dict['max_depth']\n",
    "    best_lr        = best_param_dict['learning_rate']\n",
    "    best_cs        = best_param_dict['colsample_bytree']\n",
    "    xgboost        = xgb.XGBRegressor(objective        = 'reg:squarederror', \\\n",
    "                                      n_estimators     = best_estimator, \\\n",
    "                                      max_depth        = best_depth, \\\n",
    "                                      learning_rate    = best_lr, \\\n",
    "                                      colsample_bytree = best_cs, \\\n",
    "                                      n_jobs=-1, random_state=45)\n",
    "    xgboost.fit(X, Y)\n",
    "    model_predicted = xgboost.predict(X)\n",
    "    \n",
    "    #calculating SMAPE and MAPE\n",
    "    train_smape = smoothed_smape(observed, np.ceil(np.expm1(model_predicted)))\n",
    "    train_mape  = mape(Y, model_predicted)\n",
    "    error.append([train_smape, best_param_dict])\n",
    "\n",
    "#getting the best values\n",
    "index       = np.argmin([x[0] for x in error])\n",
    "best_window = slw_xgboost[index]\n",
    "best_params = error[index][1]\n",
    "best_smape  = error[index][0]\n",
    "\n",
    "print(\"\\n\\nBest parameters found for : \\nLagged Window = {0}, \\n\\nMIN SMAPE ={1}\"\\\n",
    "      .format(best_window, best_smape))"
   ]
  },
  {
   "cell_type": "markdown",
   "metadata": {
    "colab_type": "text",
    "id": "x_EamV_E8AW-"
   },
   "source": [
    "<p>\n",
    "    With the Hyper-parameter Tuning of the model, we found :\n",
    "    <li>Best Window of <b>365 days</b></li>\n",
    "</p>"
   ]
  },
  {
   "cell_type": "markdown",
   "metadata": {
    "colab_type": "text",
    "id": "20pfBFj9BsDT"
   },
   "source": [
    "#### [1.7.2] Model Re-Fitting : with Best lagged window"
   ]
  },
  {
   "cell_type": "code",
   "execution_count": null,
   "metadata": {
    "colab": {},
    "colab_type": "code",
    "id": "Z1YGfQqB8AXA"
   },
   "outputs": [],
   "source": [
    "#keeping an history values for future prediction\n",
    "history = timeseries_X.iloc[:,-best_window:]\n",
    "\n",
    "#preparing data for test run\n",
    "X = np.log1p(history.iloc[:, -best_window:])\n",
    "#staking it with page features\n",
    "X = np.hstack((X_pagename, X))\n",
    "\n",
    "xgboost        = xgb.XGBRegressor(objective        = 'reg:squarederror', \\\n",
    "                                  n_estimators     = best_params['n_estimators'], \\\n",
    "                                  max_depth        = best_params['max_depth'], \\\n",
    "                                  learning_rate    = best_params['learning_rate'], \\\n",
    "                                  colsample_bytree = best_params['colsample_bytree'], \\\n",
    "                                  n_jobs=-1, random_state=45)\n",
    "xgboost.fit(X, Y)\n",
    "#saving the best fit mode\n",
    "joblib.dump(xgboost, './ML_MODEL-xgboost_regressor.sav')\n",
    "\n",
    "#adding prediction of last train column as history column\n",
    "history[train_last] = [ np.ceil(np.expm1(x)) for x in xgboost.predict(X) ]"
   ]
  },
  {
   "cell_type": "markdown",
   "metadata": {
    "colab_type": "text",
    "id": "qubpIDb7Cqqa"
   },
   "source": [
    "#### [1.7.3] CV Data Analysis"
   ]
  },
  {
   "cell_type": "code",
   "execution_count": null,
   "metadata": {
    "colab": {},
    "colab_type": "code",
    "id": "Q1FEU7OJ8AXH",
    "outputId": "5b8ca779-c23f-4ee4-9821-13702f72148c"
   },
   "outputs": [
    {
     "name": "stdout",
     "output_type": "stream",
     "text": [
      "SMAPE on TEST DATA :  46.629618056475344\n",
      "RMSE  on TEST DATA :  1057967.7649643465\n"
     ]
    }
   ],
   "source": [
    "test_data = pd.DataFrame()\n",
    "test_cols = test.columns.tolist()[:-4]\n",
    "#print(history.shape)\n",
    "for test_index in range(len(test_cols)):\n",
    "    #print(history.shape)\n",
    "    X         = np.log1p(history.iloc[:,-best_window:])\n",
    "    X_lagged  = np.hstack((X_pagename_te, X))\n",
    "    predicted = [ np.ceil(np.expm1(x)) for x in xgboost.predict(X_lagged) ]\n",
    "    test_data[test_cols[test_index]] = predicted\n",
    "    history[test_cols[test_index]]   = predicted\n",
    "\n",
    "test_smape = np.mean(smoothed_smape(test.iloc[:,:-4], test_data))\n",
    "print(\"SMAPE on TEST DATA : \",test_smape)\n",
    "test_rmse  = np.mean(rmse(test.iloc[: ,:-4], test_data))\n",
    "print(\"RMSE  on TEST DATA : \",test_rmse)\n",
    "models['XGBoost Regression'] = [best_window, test_smape, test_rmse]"
   ]
  },
  {
   "cell_type": "markdown",
   "metadata": {
    "colab_type": "text",
    "id": "_fLiJMgDC-7e"
   },
   "source": [
    "#### [1.7.4] Model Performance : SMAPE on Actual vs. Forecasted values"
   ]
  },
  {
   "cell_type": "code",
   "execution_count": null,
   "metadata": {
    "colab": {},
    "colab_type": "code",
    "id": "hhVqI91E8AZE",
    "outputId": "4bbd5329-b769-41f7-da50-62264e4adf8b",
    "scrolled": false
   },
   "outputs": [
    {
     "data": {
      "image/png": "[encoded data removed]",
      "text/plain": [
       "<Figure size 1080x360 with 1 Axes>"
      ]
     },
     "metadata": {
      "needs_background": "light",
      "tags": []
     },
     "output_type": "display_data"
    }
   ],
   "source": [
    "#plot for mean of actual test and predicted test\n",
    "plt.figure(figsize=(15, 5))\n",
    "plt.title('Test Mean PageViews : Actual vs. Predicted PageViews using XGBoost Regression')\n",
    "actual_mean = test.iloc[:, :-4].mean(axis=0)\n",
    "pred_mean   = test_data.mean(axis=0)\n",
    "\n",
    "xtick_labels = [ x for x in enumerate(test_cols) if x[0]%5==0 ]\n",
    "xtick_loc    = [ x[0] for x in xtick_labels ]\n",
    "xtick_label  = [ x[1] for x in xtick_labels ]\n",
    "\n",
    "b1 = plt.plot(actual_mean, marker=\"o\")\n",
    "b2 = plt.plot(pred_mean, marker=\"*\")\n",
    "plt.xlabel('Time')\n",
    "plt.ylabel('Mean Page Views')\n",
    "plt.grid()\n",
    "plt.legend([b1[0], b2[0]], ['Actual', 'Predicted'])\n",
    "plt.xticks(xtick_loc, xtick_label, rotation=60)\n",
    "plt.show()  "
   ]
  },
  {
   "cell_type": "markdown",
   "metadata": {
    "colab_type": "text",
    "id": "rwTTJyif8AZd"
   },
   "source": [
    "<p><li>Comparing Mean Page Views of Actual vs. Forecasted Mean shows, XGBoost model tend to Forecast too high when there is sharp rise in actual values. It fits non-linearly to the given data.</li></p>\n",
    "<p><li>We can see, model overfits to the given test data and hence the SMAPE is high compared to thet of Linear Regression</li></p>"
   ]
  },
  {
   "cell_type": "markdown",
   "metadata": {
    "colab_type": "text",
    "id": "RaN_PN-BDJNK"
   },
   "source": [
    "#### [1.7.5] Test Data Analysis "
   ]
  },
  {
   "cell_type": "code",
   "execution_count": null,
   "metadata": {
    "colab": {},
    "colab_type": "code",
    "id": "iRK7BlL6DMzp"
   },
   "outputs": [],
   "source": [
    "#testing with actual data\n",
    "past_data_cols = complete_train.columns.tolist()[-best_window-4:]\n",
    "past_data_cols.insert(0, 'Page')\n",
    "\n",
    "past_data = complete_train[past_data_cols]\n",
    "#past_data.head()\n",
    "\n",
    "#getting date columns and non_date columns\n",
    "date_cols = [ x for x in past_data.columns.tolist() if '-' in x ]\n",
    "non_date  = [ x for x in past_data.columns.tolist() if x not in date_cols and x != 'Page' ]\n",
    "\n",
    "#separating the ata into series of PageViews and Site features\n",
    "pagename_X   = complete_train[non_date]\n",
    "timeseries_X = complete_train[date_cols]\n",
    "\n",
    "from sklearn.preprocessing import StandardScaler\n",
    "#standardize the Site features\n",
    "std_sclr      = StandardScaler()\n",
    "X_pagename    = std_sclr.fit_transform(pagename_X)"
   ]
  },
  {
   "cell_type": "code",
   "execution_count": null,
   "metadata": {
    "colab": {},
    "colab_type": "code",
    "id": "GqUbxlmKDIqA"
   },
   "outputs": [],
   "source": [
    "#loading the saved model\n",
    "xgb = joblib.load('./ML_MODEL-xgboost_regressor.sav')\n",
    "\n",
    "#running the prediction for test data\n",
    "model_test = pd.DataFrame()\n",
    "model_test['Page'] = complete_train.Page.values\n",
    "for test_index in range(len(test_days)):\n",
    "    X         = np.log1p(timeseries_X.iloc[:,-best_window:])\n",
    "    X_lagged  = np.hstack((X_pagename_te, X))\n",
    "    predicted = [ np.ceil(np.expm1(x)) for x in xgb.predict(X_lagged) ]\n",
    "    model_test[test_days[test_index]]   = predicted\n",
    "    timeseries_X[test_days[test_index]] = predicted"
   ]
  },
  {
   "cell_type": "code",
   "execution_count": null,
   "metadata": {
    "colab": {},
    "colab_type": "code",
    "id": "Z1qFHAmqDIyV"
   },
   "outputs": [],
   "source": [
    "f = open('XGBRegression_Page_Count.csv', 'w')\n",
    "f.write('Page|Visits'+'\\n')\n",
    "for col in model_test.iloc[:,-62:].columns.tolist():\n",
    "  test_data = model_test[['Page',col]]\n",
    "  pageviews = [ str(int(x)) for x in test_data.iloc[:,-1] ]\n",
    "  pagename  = [ x+'_'+test_data.columns.tolist()[-1] for x in test_data.iloc[:,0] ]\n",
    "  page_view = list(zip(pagename,pageviews))\n",
    "  #writing it into file\n",
    "  for line in page_view:\n",
    "    n, c = line\n",
    "    f.write(n+'|'+c)\n",
    "    f.write('\\n')\n",
    "f.close()\n",
    "\n",
    "test_data_final = pd.read_csv('./XGBRegression_Page_Count.csv', sep='|')\n",
    "\n",
    "#saving the final file\n",
    "page_key.merge(test_data_final, how='left', on='Page')[['Id', 'Visits']].fillna(0).to_csv('./Test_Data_XGBRegression.csv', index=False)"
   ]
  },
  {
   "cell_type": "markdown",
   "metadata": {
    "colab_type": "text",
    "id": "R7Fdei0nE-OI"
   },
   "source": [
    "![image.png](data:image/png;base64,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)"
   ]
  },
  {
   "cell_type": "code",
   "execution_count": null,
   "metadata": {
    "colab": {},
    "colab_type": "code",
    "id": "JDnka_BHFYv1"
   },
   "outputs": [],
   "source": [
    "models['XGBoost Regression'].append('43.48438')"
   ]
  },
  {
   "cell_type": "markdown",
   "metadata": {
    "colab_type": "text",
    "id": "h1gY7KWq8AZf"
   },
   "source": [
    "# [2] Conclusion"
   ]
  },
  {
   "cell_type": "code",
   "execution_count": 18,
   "metadata": {
    "colab": {
     "base_uri": "https://localhost:8080/",
     "height": 204
    },
    "colab_type": "code",
    "id": "O-W96Bra8AZg",
    "outputId": "550b46ca-4eb6-4637-e34b-fddbb31746fa",
    "scrolled": true
   },
   "outputs": [
    {
     "name": "stdout",
     "output_type": "stream",
     "text": [
      "+--------------------------------+-------------+------------+---------------+--------------+\n",
      "|             Model              | Best Window | Test SMAPE |   Test RMSE   | Kaggle Score |\n",
      "+--------------------------------+-------------+------------+---------------+--------------+\n",
      "|          Window Mean           |      7      |  78.2602   |   56034.8452  |   44.9267    |\n",
      "|  Linear Regression(Sq. Loss)   |      90     |  60.02821  |  42788.35482  |   58.3880    |\n",
      "|    Decision Tree Regression    |     365     |  46.8727   |   13554.7280  |   45.97623   |\n",
      "|      AdaBoost Regression       |     365     |  47.0073   |   11182.3710  |   46.2209    |\n",
      "|    RandomForest Regression     |      90     |  45.8333   |   18395.0729  |   44.78047   |\n",
      "| Linear Regression (Huber LOSS) |      90     |  45.69585  |  28966.58932  |  199.99794   |\n",
      "|       XGBoost Regression       |     365     |  46.62962  | 1057967.76496 |   43.48438   |\n",
      "+--------------------------------+-------------+------------+---------------+--------------+\n"
     ]
    }
   ],
   "source": [
    "from prettytable import PrettyTable\n",
    "    \n",
    "ml_models = PrettyTable()\n",
    "\n",
    "ml_models.field_names = [\"Model\", \"Best Window\", \"Test SMAPE\", \"Test RMSE\", \"Kaggle Score\"]\n",
    "\n",
    "for k, v in models.items():\n",
    "    ml_models.add_row([k,v[0], round(v[1], 5), round(v[2], 5), round(v[3], 5)])\n",
    "\n",
    "print(ml_models)"
   ]
  },
  {
   "cell_type": "markdown",
   "metadata": {
    "colab_type": "text",
    "id": "QT-anD0H8AZ1"
   },
   "source": [
    "<p>\n",
    "    Our main approach in this modeling is to use previous data to forecast the pageviews of test data. Here, 6 ML models\n",
    "    <li>Simple Window Average</li>\n",
    "    <li>Linear Regression with Square Loss</li>\n",
    "    <li>Linear Regression with Huber Loss</li>\n",
    "    <li>Decision Trees</li>\n",
    "    <li>Random Forest</li>\n",
    "    <li>XGBoost Regression</li>\n",
    "</p>\n",
    "<p><li>From the Test SMAPE values as well as RMSE values, we see lowest SMAPE observed for Linear Regresson with Huber Loss but the same model failed on actual test data.</li></p>\n",
    "<p><li>Also, lower value of SMAPE can be observed for XGBoost Regression except the RMSE for the same is higher for this model. Kaggle score for this was also observed to be lowest.</li></p>"
   ]
  },
  {
   "cell_type": "markdown",
   "metadata": {
    "colab_type": "text",
    "id": "iCHHmUSN8AZ1"
   },
   "source": [
    "<p>\n",
    "    <li>Analysis of the ML modeling shows, the model is able to fit the data but the timely meaning or relationship in the data is not captured by ML models as their main task is to find the best fit hyper-plane that can fit the guven data</li>\n",
    "</p>\n",
    "<p>\n",
    "    <li>High Test SMAPE is a result of ML models unable to capture this timely relationship of the data. And hence, performance of the models can be further increased with the help of DL models</li>\n",
    "</p>"
   ]
  }
 ],
 "metadata": {
  "colab": {
   "collapsed_sections": [],
   "name": "Web_Traffic_Time_Series_Forecasting_ML_Modeling_version2.1.ipynb",
   "provenance": []
  },
  "kernelspec": {
   "display_name": "Python 3",
   "language": "python",
   "name": "python3"
  },
  "language_info": {
   "codemirror_mode": {
    "name": "ipython",
    "version": 3
   },
   "file_extension": ".py",
   "mimetype": "text/x-python",
   "name": "python",
   "nbconvert_exporter": "python",
   "pygments_lexer": "ipython3",
   "version": "3.7.6"
  }
 },
 "nbformat": 4,
 "nbformat_minor": 1
}
